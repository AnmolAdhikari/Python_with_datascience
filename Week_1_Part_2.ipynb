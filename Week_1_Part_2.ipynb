{
 "cells": [
  {
   "cell_type": "markdown",
   "id": "f38fd11a",
   "metadata": {},
   "source": [
    "## Contents for this session\n",
    "\n",
    "- [**Conditional Statements**](#section-1)\n",
    "    - `if`,`else` statement\n",
    "    - `if`,`elif`, `else` statement\n",
    "- [**For loops**](#section-2)\n",
    "    - nested `for` loop\n",
    "- [**While Loops**](#section-3)"
   ]
  },
  {
   "cell_type": "markdown",
   "id": "608ed57e",
   "metadata": {},
   "source": [
    "<a id=\"section-1\"></a>\n",
    "### Conditional Statements\n",
    "\n",
    "Conditional statements in Python are used to perform different actions based on different conditions. They allow the program to make decisions and execute specific code blocks depending on whether a condition is true or false. The main conditional statements in Python are:\n",
    "\n",
    "1. `if` statement: It is used to execute a block of code if a specific condition is true.\n",
    "\n",
    "```python\n",
    "if condition:\n",
    "    # Code to be executed if the condition is true\n",
    "```\n",
    "\n",
    "2. `else` statement: It is used to execute a block of code if the preceding `if` condition is false.\n",
    "\n",
    "```python\n",
    "if condition:\n",
    "    # Code to be executed if the condition is true\n",
    "else:\n",
    "    # Code to be executed if the condition is false\n",
    "```\n",
    "3. `elif` statement: It is short for \"else if\" and is used to check multiple conditions one by one. It is used following an `if` statement or another `elif` statement.\n",
    "\n",
    "```python\n",
    "if condition1:\n",
    "    # Code to be executed if condition1 is true\n",
    "elif condition2:\n",
    "    # Code to be executed if condition2 is true\n",
    "elif condition3:\n",
    "    # Code to be executed if condition3 is true\n",
    "else:\n",
    "    # Code to be executed if all conditions are false\n",
    "```"
   ]
  },
  {
   "cell_type": "markdown",
   "id": "2a1ef74c",
   "metadata": {},
   "source": [
    "**`if`,`else` statement**"
   ]
  },
  {
   "cell_type": "markdown",
   "id": "f8fc77c0",
   "metadata": {},
   "source": [
    "Check if a number is odd or even."
   ]
  },
  {
   "cell_type": "code",
   "execution_count": null,
   "id": "3602b41a",
   "metadata": {},
   "outputs": [],
   "source": [
    "number = int(input(\"Enter a number\"))\n",
    "\n",
    "if number % 2 == 0:\n",
    "    print(\"It is even\")\n",
    "else:\n",
    "    print(\"Odd\")"
   ]
  },
  {
   "cell_type": "markdown",
   "id": "ca7f3768",
   "metadata": {},
   "source": [
    "Range defining condition: Check if it is teenage or not."
   ]
  },
  {
   "cell_type": "code",
   "execution_count": null,
   "id": "fadd0ac6",
   "metadata": {},
   "outputs": [],
   "source": [
    "age = int(input(\"Enter your age: \"))\n",
    "\n",
    "if age>=13 and age<20:\n",
    "    print(\"Teenage\")\n",
    "else:\n",
    "    print(\"Not a teenager\")"
   ]
  },
  {
   "cell_type": "markdown",
   "id": "db803077",
   "metadata": {},
   "source": [
    "**`if`,`elif`, `else` statement**"
   ]
  },
  {
   "cell_type": "markdown",
   "id": "541c8444",
   "metadata": {},
   "source": [
    "Check if a number is positive, negative, or zero."
   ]
  },
  {
   "cell_type": "code",
   "execution_count": null,
   "id": "1a1838a4",
   "metadata": {},
   "outputs": [],
   "source": [
    "number = int(input(\"Enter a number: \"))\n",
    "\n",
    "if number > 0:\n",
    "    print(\"Positive number\")\n",
    "elif number < 0:\n",
    "    print(\"Negative number\")\n",
    "else:\n",
    "    print(\"The number is ZERO!!!\")"
   ]
  },
  {
   "cell_type": "markdown",
   "id": "673ab46f",
   "metadata": {},
   "source": [
    "**[EXERCISE]**  \n",
    "Implement the grading condition problem.  \n",
    "\n",
    "A+ => 90 - 100  \n",
    "A => 80 - 90  \n",
    "B => 60 - 80  \n",
    "C => 40 - 60  \n",
    "D => <40  "
   ]
  },
  {
   "cell_type": "code",
   "execution_count": null,
   "id": "d5bebc5a",
   "metadata": {},
   "outputs": [],
   "source": [
    "marks = int(input(\"Enter your marks\"))\n",
    "\n",
    "if marks >= 90 and marks <= 100:\n",
    "    print(\"A+\")\n",
    "elif marks >= 80 and marks < 90:\n",
    "    print(\"A\")\n",
    "elif marks >= 60 and marks < 80:\n",
    "    print(\"B\")\n",
    "elif marks >= 40 and marks < 60:\n",
    "    print(\"C\")\n",
    "elif marks >= 0 and marks < 40:\n",
    "    print(\"D\")\n",
    "else:\n",
    "    print(\"Invalid marks\")"
   ]
  },
  {
   "cell_type": "markdown",
   "id": "e7dec65d",
   "metadata": {},
   "source": [
    "<a id=\"section-2\"></a>\n",
    "### For Loops"
   ]
  },
  {
   "cell_type": "markdown",
   "id": "f386146d",
   "metadata": {},
   "source": [
    "Looping through a string"
   ]
  },
  {
   "cell_type": "code",
   "execution_count": null,
   "id": "766a82df",
   "metadata": {},
   "outputs": [],
   "source": [
    "word = \"Kathmandu\"\n",
    "for i in word:\n",
    "    print(i)"
   ]
  },
  {
   "cell_type": "code",
   "execution_count": null,
   "id": "788135f1",
   "metadata": {},
   "outputs": [],
   "source": [
    "a = 456\n",
    "for i in a:\n",
    "    print(i)"
   ]
  },
  {
   "cell_type": "markdown",
   "id": "a2ff207a",
   "metadata": {},
   "source": [
    "Looping through a numeric range"
   ]
  },
  {
   "cell_type": "code",
   "execution_count": null,
   "id": "a78bae6f",
   "metadata": {},
   "outputs": [],
   "source": [
    "for i in range(1,11):\n",
    "    print(i)"
   ]
  },
  {
   "cell_type": "markdown",
   "id": "8d196f84",
   "metadata": {},
   "source": [
    "Skipping the loop"
   ]
  },
  {
   "cell_type": "code",
   "execution_count": null,
   "id": "e5d58b67",
   "metadata": {},
   "outputs": [],
   "source": [
    "for i in range(1,11,2):\n",
    "    print(i)"
   ]
  },
  {
   "cell_type": "code",
   "execution_count": null,
   "id": "e6e33db3",
   "metadata": {},
   "outputs": [],
   "source": [
    "for i in range(2,11,2):\n",
    "    print(i)"
   ]
  },
  {
   "cell_type": "markdown",
   "id": "c5a511aa",
   "metadata": {},
   "source": [
    "**[EXERCISE]**  \n",
    "\n",
    "Using `f-string` and `for` loop print the following  \n",
    "```\n",
    "The value of 7 * 1 is 7  \n",
    "The value of 7 * 2 is 14  \n",
    "...  \n",
    "The value of 7 * 10 is 70  \n",
    "```"
   ]
  },
  {
   "cell_type": "code",
   "execution_count": null,
   "id": "2ca95bbb",
   "metadata": {},
   "outputs": [],
   "source": [
    "n = 7\n",
    "for i in range(1,11):\n",
    "    print(f\"The value of {n} * {i} is {n*i}\")"
   ]
  },
  {
   "cell_type": "markdown",
   "id": "39ea4358",
   "metadata": {},
   "source": [
    "**[EXERCISE]**  \n",
    "Print odd numbers between 1 to 10 with only `range(1,11)`"
   ]
  },
  {
   "cell_type": "code",
   "execution_count": null,
   "id": "c2645a1d",
   "metadata": {},
   "outputs": [],
   "source": [
    "for i in range(1,11):\n",
    "    if i%2==1:\n",
    "        print(i)"
   ]
  },
  {
   "cell_type": "markdown",
   "id": "5004b7d4",
   "metadata": {},
   "source": [
    "**[EXERCISE]**  \n",
    "Can you find the sum of numbers from 1 to 100?"
   ]
  },
  {
   "cell_type": "code",
   "execution_count": null,
   "id": "915b93b3",
   "metadata": {},
   "outputs": [],
   "source": [
    "s = 0\n",
    "for i in range(1,101):\n",
    "    s = s + i\n",
    "print(s)"
   ]
  },
  {
   "cell_type": "markdown",
   "id": "88e7f783",
   "metadata": {},
   "source": [
    "**[EXERCISE]**  \n",
    "Sum of even numbers from 1 to 100"
   ]
  },
  {
   "cell_type": "code",
   "execution_count": null,
   "id": "b69a1886",
   "metadata": {},
   "outputs": [],
   "source": [
    "s=0\n",
    "for i in range(2,101,2):\n",
    "    s=s+i\n",
    "print(s)"
   ]
  },
  {
   "cell_type": "code",
   "execution_count": null,
   "id": "a1b929ad",
   "metadata": {},
   "outputs": [],
   "source": [
    "s = 0\n",
    "for i in range(1,101):\n",
    "    if i%2==0:\n",
    "        s = s + i\n",
    "print(s)"
   ]
  },
  {
   "cell_type": "markdown",
   "id": "48fc1424",
   "metadata": {},
   "source": [
    "**[EXERCISE]**  \n",
    "Find the factorial of a number using the similar approach.  \n",
    "Ask for user input.  \n",
    "Example: Factorial of `5` is `5! = 5*4*3*2*1 = 120`"
   ]
  },
  {
   "cell_type": "code",
   "execution_count": null,
   "id": "5d23dfe9",
   "metadata": {},
   "outputs": [],
   "source": [
    "num = int(input(\"Enter a number: \"))\n",
    "\n",
    "factorial = 1\n",
    "\n",
    "if num < 0:\n",
    "    print(\"Sorry, factorial does not exist for negative numbers\")\n",
    "elif num == 0:\n",
    "    print(\"The factorial of 0 is 1\")\n",
    "else:\n",
    "    for i in range(1,num + 1):\n",
    "        factorial = factorial*i\n",
    "    print(\"The factorial of\",num,\"is\",factorial)"
   ]
  },
  {
   "cell_type": "markdown",
   "id": "50a161a6",
   "metadata": {},
   "source": [
    "**[EXERCISE]**  \n",
    "Count the number of the character `o` in the word `pneumonoultramicroscopicsilicovolcanoconeosis`"
   ]
  },
  {
   "cell_type": "code",
   "execution_count": null,
   "id": "bfdbb8da",
   "metadata": {},
   "outputs": [],
   "source": [
    "word = \"pneumonoultramicroscopicsilicovolcanoconeosis\"\n",
    "c = 0\n",
    "for i in word:\n",
    "    if i=='o':\n",
    "        c=c+1\n",
    "print(c)"
   ]
  },
  {
   "cell_type": "markdown",
   "id": "7b4af659",
   "metadata": {},
   "source": [
    "**Nested `for` loop**"
   ]
  },
  {
   "cell_type": "code",
   "execution_count": null,
   "id": "75dbd567",
   "metadata": {},
   "outputs": [],
   "source": [
    "for i in range(1, 4):\n",
    "    for j in range(1, 4):\n",
    "        print(f\"{i}, {j}\")"
   ]
  },
  {
   "cell_type": "markdown",
   "id": "9d754efd",
   "metadata": {},
   "source": [
    "<a id=\"section-3\"></a>\n",
    "### While Loops"
   ]
  },
  {
   "cell_type": "code",
   "execution_count": null,
   "id": "eb559bb3",
   "metadata": {},
   "outputs": [],
   "source": [
    "for i in range(1,11):\n",
    "    print(i)"
   ]
  },
  {
   "cell_type": "code",
   "execution_count": 2,
   "id": "0226a00d",
   "metadata": {},
   "outputs": [
    {
     "name": "stdout",
     "output_type": "stream",
     "text": [
      "1\n",
      "2\n",
      "3\n",
      "4\n",
      "5\n",
      "6\n",
      "7\n",
      "8\n",
      "9\n",
      "10\n"
     ]
    }
   ],
   "source": [
    "i=1 # starting \n",
    "while(i<11): # condition\n",
    "    print(i)\n",
    "    i+=1"
   ]
  },
  {
   "cell_type": "markdown",
   "id": "df80682a",
   "metadata": {},
   "source": [
    "**[EXERCISE]**  \n",
    "Using `while` loop, can you print the odd numbers from 1 to 100?"
   ]
  },
  {
   "cell_type": "code",
   "execution_count": 3,
   "id": "7faa7274",
   "metadata": {},
   "outputs": [
    {
     "name": "stdout",
     "output_type": "stream",
     "text": [
      "1\n",
      "3\n",
      "5\n",
      "7\n",
      "9\n",
      "11\n",
      "13\n",
      "15\n",
      "17\n",
      "19\n",
      "21\n",
      "23\n",
      "25\n",
      "27\n",
      "29\n",
      "31\n",
      "33\n",
      "35\n",
      "37\n",
      "39\n",
      "41\n",
      "43\n",
      "45\n",
      "47\n",
      "49\n",
      "51\n",
      "53\n",
      "55\n",
      "57\n",
      "59\n",
      "61\n",
      "63\n",
      "65\n",
      "67\n",
      "69\n",
      "71\n",
      "73\n",
      "75\n",
      "77\n",
      "79\n",
      "81\n",
      "83\n",
      "85\n",
      "87\n",
      "89\n",
      "91\n",
      "93\n",
      "95\n",
      "97\n",
      "99\n"
     ]
    }
   ],
   "source": [
    "i=1 # starting \n",
    "while(i<101): # condition\n",
    "    print(i)\n",
    "    i+=2"
   ]
  },
  {
   "cell_type": "markdown",
   "id": "80867e57",
   "metadata": {},
   "source": [
    "**[EXERCISE]**  \n",
    "Using `while` loop, can you find the sum of numbers from 1 to 100?"
   ]
  },
  {
   "cell_type": "code",
   "execution_count": null,
   "id": "35720b88",
   "metadata": {},
   "outputs": [],
   "source": [
    "i= 1\n",
    "s = 0\n",
    "while i<101:\n",
    "    s=s+i\n",
    "    i+=1\n",
    "print(s)"
   ]
  },
  {
   "cell_type": "markdown",
   "id": "b21bc475",
   "metadata": {},
   "source": [
    "**[EXERCISE]**  \n",
    "Using `while` loop, can you print even numbers from 1 to 100?"
   ]
  },
  {
   "cell_type": "code",
   "execution_count": null,
   "id": "a7a3ee13",
   "metadata": {},
   "outputs": [],
   "source": [
    "i=2\n",
    "s=0\n",
    "while i<=100:\n",
    "    s=s+i\n",
    "    i=i+2\n",
    "print(s)"
   ]
  },
  {
   "cell_type": "markdown",
   "id": "0cc5282f",
   "metadata": {},
   "source": [
    "**[EXERCISE]**  \n",
    "Print the multiples of 7 upto 10th term using `for` and `while` loop"
   ]
  },
  {
   "cell_type": "code",
   "execution_count": null,
   "id": "96969a95",
   "metadata": {},
   "outputs": [],
   "source": [
    "a=7\n",
    "s=1\n",
    "for i in range(1,11):\n",
    "    s=a*i\n",
    "    print(s)"
   ]
  },
  {
   "cell_type": "code",
   "execution_count": null,
   "id": "053047b3",
   "metadata": {},
   "outputs": [],
   "source": [
    "n = 1\n",
    "while n <=10:\n",
    "    multiple = n * 7\n",
    "    print(multiple)\n",
    "    n = n + 1"
   ]
  },
  {
   "cell_type": "code",
   "execution_count": null,
   "id": "7de9e53d",
   "metadata": {},
   "outputs": [],
   "source": [
    "a=7\n",
    "s=1\n",
    "i=1\n",
    "while(i<=10):\n",
    "    s=a*i\n",
    "    i=i+1\n",
    "    print(s)"
   ]
  },
  {
   "cell_type": "markdown",
   "id": "638e8be0",
   "metadata": {},
   "source": [
    "**[EXERCISE]**  \n",
    "Print the factorial of a number using `while` loop."
   ]
  },
  {
   "cell_type": "code",
   "execution_count": null,
   "id": "e31e57fc",
   "metadata": {},
   "outputs": [],
   "source": [
    "n = 5\n",
    "factorial = 1\n",
    "while n > 0:\n",
    "    factorial *= n\n",
    "    n -= 1\n",
    "print(factorial)"
   ]
  },
  {
   "cell_type": "code",
   "execution_count": null,
   "id": "af6275ef",
   "metadata": {},
   "outputs": [],
   "source": []
  },
  {
   "cell_type": "markdown",
   "id": "251b2638",
   "metadata": {},
   "source": [
    "1) Given the BMI of a person, print the following weight status.\n",
    "\n",
    "|   Weight   |       Status        |\n",
    "|------------|--------------------|\n",
    "| Below 18.5 |     Underweight     |\n",
    "| 18.5 to 24.9 |   Normal weight   |\n",
    "| 25 to 29.9 |     Overweight      |\n",
    "| 30 to 34.9 |       Obese         |\n",
    "| 35 to 39.9 |     Very obese      |\n",
    "| Above 40   |   Extremely obese   |\n",
    "\n",
    "\n",
    "\n",
    "\n",
    "2) Using an f-string print the following.  \n",
    "```\n",
    "The value of 13 * 1 is 13  \n",
    "The value of 13 * 2 is 26  \n",
    "The value of 13 * 3 is 39  \n",
    "...  \n",
    "The value of 13 * 10 is 130  \n",
    "```\n",
    "3) Generate the following series.\n",
    "`1,11,111,1111,...,upto 10th term`\n",
    "\n",
    "4) Find the sum of following series.\n",
    "`1+11+111+1111,...,upto 10th term`\n",
    "\n",
    "\n",
    "Hard problems\n",
    "\n",
    "5) Generate the following Fibonacci series.  \n",
    "`1,1,2,3,5,8 upto 10th term`  \n",
    "In the Fibonacci sequence, each number is the sum of the two previous ones.\n",
    "\n",
    "6) Given a number a, find the sum of the digits of the numbers.\n",
    "Eg: if `a = 432`, the answer is `4+3+2 = 8`  \n",
    "[Hint] You might also need to use the `//` operator in Python\n",
    "\n",
    "7) Given a number, check whether the number is Armstrong or not.  \n",
    "Eg: An Armstrong number is one whose sum of digits raised to the power three equals the number itself. 371, for example, is an Armstrong number because 3^3 + 7^3 + 1^3 = 371.\n"
   ]
  },
  {
   "cell_type": "code",
   "execution_count": null,
   "id": "2d89d29f",
   "metadata": {},
   "outputs": [],
   "source": []
  }
 ],
 "metadata": {
  "kernelspec": {
   "display_name": "Python 3 (ipykernel)",
   "language": "python",
   "name": "python3"
  },
  "language_info": {
   "codemirror_mode": {
    "name": "ipython",
    "version": 3
   },
   "file_extension": ".py",
   "mimetype": "text/x-python",
   "name": "python",
   "nbconvert_exporter": "python",
   "pygments_lexer": "ipython3",
   "version": "3.10.11"
  }
 },
 "nbformat": 4,
 "nbformat_minor": 5
}
