{
 "cells": [
  {
   "cell_type": "code",
   "execution_count": null,
   "id": "49fa8d69",
   "metadata": {},
   "outputs": [],
   "source": [
    "import pandas as pd\n",
    "df = pd.read_csv('survey_results_public.csv')\n",
    "schema_df = pd.read_csv('survey_results_schema.csv',index_col='Column')"
   ]
  },
  {
   "cell_type": "code",
   "execution_count": null,
   "id": "936a93b1",
   "metadata": {},
   "outputs": [],
   "source": [
    "df"
   ]
  },
  {
   "cell_type": "code",
   "execution_count": null,
   "id": "d5ab42e8",
   "metadata": {},
   "outputs": [],
   "source": [
    "schema_df"
   ]
  },
  {
   "cell_type": "markdown",
   "id": "2b31f3af",
   "metadata": {},
   "source": [
    "### Filter respondents from Nepal"
   ]
  },
  {
   "cell_type": "code",
   "execution_count": null,
   "id": "b2e40e6b",
   "metadata": {},
   "outputs": [],
   "source": [
    "df['Country'] == 'Nepal'"
   ]
  },
  {
   "cell_type": "markdown",
   "id": "8e9898fe",
   "metadata": {},
   "source": [
    "### So, how many are from Nepal?\n",
    "Can you try counting `True` and `False` using `value_counts`?"
   ]
  },
  {
   "cell_type": "code",
   "execution_count": null,
   "id": "d52dfa75",
   "metadata": {},
   "outputs": [],
   "source": [
    "(df['Country'] == 'Nepal').value_counts()"
   ]
  },
  {
   "cell_type": "markdown",
   "id": "6087c9a2",
   "metadata": {},
   "source": [
    "### Getting Nepal dataframe"
   ]
  },
  {
   "cell_type": "code",
   "execution_count": null,
   "id": "d98f4275",
   "metadata": {},
   "outputs": [],
   "source": [
    "df[df['Country'] == 'Nepal']"
   ]
  },
  {
   "cell_type": "code",
   "execution_count": null,
   "id": "9612571c",
   "metadata": {},
   "outputs": [],
   "source": []
  },
  {
   "cell_type": "code",
   "execution_count": null,
   "id": "a282eeef",
   "metadata": {},
   "outputs": [],
   "source": [
    "filt_nepal = df['Country'] == 'Nepal'"
   ]
  },
  {
   "cell_type": "code",
   "execution_count": null,
   "id": "e030dcb6",
   "metadata": {},
   "outputs": [],
   "source": [
    "df[filt_nepal]"
   ]
  },
  {
   "cell_type": "markdown",
   "id": "2b9163fb",
   "metadata": {},
   "source": [
    "### Another way through `loc`"
   ]
  },
  {
   "cell_type": "code",
   "execution_count": null,
   "id": "c15468c6",
   "metadata": {},
   "outputs": [],
   "source": [
    "df.loc[filt_nepal]"
   ]
  },
  {
   "cell_type": "markdown",
   "id": "3ddde070",
   "metadata": {},
   "source": [
    "### Lets see what Nepali think of their Managers\n",
    "Check the `MgrIdiot` of Nepali people"
   ]
  },
  {
   "cell_type": "code",
   "execution_count": null,
   "id": "0e0e0302",
   "metadata": {},
   "outputs": [],
   "source": [
    "df.loc[filt_nepal,'MgrIdiot']"
   ]
  },
  {
   "cell_type": "markdown",
   "id": "0ca75fa8",
   "metadata": {},
   "source": [
    "### How to get the count of `MgrIdiot`?"
   ]
  },
  {
   "cell_type": "code",
   "execution_count": null,
   "id": "034d6973",
   "metadata": {},
   "outputs": [],
   "source": [
    "df.loc[filt_nepal,'MgrIdiot'].value_counts()"
   ]
  },
  {
   "cell_type": "markdown",
   "id": "1ca9c581",
   "metadata": {},
   "source": [
    "### Getting the plot of MgrIdiot"
   ]
  },
  {
   "cell_type": "markdown",
   "id": "93525fed",
   "metadata": {},
   "source": [
    "Install matplotlib first  \n",
    "`!pip install matplotlib`"
   ]
  },
  {
   "cell_type": "code",
   "execution_count": null,
   "id": "692b2fb8",
   "metadata": {},
   "outputs": [],
   "source": [
    "df.loc[filt_nepal,'MgrIdiot'].value_counts().plot.bar()"
   ]
  },
  {
   "cell_type": "code",
   "execution_count": null,
   "id": "3c1124a9",
   "metadata": {},
   "outputs": [],
   "source": [
    "df.loc[filt_nepal,'MgrIdiot'].value_counts().plot.pie()"
   ]
  },
  {
   "cell_type": "markdown",
   "id": "adaa461f",
   "metadata": {},
   "source": [
    "### Using `&` operator for multiple queries"
   ]
  },
  {
   "cell_type": "markdown",
   "id": "8ebdf560",
   "metadata": {},
   "source": [
    "**Who are the Nepalese who think their manager is actually idiot?**"
   ]
  },
  {
   "cell_type": "code",
   "execution_count": null,
   "id": "008d8215",
   "metadata": {},
   "outputs": [],
   "source": [
    "filt_idiot = (df['Country'] == 'Nepal') & (df['MgrIdiot'] == 'Not at all confident') \n",
    "filt_idiot"
   ]
  },
  {
   "cell_type": "code",
   "execution_count": null,
   "id": "1b020940",
   "metadata": {},
   "outputs": [],
   "source": [
    "df.loc[filt_idiot]"
   ]
  },
  {
   "cell_type": "code",
   "execution_count": null,
   "id": "bc95f960",
   "metadata": {},
   "outputs": [],
   "source": [
    "df.loc[filt_idiot, 'ConvertedComp']  # annual USD salary"
   ]
  },
  {
   "cell_type": "code",
   "execution_count": null,
   "id": "3074125b",
   "metadata": {},
   "outputs": [],
   "source": [
    "df.loc[filt_idiot, 'ConvertedComp'].mean()"
   ]
  },
  {
   "cell_type": "code",
   "execution_count": null,
   "id": "a7713c6b",
   "metadata": {},
   "outputs": [],
   "source": [
    "df.loc[filt_idiot, 'ConvertedComp'].median()"
   ]
  },
  {
   "cell_type": "markdown",
   "id": "8e2d2678",
   "metadata": {},
   "source": [
    "### Welcome change?\n",
    "- Extract the `QuestionText` of the index called `WelcomeChange` from `schema_df`.\n",
    "- Display the `WelcomeChange` column from original dataframe `df`.\n",
    "- From our original dataframe `df`, find the `value_counts()` of `WelcomeChange`\n",
    "- Show the bar graph plot"
   ]
  },
  {
   "cell_type": "code",
   "execution_count": null,
   "id": "3b8dbd16",
   "metadata": {},
   "outputs": [],
   "source": [
    "schema_df.loc['WelcomeChange','QuestionText']"
   ]
  },
  {
   "cell_type": "code",
   "execution_count": null,
   "id": "ee0361e0",
   "metadata": {},
   "outputs": [],
   "source": [
    "df['WelcomeChange']"
   ]
  },
  {
   "cell_type": "code",
   "execution_count": null,
   "id": "78356741",
   "metadata": {},
   "outputs": [],
   "source": [
    "df['WelcomeChange'].value_counts()"
   ]
  },
  {
   "cell_type": "code",
   "execution_count": null,
   "id": "37e5df38",
   "metadata": {},
   "outputs": [],
   "source": [
    "df['WelcomeChange'].value_counts().plot.bar()"
   ]
  },
  {
   "cell_type": "markdown",
   "id": "4cad4b4d",
   "metadata": {},
   "source": [
    "### High salary Nepalese\n",
    "Doing multiple queries?  \n",
    "  \n",
    "- Filter the respondents who are from Nepal and whose salary is greater than `10000`. (Hint: `ConvertedComp` column.)   \n",
    "- What is their `Employment` type and display their `value_counts`? (Hint: Column name is `Employment`)"
   ]
  },
  {
   "cell_type": "code",
   "execution_count": null,
   "id": "20dcf251",
   "metadata": {},
   "outputs": [],
   "source": [
    "schema_df.loc['ConvertedComp']"
   ]
  },
  {
   "cell_type": "code",
   "execution_count": null,
   "id": "78fb1367",
   "metadata": {},
   "outputs": [],
   "source": [
    "schema_df.loc['ConvertedComp', 'QuestionText']"
   ]
  },
  {
   "cell_type": "code",
   "execution_count": null,
   "id": "dc740638",
   "metadata": {},
   "outputs": [],
   "source": [
    "df['ConvertedComp']"
   ]
  },
  {
   "cell_type": "code",
   "execution_count": null,
   "id": "c9e1dc18",
   "metadata": {},
   "outputs": [],
   "source": [
    "filt_salary = (df['Country'] == 'Nepal') & (df['ConvertedComp'] > 10000)\n",
    "df.loc[filt_salary]"
   ]
  },
  {
   "cell_type": "code",
   "execution_count": null,
   "id": "e9fea2ee",
   "metadata": {},
   "outputs": [],
   "source": [
    "df.loc[filt_salary,'Employment']"
   ]
  },
  {
   "cell_type": "code",
   "execution_count": null,
   "id": "dd25b744",
   "metadata": {},
   "outputs": [],
   "source": [
    "df.loc[filt_salary,'Employment'].value_counts()"
   ]
  },
  {
   "cell_type": "markdown",
   "id": "e5334ca5",
   "metadata": {},
   "source": [
    "### What are Nepali people using as tech stack?\n",
    "Hint: Check `LanguageWorkedWith` in `schema_df` to know more."
   ]
  },
  {
   "cell_type": "code",
   "execution_count": null,
   "id": "35f1b160",
   "metadata": {},
   "outputs": [],
   "source": [
    "schema_df.loc['LanguageWorkedWith', 'QuestionText']"
   ]
  },
  {
   "cell_type": "code",
   "execution_count": null,
   "id": "82a10d27",
   "metadata": {},
   "outputs": [],
   "source": []
  },
  {
   "cell_type": "code",
   "execution_count": null,
   "id": "6e78b4e6",
   "metadata": {},
   "outputs": [],
   "source": [
    "df.loc[filt_nepal,'LanguageWorkedWith']"
   ]
  },
  {
   "cell_type": "markdown",
   "id": "d06f1b7b",
   "metadata": {},
   "source": [
    "### Language + Salary\n",
    "Show the `LanguageWorkedWith`,`ConvertedComp` info of developers of Nepal."
   ]
  },
  {
   "cell_type": "code",
   "execution_count": null,
   "id": "630335b1",
   "metadata": {},
   "outputs": [],
   "source": [
    "\n",
    "df.loc[filt_nepal,['LanguageWorkedWith','ConvertedComp']]"
   ]
  },
  {
   "cell_type": "markdown",
   "id": "e8b76a35",
   "metadata": {},
   "source": [
    "### Python users from Nepal"
   ]
  },
  {
   "cell_type": "code",
   "execution_count": null,
   "id": "06050600",
   "metadata": {},
   "outputs": [],
   "source": [
    "df.loc[filt_nepal,'LanguageWorkedWith'].str.contains('Python')"
   ]
  },
  {
   "cell_type": "code",
   "execution_count": null,
   "id": "38b58199",
   "metadata": {},
   "outputs": [],
   "source": [
    "df.loc[filt_nepal,'LanguageWorkedWith'].str.contains('Python').value_counts()"
   ]
  },
  {
   "cell_type": "code",
   "execution_count": null,
   "id": "3b5b313f",
   "metadata": {},
   "outputs": [],
   "source": [
    "df.loc[filt_nepal,'LanguageWorkedWith'].str.contains('Python').value_counts().plot.bar()"
   ]
  },
  {
   "cell_type": "code",
   "execution_count": null,
   "id": "0ce85cb2",
   "metadata": {},
   "outputs": [],
   "source": []
  },
  {
   "cell_type": "markdown",
   "id": "316817f8",
   "metadata": {},
   "source": [
    "### Plot the number of `PHP` users from Nepal using `Bar` and `Pie` chart."
   ]
  },
  {
   "cell_type": "code",
   "execution_count": null,
   "id": "eedc17df",
   "metadata": {},
   "outputs": [],
   "source": [
    "df.loc[filt_nepal,'LanguageWorkedWith'].str.contains('PHP').value_counts()"
   ]
  },
  {
   "cell_type": "code",
   "execution_count": null,
   "id": "c19066c1",
   "metadata": {},
   "outputs": [],
   "source": []
  }
 ],
 "metadata": {
  "kernelspec": {
   "display_name": "Python 3 (ipykernel)",
   "language": "python",
   "name": "python3"
  },
  "language_info": {
   "codemirror_mode": {
    "name": "ipython",
    "version": 3
   },
   "file_extension": ".py",
   "mimetype": "text/x-python",
   "name": "python",
   "nbconvert_exporter": "python",
   "pygments_lexer": "ipython3",
   "version": "3.10.11"
  }
 },
 "nbformat": 4,
 "nbformat_minor": 5
}
