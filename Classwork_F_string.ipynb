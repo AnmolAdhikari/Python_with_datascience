{
  "nbformat": 4,
  "nbformat_minor": 0,
  "metadata": {
    "colab": {
      "provenance": []
    },
    "kernelspec": {
      "name": "python3",
      "display_name": "Python 3"
    },
    "language_info": {
      "name": "python"
    }
  },
  "cells": [
    {
      "cell_type": "code",
      "execution_count": 1,
      "metadata": {
        "colab": {
          "base_uri": "https://localhost:8080/"
        },
        "id": "FjEhuX9zFYe_",
        "outputId": "1784e029-be14-4c4b-936e-a68c3f468fb0"
      },
      "outputs": [
        {
          "output_type": "stream",
          "name": "stdout",
          "text": [
            "Enter the radius of the circle: 10\n",
            "The area of the circle is 314.16\n"
          ]
        }
      ],
      "source": [
        "# Input the radius of the circle from the user\n",
        "radius_str = input(\"Enter the radius of the circle: \")\n",
        "\n",
        "# Convert the user's input to a float\n",
        "radius = float(radius_str)\n",
        "\n",
        "# Calculate the area of the circle\n",
        "area = 3.14159265358979323846 * (radius ** 2)\n",
        "\n",
        "# Display the result using an f-string\n",
        "print(f\"The area of the circle is {area:.2f}\")\n"
      ]
    },
    {
      "cell_type": "code",
      "source": [
        "# Input the user's birth year\n",
        "birth_year_str = input(\"Enter your birth year: \")\n",
        "\n",
        "# Convert the user's input to an integer\n",
        "birth_year = int(birth_year_str)\n",
        "\n",
        "# Calculate the current year (you can manually update this if needed)\n",
        "current_year = 2023\n",
        "\n",
        "# Calculate the user's age\n",
        "age = current_year - birth_year\n",
        "\n",
        "# Display the result using an f-string\n",
        "print(f\"Your age is {age} years old\")\n"
      ],
      "metadata": {
        "colab": {
          "base_uri": "https://localhost:8080/"
        },
        "id": "fSHPvi3MFZQh",
        "outputId": "7587d8c6-50f0-458c-f716-770e5253d902"
      },
      "execution_count": 2,
      "outputs": [
        {
          "output_type": "stream",
          "name": "stdout",
          "text": [
            "Enter your birth year: 2000\n",
            "Your age is 23 years old\n"
          ]
        }
      ]
    },
    {
      "cell_type": "code",
      "source": [
        "# Input weight in kilograms and height in meters from the user\n",
        "weight = float(input(\"Enter your weight in kilograms: \"))\n",
        "height = float(input(\"Enter your height in meters: \"))\n",
        "\n",
        "# Calculate BMI\n",
        "bmi = weight / (height ** 2)\n",
        "\n",
        "# Define BMI interpretations\n",
        "interpretations = {\n",
        "    bmi < 18.5: \"underweight\",\n",
        "    18.5 <= bmi < 24.9: \"healthy weight\",\n",
        "    24.9 <= bmi < 29.9: \"overweight\",\n",
        "}\n",
        "\n",
        "# Determine the interpretation using a conditional expression (ternary operator)\n",
        "interpretation = interpretations.get(True, \"obese\")\n",
        "\n",
        "# Display BMI and interpretation using an f-string\n",
        "print(f\"Your BMI is {bmi:.2f}, which indicates {interpretation}.\")\n"
      ],
      "metadata": {
        "id": "2uq7vtdIHfm6"
      },
      "execution_count": null,
      "outputs": []
    },
    {
      "cell_type": "code",
      "source": [
        "# Input the user's first name and last name\n",
        "first_name = input(\"Enter your first name: \")\n",
        "last_name = input(\"Enter your last name: \")\n",
        "\n",
        "# Display full name using an f-string\n",
        "print(f\"First Name: {first_name}, Last Name: {last_name}\")\n"
      ],
      "metadata": {
        "id": "haiy_m_RHi8O"
      },
      "execution_count": null,
      "outputs": []
    },
    {
      "cell_type": "code",
      "source": [
        "# Input principal amount, interest rate, and time in years\n",
        "principal = float(input(\"Enter the principal amount: \"))\n",
        "interest_rate = float(input(\"Enter the interest rate (in percentage): \"))\n",
        "time = float(input(\"Enter the time (in years): \"))\n",
        "\n",
        "# Calculate simple interest\n",
        "simple_interest = (principal * interest_rate * time) / 100\n",
        "\n",
        "# Display simple interest using an f-string\n",
        "print(f\"Simple interest is {simple_interest:.2f} dollars.\")\n"
      ],
      "metadata": {
        "id": "2YgmfF8yHj_a"
      },
      "execution_count": null,
      "outputs": []
    },
    {
      "cell_type": "code",
      "source": [
        "# Input the original price and discount percentage\n",
        "original_price = float(input(\"Enter the original price of the item: \"))\n",
        "discount_percentage = float(input(\"Enter the discount percentage: \"))\n",
        "\n",
        "# Calculate discounted price\n",
        "discounted_price = original_price - (original_price * (discount_percentage / 100))\n",
        "\n",
        "# Display discounted price using an f-string\n",
        "print(f\"Discounted price: {discounted_price:.2f} dollars.\")\n"
      ],
      "metadata": {
        "colab": {
          "base_uri": "https://localhost:8080/"
        },
        "id": "QC8DF726Hny3",
        "outputId": "af6ccbb1-511e-438f-d14b-8ee830eb52a0"
      },
      "execution_count": 3,
      "outputs": [
        {
          "output_type": "stream",
          "name": "stdout",
          "text": [
            "Enter the original price of the item: 1998.20\n",
            "Enter the discount percentage: 15\n",
            "Discounted price: 1698.47 dollars.\n"
          ]
        }
      ]
    }
  ]
}