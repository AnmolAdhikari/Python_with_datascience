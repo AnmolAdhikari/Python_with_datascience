{
 "cells": [
  {
   "cell_type": "markdown",
   "metadata": {},
   "source": [
    "# Advance Python"
   ]
  },
  {
   "cell_type": "markdown",
   "metadata": {},
   "source": [
    "Advance Python is a collection of deeper concepts in Python. It is the NEXT step for Python learners who have already learnt the basics."
   ]
  },
  {
   "cell_type": "markdown",
   "metadata": {},
   "source": [
    "# Table of Contents\n",
    "\n",
    "#### 01) [Args and Kwargs](#ch1)\n",
    "#### 02) [Generators](#ch2)\n",
    "#### 03) [Map, Reduce, Filter](#ch3)\n",
    "#### 04) [Sets](#ch4)\n",
    "#### 05) [Decorators](#ch5)\n",
    "#### 06) [Sleep](#ch6)\n",
    "#### 07) [`__slot__`](#ch7)\n",
    "#### 08) [Collections](#ch8)\n",
    "#### 09) [Enumerate](#ch9)\n",
    "#### 10) [Object Inspection](#ch10)\n",
    "#### 11) [Comprehensions](#ch11)\n",
    "#### 12) [Exceptions](#ch12)\n",
    "#### 13) [OOP(Object Oriented Python)](#ch13)\n",
    "#### 14) [Lambdas](#ch14)\n",
    "#### 15) [Zip and Unzip](#ch14)"
   ]
  },
  {
   "cell_type": "markdown",
   "metadata": {},
   "source": [
    "<a id=\"ch1\"></a>\n",
    "## Chapter 1 - Args and Kwargs\n",
    "\n",
    "You must have frequently seen such things in Python.\n",
    "\n",
    "```python\n",
    "def function_name(*args, *kwargs):\n",
    "    # body\n",
    "```\n",
    "Confused with these notations? Don't worry. We all have been there.\n",
    "\n",
    "First of all, it is not mandatory to write the words `args` and `kwargs`. You can go with anything unless you have the asterisk (`*`) sign.\n",
    "\n",
    "#### What is an asterisk (`*`) in Python?\n",
    "\n",
    "https://stackoverflow.com/questions/400739/what-does-asterisk-mean-in-python <br>\n",
    "https://stackoverflow.com/questions/36901/what-does-double-star-asterisk-and-star-asterisk-do-for-parameters\n",
    "\n",
    "Check the above links.\n",
    "\n",
    "#### So, what is `*args` doing?\n",
    "`*args` allows you to pass a desired number of arguments to the function. Let's see an example."
   ]
  },
  {
   "cell_type": "code",
   "execution_count": 1,
   "metadata": {},
   "outputs": [],
   "source": [
    "def demo(*args):\n",
    "    print(args)"
   ]
  },
  {
   "cell_type": "code",
   "execution_count": 2,
   "metadata": {},
   "outputs": [
    {
     "name": "stdout",
     "output_type": "stream",
     "text": [
      "('Humpty', 'Dumpty')\n"
     ]
    }
   ],
   "source": [
    "demo(\"Humpty\", \"Dumpty\")"
   ]
  },
  {
   "cell_type": "code",
   "execution_count": 3,
   "metadata": {},
   "outputs": [
    {
     "name": "stdout",
     "output_type": "stream",
     "text": [
      "('Humpty', 'Dumpty', 'Sat', 'On', 'The', 'Wall')\n"
     ]
    }
   ],
   "source": [
    "demo(\"Humpty\", \"Dumpty\", \"Sat\", \"On\", \"The\", \"Wall\")"
   ]
  },
  {
   "cell_type": "markdown",
   "metadata": {},
   "source": [
    "#### Thus, regardless of number of arguments passed, `*args` is showing you the result.\n",
    "Doesn't matter if you pass `(\"Humpty\", \"Dumpty\")` or `(\"Humpty\", \"Dumpty\", \"Sat\", \"On\", \"The\", \"Wall\")`, `*args` will handle that for you.\n",
    "Note: As mentioned, you can write anything and not just `args`. Let's try `*whatever`."
   ]
  },
  {
   "cell_type": "code",
   "execution_count": 4,
   "metadata": {},
   "outputs": [
    {
     "name": "stdout",
     "output_type": "stream",
     "text": [
      "('Humpty', 'Dumpty', 'Sat', 'On', 'The', 'Wall')\n"
     ]
    }
   ],
   "source": [
    "def demo(*whatever):\n",
    "    print(whatever)\n",
    "\n",
    "demo(\"Humpty\", \"Dumpty\", \"Sat\", \"On\", \"The\", \"Wall\")"
   ]
  },
  {
   "cell_type": "markdown",
   "metadata": {},
   "source": [
    "And that's perfectly fine!"
   ]
  },
  {
   "cell_type": "markdown",
   "metadata": {},
   "source": [
    "Count the numbers?"
   ]
  },
  {
   "cell_type": "code",
   "execution_count": 8,
   "metadata": {},
   "outputs": [
    {
     "data": {
      "text/plain": [
       "6"
      ]
     },
     "execution_count": 8,
     "metadata": {},
     "output_type": "execute_result"
    }
   ],
   "source": [
    "def demo(*whatever):\n",
    "    c=0\n",
    "    for i in whatever:\n",
    "        c=c+1\n",
    "    return c\n",
    "\n",
    "demo(\"Humpty\", \"Dumpty\", \"Sat\", \"On\", \"The\", \"Wall\")"
   ]
  },
  {
   "cell_type": "markdown",
   "metadata": {},
   "source": [
    "Let's write a function that sums up as many inputs as we want.  \n",
    "`sum(1,2)` should return `3`  \n",
    "`sum(1,2,3,4,5)` should return `15`"
   ]
  },
  {
   "cell_type": "code",
   "execution_count": null,
   "metadata": {},
   "outputs": [],
   "source": []
  },
  {
   "cell_type": "code",
   "execution_count": 6,
   "metadata": {},
   "outputs": [
    {
     "data": {
      "text/plain": [
       "15"
      ]
     },
     "execution_count": 6,
     "metadata": {},
     "output_type": "execute_result"
    }
   ],
   "source": [
    "def sum(*args):\n",
    "    c = 0\n",
    "    for arg in args:\n",
    "        c+=arg\n",
    "    return c\n",
    "\n",
    "sum(1,2,3,4,5)\n"
   ]
  },
  {
   "cell_type": "code",
   "execution_count": 7,
   "metadata": {},
   "outputs": [
    {
     "data": {
      "text/plain": [
       "55"
      ]
     },
     "execution_count": 7,
     "metadata": {},
     "output_type": "execute_result"
    }
   ],
   "source": [
    "sum(1,2,3,4,5,6,7,8,9,10)"
   ]
  },
  {
   "cell_type": "markdown",
   "metadata": {},
   "source": [
    "Doesn't matter if you sum 1 to 5 or 1 to 10, Python will calculate the result for you irrespective of the number of paramters. This is the beauty of `*args`.\n",
    "What about `**kwargs`?\n",
    "Well, they are not much different. Let's try an example."
   ]
  },
  {
   "cell_type": "code",
   "execution_count": 15,
   "metadata": {},
   "outputs": [
    {
     "data": {
      "text/plain": [
       "{'name': 'Humpty', 'location': 'Wall', 'age': 40}"
      ]
     },
     "execution_count": 15,
     "metadata": {},
     "output_type": "execute_result"
    }
   ],
   "source": [
    "def demo(**kwargs):\n",
    "    return kwargs\n",
    "\n",
    "demo(name=\"Humpty\", location=\"Wall\", age=40)"
   ]
  },
  {
   "cell_type": "markdown",
   "metadata": {},
   "source": [
    "`**kwargs` stands for keyword arguments. The only difference is that it uses keywords and returns the values in the form of a dictionary.\n",
    "\n",
    "Now, lets write a normal function and pass arguments through `args` and `kwargs`."
   ]
  },
  {
   "cell_type": "markdown",
   "metadata": {},
   "source": [
    "<a id=\"ch2\"></a>\n",
    "## Chapter 2 - Generators"
   ]
  },
  {
   "cell_type": "markdown",
   "metadata": {},
   "source": [
    "### Iterators:\n",
    "First, let's talk about iterators. Iterators simply iterate through a series of item. It is an object in Python which has a __next__ method defined."
   ]
  },
  {
   "cell_type": "code",
   "execution_count": 25,
   "metadata": {},
   "outputs": [],
   "source": [
    "my_list = [1,2,3,5,8,13]\n",
    "final_list = iter(my_list)"
   ]
  },
  {
   "cell_type": "code",
   "execution_count": 26,
   "metadata": {},
   "outputs": [
    {
     "name": "stdout",
     "output_type": "stream",
     "text": [
      "<list_iterator object at 0x7fa308716520>\n"
     ]
    }
   ],
   "source": [
    "print(final_list)"
   ]
  },
  {
   "cell_type": "code",
   "execution_count": 27,
   "metadata": {},
   "outputs": [
    {
     "data": {
      "text/plain": [
       "1"
      ]
     },
     "execution_count": 27,
     "metadata": {},
     "output_type": "execute_result"
    }
   ],
   "source": [
    "next(final_list)"
   ]
  },
  {
   "cell_type": "code",
   "execution_count": 12,
   "metadata": {},
   "outputs": [
    {
     "data": {
      "text/plain": [
       "2"
      ]
     },
     "execution_count": 12,
     "metadata": {},
     "output_type": "execute_result"
    }
   ],
   "source": [
    "next(final_list)"
   ]
  },
  {
   "cell_type": "code",
   "execution_count": 13,
   "metadata": {},
   "outputs": [
    {
     "data": {
      "text/plain": [
       "3"
      ]
     },
     "execution_count": 13,
     "metadata": {},
     "output_type": "execute_result"
    }
   ],
   "source": [
    "next(final_list)"
   ]
  },
  {
   "cell_type": "markdown",
   "metadata": {},
   "source": [
    "... and so on."
   ]
  },
  {
   "cell_type": "markdown",
   "metadata": {},
   "source": [
    "### Generators:\n",
    "Python generators are a simple way of creating iterators.\n",
    "It is a function that returns an object (iterator) which we can iterate over (one value at a time)."
   ]
  },
  {
   "cell_type": "code",
   "execution_count": 28,
   "metadata": {},
   "outputs": [],
   "source": [
    "def generator():\n",
    "    for i in range(3):\n",
    "        yield i"
   ]
  },
  {
   "cell_type": "code",
   "execution_count": 29,
   "metadata": {},
   "outputs": [
    {
     "data": {
      "text/plain": [
       "<generator object generator at 0x7fa308654350>"
      ]
     },
     "execution_count": 29,
     "metadata": {},
     "output_type": "execute_result"
    }
   ],
   "source": [
    "generator()"
   ]
  },
  {
   "cell_type": "code",
   "execution_count": 30,
   "metadata": {},
   "outputs": [
    {
     "name": "stdout",
     "output_type": "stream",
     "text": [
      "0\n",
      "1\n",
      "2\n"
     ]
    }
   ],
   "source": [
    "for each in generator():\n",
    "    print(each)"
   ]
  },
  {
   "cell_type": "code",
   "execution_count": 31,
   "metadata": {},
   "outputs": [],
   "source": [
    "gen = generator()"
   ]
  },
  {
   "cell_type": "code",
   "execution_count": 35,
   "metadata": {},
   "outputs": [
    {
     "ename": "StopIteration",
     "evalue": "",
     "output_type": "error",
     "traceback": [
      "\u001b[0;31m---------------------------------------------------------------------------\u001b[0m",
      "\u001b[0;31mStopIteration\u001b[0m                             Traceback (most recent call last)",
      "\u001b[0;32m/tmp/ipykernel_5959/4293081279.py\u001b[0m in \u001b[0;36m<module>\u001b[0;34m\u001b[0m\n\u001b[0;32m----> 1\u001b[0;31m \u001b[0mnext\u001b[0m\u001b[0;34m(\u001b[0m\u001b[0mgen\u001b[0m\u001b[0;34m)\u001b[0m\u001b[0;34m\u001b[0m\u001b[0;34m\u001b[0m\u001b[0m\n\u001b[0m",
      "\u001b[0;31mStopIteration\u001b[0m: "
     ]
    }
   ],
   "source": [
    "next(gen)"
   ]
  },
  {
   "cell_type": "code",
   "execution_count": 146,
   "metadata": {},
   "outputs": [
    {
     "data": {
      "text/plain": [
       "1"
      ]
     },
     "execution_count": 146,
     "metadata": {},
     "output_type": "execute_result"
    }
   ],
   "source": [
    "next(gen)"
   ]
  },
  {
   "cell_type": "code",
   "execution_count": 147,
   "metadata": {},
   "outputs": [
    {
     "data": {
      "text/plain": [
       "2"
      ]
     },
     "execution_count": 147,
     "metadata": {},
     "output_type": "execute_result"
    }
   ],
   "source": [
    "next(gen)"
   ]
  },
  {
   "cell_type": "code",
   "execution_count": 148,
   "metadata": {
    "scrolled": false
   },
   "outputs": [
    {
     "ename": "StopIteration",
     "evalue": "",
     "output_type": "error",
     "traceback": [
      "\u001b[0;31m---------------------------------------------------------------------------\u001b[0m",
      "\u001b[0;31mStopIteration\u001b[0m                             Traceback (most recent call last)",
      "\u001b[0;32m/tmp/ipykernel_38920/4293081279.py\u001b[0m in \u001b[0;36m<module>\u001b[0;34m\u001b[0m\n\u001b[0;32m----> 1\u001b[0;31m \u001b[0mnext\u001b[0m\u001b[0;34m(\u001b[0m\u001b[0mgen\u001b[0m\u001b[0;34m)\u001b[0m\u001b[0;34m\u001b[0m\u001b[0;34m\u001b[0m\u001b[0m\n\u001b[0m",
      "\u001b[0;31mStopIteration\u001b[0m: "
     ]
    }
   ],
   "source": [
    "next(gen)"
   ]
  },
  {
   "cell_type": "markdown",
   "metadata": {},
   "source": [
    "This time we got a StopIteration error because our iteration ends after 2. Thus, there is no `next()` item"
   ]
  },
  {
   "cell_type": "markdown",
   "metadata": {},
   "source": [
    "Lets implement our `iter()` function once again, but this time to see the StopIteration error."
   ]
  },
  {
   "cell_type": "code",
   "execution_count": 149,
   "metadata": {},
   "outputs": [
    {
     "name": "stdout",
     "output_type": "stream",
     "text": [
      "<list_iterator object at 0x7f94c02e5370>\n"
     ]
    }
   ],
   "source": [
    "a = [1,2,3]\n",
    "x = iter(a)\n",
    "print(x)"
   ]
  },
  {
   "cell_type": "code",
   "execution_count": 150,
   "metadata": {},
   "outputs": [
    {
     "data": {
      "text/plain": [
       "1"
      ]
     },
     "execution_count": 150,
     "metadata": {},
     "output_type": "execute_result"
    }
   ],
   "source": [
    "next(x)"
   ]
  },
  {
   "cell_type": "code",
   "execution_count": 151,
   "metadata": {},
   "outputs": [
    {
     "data": {
      "text/plain": [
       "2"
      ]
     },
     "execution_count": 151,
     "metadata": {},
     "output_type": "execute_result"
    }
   ],
   "source": [
    "next(x)"
   ]
  },
  {
   "cell_type": "code",
   "execution_count": 152,
   "metadata": {},
   "outputs": [
    {
     "data": {
      "text/plain": [
       "3"
      ]
     },
     "execution_count": 152,
     "metadata": {},
     "output_type": "execute_result"
    }
   ],
   "source": [
    "next(x)"
   ]
  },
  {
   "cell_type": "code",
   "execution_count": 153,
   "metadata": {},
   "outputs": [
    {
     "ename": "StopIteration",
     "evalue": "",
     "output_type": "error",
     "traceback": [
      "\u001b[0;31m---------------------------------------------------------------------------\u001b[0m",
      "\u001b[0;31mStopIteration\u001b[0m                             Traceback (most recent call last)",
      "\u001b[0;32m/tmp/ipykernel_38920/3485793935.py\u001b[0m in \u001b[0;36m<module>\u001b[0;34m\u001b[0m\n\u001b[0;32m----> 1\u001b[0;31m \u001b[0mnext\u001b[0m\u001b[0;34m(\u001b[0m\u001b[0mx\u001b[0m\u001b[0;34m)\u001b[0m\u001b[0;34m\u001b[0m\u001b[0;34m\u001b[0m\u001b[0m\n\u001b[0m",
      "\u001b[0;31mStopIteration\u001b[0m: "
     ]
    }
   ],
   "source": [
    "next(x)"
   ]
  },
  {
   "cell_type": "markdown",
   "metadata": {},
   "source": [
    "We worked with lists. What about strings? Let's see what happens if that is the case."
   ]
  },
  {
   "cell_type": "code",
   "execution_count": 36,
   "metadata": {},
   "outputs": [],
   "source": [
    "name = \"TechAxis\"\n",
    "new = iter(name)"
   ]
  },
  {
   "cell_type": "code",
   "execution_count": 37,
   "metadata": {},
   "outputs": [
    {
     "data": {
      "text/plain": [
       "'T'"
      ]
     },
     "execution_count": 37,
     "metadata": {},
     "output_type": "execute_result"
    }
   ],
   "source": [
    "next(new)"
   ]
  },
  {
   "cell_type": "code",
   "execution_count": 38,
   "metadata": {},
   "outputs": [
    {
     "data": {
      "text/plain": [
       "'e'"
      ]
     },
     "execution_count": 38,
     "metadata": {},
     "output_type": "execute_result"
    }
   ],
   "source": [
    "next(new)"
   ]
  },
  {
   "cell_type": "code",
   "execution_count": 39,
   "metadata": {},
   "outputs": [
    {
     "data": {
      "text/plain": [
       "'c'"
      ]
     },
     "execution_count": 39,
     "metadata": {},
     "output_type": "execute_result"
    }
   ],
   "source": [
    "next(new)"
   ]
  },
  {
   "cell_type": "code",
   "execution_count": 40,
   "metadata": {},
   "outputs": [
    {
     "data": {
      "text/plain": [
       "'h'"
      ]
     },
     "execution_count": 40,
     "metadata": {},
     "output_type": "execute_result"
    }
   ],
   "source": [
    "next(new)"
   ]
  },
  {
   "cell_type": "code",
   "execution_count": 41,
   "metadata": {},
   "outputs": [
    {
     "data": {
      "text/plain": [
       "'A'"
      ]
     },
     "execution_count": 41,
     "metadata": {},
     "output_type": "execute_result"
    }
   ],
   "source": [
    "next(new)"
   ]
  },
  {
   "cell_type": "code",
   "execution_count": 42,
   "metadata": {},
   "outputs": [
    {
     "data": {
      "text/plain": [
       "'x'"
      ]
     },
     "execution_count": 42,
     "metadata": {},
     "output_type": "execute_result"
    }
   ],
   "source": [
    "next(new)"
   ]
  },
  {
   "cell_type": "code",
   "execution_count": 43,
   "metadata": {},
   "outputs": [
    {
     "data": {
      "text/plain": [
       "'i'"
      ]
     },
     "execution_count": 43,
     "metadata": {},
     "output_type": "execute_result"
    }
   ],
   "source": [
    "next(new)"
   ]
  },
  {
   "cell_type": "code",
   "execution_count": 44,
   "metadata": {},
   "outputs": [
    {
     "data": {
      "text/plain": [
       "'s'"
      ]
     },
     "execution_count": 44,
     "metadata": {},
     "output_type": "execute_result"
    }
   ],
   "source": [
    "next(new)"
   ]
  },
  {
   "cell_type": "code",
   "execution_count": 45,
   "metadata": {},
   "outputs": [
    {
     "ename": "StopIteration",
     "evalue": "",
     "output_type": "error",
     "traceback": [
      "\u001b[0;31m---------------------------------------------------------------------------\u001b[0m",
      "\u001b[0;31mStopIteration\u001b[0m                             Traceback (most recent call last)",
      "\u001b[0;32m/tmp/ipykernel_5959/3029344556.py\u001b[0m in \u001b[0;36m<module>\u001b[0;34m\u001b[0m\n\u001b[0;32m----> 1\u001b[0;31m \u001b[0mnext\u001b[0m\u001b[0;34m(\u001b[0m\u001b[0mnew\u001b[0m\u001b[0;34m)\u001b[0m\u001b[0;34m\u001b[0m\u001b[0;34m\u001b[0m\u001b[0m\n\u001b[0m",
      "\u001b[0;31mStopIteration\u001b[0m: "
     ]
    }
   ],
   "source": [
    "next(new)"
   ]
  },
  {
   "cell_type": "markdown",
   "metadata": {},
   "source": [
    "And that's it. There will no longer be further iterations."
   ]
  },
  {
   "cell_type": "markdown",
   "metadata": {},
   "source": [
    "<a id=\"ch3\"></a>\n",
    "## Chapter 3 - Map, Reduce and Filter"
   ]
  },
  {
   "cell_type": "markdown",
   "metadata": {},
   "source": [
    "### Map\n",
    "Map applies a function to all the items in an input_list.\n",
    "First, see this normal approach."
   ]
  },
  {
   "cell_type": "code",
   "execution_count": 46,
   "metadata": {},
   "outputs": [
    {
     "name": "stdout",
     "output_type": "stream",
     "text": [
      "[1, 4, 9, 16, 25]\n"
     ]
    }
   ],
   "source": [
    "li = [1,2,3,4,5]\n",
    "li_new = []\n",
    "for i in li:\n",
    "    n=i\n",
    "    n=n*n\n",
    "    li_new.append(n)\n",
    "print(li_new)"
   ]
  },
  {
   "cell_type": "code",
   "execution_count": 53,
   "metadata": {},
   "outputs": [],
   "source": [
    "items, squared = [1, 2, 3, 4, 5], []\n",
    "for i in items:\n",
    "    squared.append(i**2)"
   ]
  },
  {
   "cell_type": "code",
   "execution_count": 54,
   "metadata": {},
   "outputs": [
    {
     "data": {
      "text/plain": [
       "[1, 4, 9, 16, 25]"
      ]
     },
     "execution_count": 54,
     "metadata": {},
     "output_type": "execute_result"
    }
   ],
   "source": [
    "squared"
   ]
  },
  {
   "cell_type": "markdown",
   "metadata": {},
   "source": [
    "Map approach syntax: `map(function_to_apply, list_of_inputs)`"
   ]
  },
  {
   "cell_type": "code",
   "execution_count": 61,
   "metadata": {},
   "outputs": [],
   "source": [
    "cube = list(map(lambda x: x**3, [1, 2, 3, 4, 5]))"
   ]
  },
  {
   "cell_type": "code",
   "execution_count": 62,
   "metadata": {},
   "outputs": [
    {
     "data": {
      "text/plain": [
       "[1, 8, 27, 64, 125]"
      ]
     },
     "execution_count": 62,
     "metadata": {},
     "output_type": "execute_result"
    }
   ],
   "source": [
    "cube"
   ]
  },
  {
   "cell_type": "markdown",
   "metadata": {},
   "source": [
    "Try another one"
   ]
  },
  {
   "cell_type": "code",
   "execution_count": 72,
   "metadata": {},
   "outputs": [
    {
     "data": {
      "text/plain": [
       "<map at 0x7fa308663f10>"
      ]
     },
     "execution_count": 72,
     "metadata": {},
     "output_type": "execute_result"
    }
   ],
   "source": [
    "a = (1,2,3,4)\n",
    "out = map(lambda a: a**2, a)\n",
    "out"
   ]
  },
  {
   "cell_type": "code",
   "execution_count": 73,
   "metadata": {},
   "outputs": [
    {
     "data": {
      "text/plain": [
       "1"
      ]
     },
     "execution_count": 73,
     "metadata": {},
     "output_type": "execute_result"
    }
   ],
   "source": [
    "next(out)"
   ]
  },
  {
   "cell_type": "code",
   "execution_count": 174,
   "metadata": {},
   "outputs": [
    {
     "data": {
      "text/plain": [
       "4"
      ]
     },
     "execution_count": 174,
     "metadata": {},
     "output_type": "execute_result"
    }
   ],
   "source": [
    "next(out)"
   ]
  },
  {
   "cell_type": "markdown",
   "metadata": {},
   "source": [
    "How cool would it be to pass a function instead?"
   ]
  },
  {
   "cell_type": "code",
   "execution_count": 177,
   "metadata": {},
   "outputs": [
    {
     "name": "stdout",
     "output_type": "stream",
     "text": [
      "[0, 0]\n",
      "[1, 1]\n",
      "[4, 8]\n",
      "[9, 27]\n",
      "[16, 64]\n"
     ]
    }
   ],
   "source": [
    "def squared(x):\n",
    "    return x**2\n",
    "\n",
    "def cubed(x):\n",
    "    return x**3\n",
    "\n",
    "functions = [squared, cubed]\n",
    "for i in range(5):\n",
    "    li = list(map(lambda x: x(i), functions))\n",
    "    print(li)"
   ]
  },
  {
   "cell_type": "markdown",
   "metadata": {},
   "source": [
    "### Reduce"
   ]
  },
  {
   "cell_type": "markdown",
   "metadata": {},
   "source": [
    "Normal way."
   ]
  },
  {
   "cell_type": "code",
   "execution_count": null,
   "metadata": {},
   "outputs": [],
   "source": []
  },
  {
   "cell_type": "code",
   "execution_count": null,
   "metadata": {},
   "outputs": [],
   "source": [
    "product = 1\n",
    "li = [1, 2, 3, 4]\n",
    "for num in li:\n",
    "    product = product * num\n",
    "\n",
    "product"
   ]
  },
  {
   "cell_type": "markdown",
   "metadata": {},
   "source": [
    "The Reduce way:"
   ]
  },
  {
   "cell_type": "code",
   "execution_count": 88,
   "metadata": {},
   "outputs": [
    {
     "data": {
      "text/plain": [
       "24"
      ]
     },
     "execution_count": 88,
     "metadata": {},
     "output_type": "execute_result"
    }
   ],
   "source": [
    "from functools import reduce\n",
    "product = reduce((lambda x, y: x * y), (1, 2, 3, 4))\n",
    "\n",
    "product"
   ]
  },
  {
   "cell_type": "markdown",
   "metadata": {},
   "source": [
    "### Filter\n",
    "As the name suggests, a filter method literally filters out the elements defined.\n",
    "Let's filter only the negative numbers."
   ]
  },
  {
   "cell_type": "code",
   "execution_count": 91,
   "metadata": {},
   "outputs": [
    {
     "data": {
      "text/plain": [
       "[3, 5, 9]"
      ]
     },
     "execution_count": 91,
     "metadata": {},
     "output_type": "execute_result"
    }
   ],
   "source": [
    "list(filter(lambda x: x > 0, [-1,-2,3,5,-7,9]))"
   ]
  },
  {
   "cell_type": "markdown",
   "metadata": {},
   "source": [
    "Exercise"
   ]
  },
  {
   "cell_type": "code",
   "execution_count": 102,
   "metadata": {},
   "outputs": [
    {
     "data": {
      "text/plain": [
       "[2, 12, 24]"
      ]
     },
     "execution_count": 102,
     "metadata": {},
     "output_type": "execute_result"
    }
   ],
   "source": [
    "list(filter(lambda x:x%2==0, [-1,2,3,5,-7,9,12,24]))"
   ]
  },
  {
   "cell_type": "markdown",
   "metadata": {},
   "source": [
    "Is it possible to use double condition in lambdas?\n",
    "If yes, how?\n",
    "Try filtering the even numbers by also ignoring the negative numbers"
   ]
  },
  {
   "cell_type": "markdown",
   "metadata": {},
   "source": [
    "<a id=\"ch4\"></a>\n",
    "## Chapter 4 - Sets\n",
    "\n",
    "We all have heard of lists, tuples and dictionary from the very beginning. But many beginners tend to forget another important datatype in Python -- called set.\n",
    "\n",
    "A set is an unordered collection with no duplicate elements. Basic uses include membership testing and eliminating duplicate entries. Set objects also support mathematical operations like union, intersection, difference, and symmetric difference.<br>\n",
    "Curly braces or the `set()` function can be used to create sets. Note: to create an empty set you have to use `set()`, not {}; the latter creates an empty dictionary"
   ]
  },
  {
   "cell_type": "code",
   "execution_count": 184,
   "metadata": {},
   "outputs": [
    {
     "data": {
      "text/plain": [
       "{'apple', 'banana', 'orange', 'pear'}"
      ]
     },
     "execution_count": 184,
     "metadata": {},
     "output_type": "execute_result"
    }
   ],
   "source": [
    "basket = {'apple', 'orange', 'apple', 'pear', 'orange', 'banana'}\n",
    "basket"
   ]
  },
  {
   "cell_type": "code",
   "execution_count": 14,
   "metadata": {},
   "outputs": [],
   "source": [
    "# Demonstrate set operations on unique letters from two words\n",
    "a = set('abracadabra')\n",
    "b = set('alacazam')"
   ]
  },
  {
   "cell_type": "code",
   "execution_count": 15,
   "metadata": {},
   "outputs": [
    {
     "data": {
      "text/plain": [
       "{'a', 'b', 'c', 'd', 'r'}"
      ]
     },
     "execution_count": 15,
     "metadata": {},
     "output_type": "execute_result"
    }
   ],
   "source": [
    "a"
   ]
  },
  {
   "cell_type": "code",
   "execution_count": 13,
   "metadata": {},
   "outputs": [
    {
     "data": {
      "text/plain": [
       "{'a', 'c', 'l', 'm', 'z'}"
      ]
     },
     "execution_count": 13,
     "metadata": {},
     "output_type": "execute_result"
    }
   ],
   "source": [
    "b"
   ]
  },
  {
   "cell_type": "code",
   "execution_count": 16,
   "metadata": {},
   "outputs": [
    {
     "data": {
      "text/plain": [
       "{'b', 'd', 'r'}"
      ]
     },
     "execution_count": 16,
     "metadata": {},
     "output_type": "execute_result"
    }
   ],
   "source": [
    "a-b # letters in a but not in b"
   ]
  },
  {
   "cell_type": "code",
   "execution_count": 17,
   "metadata": {},
   "outputs": [
    {
     "data": {
      "text/plain": [
       "{'l', 'm', 'z'}"
      ]
     },
     "execution_count": 17,
     "metadata": {},
     "output_type": "execute_result"
    }
   ],
   "source": [
    "b-a # letters in b but not in a"
   ]
  },
  {
   "cell_type": "code",
   "execution_count": 198,
   "metadata": {},
   "outputs": [
    {
     "data": {
      "text/plain": [
       "{'a', 'c'}"
      ]
     },
     "execution_count": 198,
     "metadata": {},
     "output_type": "execute_result"
    }
   ],
   "source": [
    "a & b # letters in both a and b -> Bitwise AND -> intersection"
   ]
  },
  {
   "cell_type": "code",
   "execution_count": 199,
   "metadata": {},
   "outputs": [
    {
     "data": {
      "text/plain": [
       "{'a', 'b', 'c', 'd', 'l', 'm', 'r', 'z'}"
      ]
     },
     "execution_count": 199,
     "metadata": {},
     "output_type": "execute_result"
    }
   ],
   "source": [
    "a | b # letters in a or b or both -> Bitwise OR -> union"
   ]
  },
  {
   "cell_type": "code",
   "execution_count": 200,
   "metadata": {},
   "outputs": [
    {
     "data": {
      "text/plain": [
       "{'b', 'd', 'l', 'm', 'r', 'z'}"
      ]
     },
     "execution_count": 200,
     "metadata": {},
     "output_type": "execute_result"
    }
   ],
   "source": [
    "a ^ b # letters in a or b but not both -> Bitwise XOR"
   ]
  },
  {
   "cell_type": "markdown",
   "metadata": {},
   "source": [
    "<a id=\"ch5\"></a>\n",
    "## Chapter 5 - Decorators"
   ]
  },
  {
   "cell_type": "markdown",
   "metadata": {},
   "source": [
    "Decorators are functions which modify the functionality of another function."
   ]
  },
  {
   "cell_type": "markdown",
   "metadata": {},
   "source": [
    "- Create a function `sum(x,y)` that returns the sum of `x` and `y`.  \n",
    "- Create a function `double(a)` that takes a number and returns the double of it, which is `a*2`.  \n",
    "- Pass the `sum(4,5)` to the `double` function as its argument.  "
   ]
  },
  {
   "cell_type": "code",
   "execution_count": 22,
   "metadata": {},
   "outputs": [
    {
     "data": {
      "text/plain": [
       "18"
      ]
     },
     "execution_count": 22,
     "metadata": {},
     "output_type": "execute_result"
    }
   ],
   "source": [
    "def sum(x,y):\n",
    "    return x+y\n",
    "\n",
    "def double(a):\n",
    "    return a*2\n",
    "\n",
    "double(sum(4,5))"
   ]
  },
  {
   "cell_type": "code",
   "execution_count": null,
   "metadata": {},
   "outputs": [],
   "source": []
  },
  {
   "cell_type": "code",
   "execution_count": 27,
   "metadata": {},
   "outputs": [],
   "source": [
    "def my_decorator_func(func):\n",
    "\n",
    "    def wrapper_func():\n",
    "        # Do something before the function execution.\n",
    "        func() # func executed\n",
    "        # Do something after the function execution.\n",
    "    return wrapper_func\n",
    "    \n",
    "@my_decorator_func  \n",
    "def my_func(): \n",
    "    # body\n",
    "    pass"
   ]
  },
  {
   "cell_type": "markdown",
   "metadata": {},
   "source": [
    "In this above example, we first defined a `sum()` function that sums up two numbers.<br>\n",
    "After that, we defined another function named `double()` that takes **function as an argument.**\n",
    "In our case, the `double` function took the earlier result of the `sum` function and simply doubled it.  \n",
    "Let's try another simple example."
   ]
  },
  {
   "cell_type": "markdown",
   "metadata": {},
   "source": [
    "**But where is `@`?**"
   ]
  },
  {
   "cell_type": "code",
   "execution_count": 29,
   "metadata": {},
   "outputs": [],
   "source": [
    "def a_new_decorator(a_func):\n",
    "\n",
    "    def inner_func():\n",
    "        print(\"This is before executing the function\")\n",
    "\n",
    "        a_func() # call or execute ths function\n",
    "\n",
    "        print(\"And now you are decorated!!!\")\n",
    "\n",
    "    return inner_func\n"
   ]
  },
  {
   "cell_type": "code",
   "execution_count": 32,
   "metadata": {},
   "outputs": [
    {
     "name": "stdout",
     "output_type": "stream",
     "text": [
      "This is before executing the function\n",
      "I am the function which needs some decoration.\n",
      "And now you are decorated!!!\n"
     ]
    }
   ],
   "source": [
    "@a_new_decorator\n",
    "def my_own_function():\n",
    "    print(\"I am the function which needs some decoration.\")\n",
    "\n",
    "my_own_function()"
   ]
  },
  {
   "cell_type": "markdown",
   "metadata": {},
   "source": [
    "There it is!"
   ]
  },
  {
   "cell_type": "code",
   "execution_count": 42,
   "metadata": {},
   "outputs": [
    {
     "data": {
      "text/plain": [
       "22"
      ]
     },
     "execution_count": 42,
     "metadata": {},
     "output_type": "execute_result"
    }
   ],
   "source": [
    "def double_sum(func):\n",
    "    def inner(a, b):\n",
    "        return func(a*2, b*2)\n",
    "    return inner\n",
    "\n",
    "@double_sum\n",
    "def sum(a, b):\n",
    "    return a+b\n",
    "\n",
    "sum(5,6)"
   ]
  },
  {
   "cell_type": "markdown",
   "metadata": {},
   "source": [
    "Decorator exercise\n",
    "\n",
    "@half_prod  \n",
    "def prod(a, b):  \n",
    "    \n",
    "    return a*b"
   ]
  },
  {
   "cell_type": "code",
   "execution_count": 46,
   "metadata": {},
   "outputs": [
    {
     "data": {
      "text/plain": [
       "25.0"
      ]
     },
     "execution_count": 46,
     "metadata": {},
     "output_type": "execute_result"
    }
   ],
   "source": [
    "def half_prod(func):\n",
    "    def inner(a, b):\n",
    "        return func(a/2, b)\n",
    "    return inner\n",
    "\n",
    "@half_prod\n",
    "def prod(a, b):\n",
    "    return a*b\n",
    "\n",
    "prod(5,10)"
   ]
  },
  {
   "cell_type": "markdown",
   "metadata": {},
   "source": [
    "<a id=\"ch6\"></a>\n",
    "## Chapter 6 - Sleep"
   ]
  },
  {
   "cell_type": "code",
   "execution_count": 47,
   "metadata": {},
   "outputs": [],
   "source": [
    "import time\n",
    "\n",
    "def run(name):\n",
    "    print(f\"My name is {name}. I am going to run 100m in 9.58 sec.\\n\")\n",
    "    time.sleep(9.58) # waits for 9.58 seconds before executing next line \n",
    "    print(f\"{name} has finished running.\\n\")"
   ]
  },
  {
   "cell_type": "code",
   "execution_count": 48,
   "metadata": {},
   "outputs": [
    {
     "name": "stdout",
     "output_type": "stream",
     "text": [
      "My name is Usain Bolt. I am going to run 100m in 9.8 sec.\n",
      "\n",
      "Usain Bolt has finished running.\n",
      "\n"
     ]
    }
   ],
   "source": [
    "run('Usain Bolt')"
   ]
  },
  {
   "cell_type": "markdown",
   "metadata": {},
   "source": [
    "<a id=\"ch7\"></a>\n",
    "## Chapter 7 - `__slot__`"
   ]
  },
  {
   "cell_type": "markdown",
   "metadata": {},
   "source": [
    "You would want to use `__slot__` if you are going to instantiate a lot (hundreds, thousands) of objects of the same class. `__slot__` exists as a memory optimization tool.\n",
    "\n",
    "Check this too: https://stackoverflow.com/questions/472000/usage-of-slots"
   ]
  },
  {
   "cell_type": "code",
   "execution_count": 111,
   "metadata": {},
   "outputs": [],
   "source": [
    "class Person(object):\n",
    "    \n",
    "    def __init__(self, name, address):\n",
    "        self.name = name\n",
    "        self.address = address\n",
    "    # ..."
   ]
  },
  {
   "cell_type": "code",
   "execution_count": 112,
   "metadata": {},
   "outputs": [],
   "source": [
    "class Person(object):\n",
    "    \n",
    "    __slots__ = ['name', 'address']\n",
    "    \n",
    "    def __init__(self, name, address):\n",
    "        self.name = name\n",
    "        self.address = address\n",
    "    # ..."
   ]
  },
  {
   "cell_type": "markdown",
   "metadata": {},
   "source": [
    "The second piece of code will reduce the burden on your RAM. Some people have seen almost 40 to 50% reduction in RAM usage by using this technique."
   ]
  },
  {
   "cell_type": "markdown",
   "metadata": {},
   "source": [
    "<a id=\"ch8\"></a>\n",
    "## Chapter 8 - Collections\n",
    "\n",
    "Python ships with a module that contains a number of container data types called Collections. Let's talk about some of them.\n",
    "\n",
    "Python uses these listed set of collections:\n",
    "\n",
    "- `defaultdict`\n",
    "- `OrderedDict`\n",
    "- `UserDict`\n",
    "- `UserList`\n",
    "- `UserString`\n",
    "- `Counter`\n",
    "- `ChainMap`\n",
    "- `namedtuple`\n",
    "- `enum.Enum`"
   ]
  },
  {
   "cell_type": "markdown",
   "metadata": {},
   "source": [
    "#### OrderedDict\n",
    "\n",
    "Unlinke normal dictionary, an `OrderedDict` keeps the entries in the same order as inserted.\n",
    "Let's try out an example with a normal dict and then with `OrderedDict`."
   ]
  },
  {
   "cell_type": "code",
   "execution_count": 57,
   "metadata": {},
   "outputs": [],
   "source": [
    "colours =  {\"USA\" : 1, \"China\" : 3, \"Japan\" : 5, \"India\": 4, \"Nepal\": 5}"
   ]
  },
  {
   "cell_type": "code",
   "execution_count": 58,
   "metadata": {},
   "outputs": [
    {
     "data": {
      "text/plain": [
       "dict_items([('USA', 1), ('China', 3), ('Japan', 5), ('India', 4), ('Nepal', 5)])"
      ]
     },
     "execution_count": 58,
     "metadata": {},
     "output_type": "execute_result"
    }
   ],
   "source": [
    "colours.items()"
   ]
  },
  {
   "cell_type": "code",
   "execution_count": 59,
   "metadata": {},
   "outputs": [
    {
     "name": "stdout",
     "output_type": "stream",
     "text": [
      "('USA', 1)\n",
      "('China', 3)\n",
      "('Japan', 5)\n",
      "('India', 4)\n",
      "('Nepal', 5)\n"
     ]
    }
   ],
   "source": [
    "for i in colours.items():\n",
    "    print(i)"
   ]
  },
  {
   "cell_type": "code",
   "execution_count": 60,
   "metadata": {},
   "outputs": [
    {
     "name": "stdout",
     "output_type": "stream",
     "text": [
      "USA 1\n",
      "China 3\n",
      "Japan 5\n",
      "India 4\n",
      "Nepal 5\n"
     ]
    }
   ],
   "source": [
    "for k,v in colours.items():\n",
    "    print(k,v)"
   ]
  },
  {
   "cell_type": "code",
   "execution_count": 51,
   "metadata": {},
   "outputs": [
    {
     "name": "stdout",
     "output_type": "stream",
     "text": [
      "USA\n",
      "China\n",
      "Japan\n",
      "India\n",
      "Nepal\n"
     ]
    }
   ],
   "source": [
    "# for loop over colours dict\n",
    "for i in colours:\n",
    "    print(i)"
   ]
  },
  {
   "cell_type": "code",
   "execution_count": null,
   "metadata": {},
   "outputs": [],
   "source": []
  },
  {
   "cell_type": "code",
   "execution_count": 62,
   "metadata": {},
   "outputs": [],
   "source": [
    "import pandas"
   ]
  },
  {
   "cell_type": "code",
   "execution_count": 166,
   "metadata": {
    "scrolled": true
   },
   "outputs": [
    {
     "name": "stdout",
     "output_type": "stream",
     "text": [
      "USA 1\n",
      "China 3\n",
      "Japan 5\n",
      "India 4\n",
      "Nepal 5\n"
     ]
    }
   ],
   "source": [
    "from collections import OrderedDict\n",
    "\n",
    "colours = OrderedDict(colours)\n",
    "for key, value in colours.items():\n",
    "    print(key, value)"
   ]
  },
  {
   "cell_type": "markdown",
   "metadata": {},
   "source": [
    "#### Deque\n",
    "Dequeue or double ended queue allows to append and delete elements from either side of the queue."
   ]
  },
  {
   "cell_type": "code",
   "execution_count": 174,
   "metadata": {},
   "outputs": [
    {
     "name": "stdout",
     "output_type": "stream",
     "text": [
      "deque(['g', 'h', 'i'])\n"
     ]
    }
   ],
   "source": [
    "from collections import deque\n",
    "d = deque('ghi')                 # make a new deque with three items\n",
    "print(d)"
   ]
  },
  {
   "cell_type": "code",
   "execution_count": 173,
   "metadata": {},
   "outputs": [
    {
     "name": "stdout",
     "output_type": "stream",
     "text": [
      "deque(['g', 'h', 'i', 'j'])\n",
      "deque(['f', 'g', 'h', 'i', 'j'])\n"
     ]
    }
   ],
   "source": [
    "d.append('j')                    # add a new entry to the right side\n",
    "print(d)\n",
    "d.appendleft('f')                # add a new entry to the left side\n",
    "print(d)                         # show the representation of the deque"
   ]
  },
  {
   "cell_type": "code",
   "execution_count": 30,
   "metadata": {},
   "outputs": [
    {
     "data": {
      "text/plain": [
       "'j'"
      ]
     },
     "execution_count": 30,
     "metadata": {},
     "output_type": "execute_result"
    }
   ],
   "source": [
    "d.pop()"
   ]
  },
  {
   "cell_type": "code",
   "execution_count": 31,
   "metadata": {},
   "outputs": [
    {
     "data": {
      "text/plain": [
       "'f'"
      ]
     },
     "execution_count": 31,
     "metadata": {},
     "output_type": "execute_result"
    }
   ],
   "source": [
    "d.popleft()"
   ]
  },
  {
   "cell_type": "markdown",
   "metadata": {},
   "source": [
    "[Python documentation on deque](https://docs.python.org/3/library/collections.html#deque-objects) covers a whole lot of other interesting things that can be done with it. Make sure to check that out."
   ]
  },
  {
   "cell_type": "markdown",
   "metadata": {},
   "source": [
    "And thats all. Don't miss out [Python Collections](https://docs.python.org/3/library/collections.html) documentation."
   ]
  },
  {
   "cell_type": "markdown",
   "metadata": {},
   "source": [
    "<a id=\"ch9\"></a>\n",
    "## Chapter 9 - Enumerate\n",
    "\n",
    "The `enumerate()` method adds a counter to an iterable and returns it in a form of enumerate object. "
   ]
  },
  {
   "cell_type": "code",
   "execution_count": 5,
   "metadata": {},
   "outputs": [
    {
     "name": "stdout",
     "output_type": "stream",
     "text": [
      "Number 1 player is Neur.\n",
      "Number 2 player is Schweinsteiger.\n",
      "Number 3 player is Lahm.\n",
      "Number 4 player is Muller.\n"
     ]
    }
   ],
   "source": [
    "my_list = ['Neur', 'Schweinsteiger', 'Lahm', 'Muller']\n",
    "for num, name in enumerate(my_list,1):\n",
    "    print(f\"Number {num} player is {name}.\")"
   ]
  },
  {
   "cell_type": "code",
   "execution_count": 11,
   "metadata": {},
   "outputs": [
    {
     "name": "stdout",
     "output_type": "stream",
     "text": [
      "0 Neur\n",
      "1 Schweinsteiger\n",
      "2 Lahm\n",
      "3 Muller\n"
     ]
    }
   ],
   "source": [
    "for c, value in enumerate(my_list):\n",
    "    print(c, value)"
   ]
  },
  {
   "cell_type": "markdown",
   "metadata": {},
   "source": [
    "Note that `(my_list, 1)` indicates the starting index of the enumerated list."
   ]
  },
  {
   "cell_type": "markdown",
   "metadata": {},
   "source": [
    "You can also create tuples containing the index and list item using a list. "
   ]
  },
  {
   "cell_type": "markdown",
   "metadata": {},
   "source": [
    "### Exercise"
   ]
  },
  {
   "cell_type": "code",
   "execution_count": 6,
   "metadata": {},
   "outputs": [
    {
     "name": "stdout",
     "output_type": "stream",
     "text": [
      "[(1, 'Neur'), (2, 'Schweinsteiger'), (3, 'Lahm'), (4, 'Muller')]\n"
     ]
    }
   ],
   "source": [
    "my_list = ['Neur', 'Schweinsteiger', 'Lahm', 'Muller']\n",
    "counter_list = list(enumerate(my_list, 1))\n",
    "print(counter_list)"
   ]
  },
  {
   "cell_type": "markdown",
   "metadata": {},
   "source": [
    "That's it. Enumerate is fun, easy and useful in many context."
   ]
  },
  {
   "cell_type": "markdown",
   "metadata": {},
   "source": [
    "<a id=\"ch10\"></a>\n",
    "## Chapter 10 - Object Inspection\n",
    "\n",
    "Everything in Python is an object and we can examine those objects with an ease. Python ships with a few built-in functions and modules to help us with that."
   ]
  },
  {
   "cell_type": "markdown",
   "metadata": {},
   "source": [
    "#### a) ```__dir__```  \n",
    "The ```__dir__``` method allows us to list all the attributes and methods belonging to an object."
   ]
  },
  {
   "cell_type": "code",
   "execution_count": 41,
   "metadata": {},
   "outputs": [
    {
     "data": {
      "text/plain": [
       "['__add__',\n",
       " '__class__',\n",
       " '__contains__',\n",
       " '__delattr__',\n",
       " '__delitem__',\n",
       " '__dir__',\n",
       " '__doc__',\n",
       " '__eq__',\n",
       " '__format__',\n",
       " '__ge__',\n",
       " '__getattribute__',\n",
       " '__getitem__',\n",
       " '__gt__',\n",
       " '__hash__',\n",
       " '__iadd__',\n",
       " '__imul__',\n",
       " '__init__',\n",
       " '__init_subclass__',\n",
       " '__iter__',\n",
       " '__le__',\n",
       " '__len__',\n",
       " '__lt__',\n",
       " '__mul__',\n",
       " '__ne__',\n",
       " '__new__',\n",
       " '__reduce__',\n",
       " '__reduce_ex__',\n",
       " '__repr__',\n",
       " '__reversed__',\n",
       " '__rmul__',\n",
       " '__setattr__',\n",
       " '__setitem__',\n",
       " '__sizeof__',\n",
       " '__str__',\n",
       " '__subclasshook__',\n",
       " 'append',\n",
       " 'clear',\n",
       " 'copy',\n",
       " 'count',\n",
       " 'extend',\n",
       " 'index',\n",
       " 'insert',\n",
       " 'pop',\n",
       " 'remove',\n",
       " 'reverse',\n",
       " 'sort']"
      ]
     },
     "execution_count": 41,
     "metadata": {},
     "output_type": "execute_result"
    }
   ],
   "source": [
    "my_list = [1, 2, 3]\n",
    "dir(my_list)"
   ]
  },
  {
   "cell_type": "markdown",
   "metadata": {},
   "source": [
    "#### b) ```type``` and ```id```  \n",
    "The ```type``` function returns the type of an object.  "
   ]
  },
  {
   "cell_type": "code",
   "execution_count": 7,
   "metadata": {},
   "outputs": [
    {
     "name": "stdout",
     "output_type": "stream",
     "text": [
      "<class 'str'>\n",
      "<class 'list'>\n",
      "<class 'dict'>\n",
      "<class 'int'>\n"
     ]
    }
   ],
   "source": [
    "print(type(''))\n",
    "\n",
    "print(type([]))\n",
    "\n",
    "print(type({}))\n",
    "\n",
    "print(type(10))"
   ]
  },
  {
   "cell_type": "markdown",
   "metadata": {},
   "source": [
    "The ```id``` function returns the unique ID of an object."
   ]
  },
  {
   "cell_type": "code",
   "execution_count": 11,
   "metadata": {},
   "outputs": [
    {
     "data": {
      "text/plain": [
       "140496640486768"
      ]
     },
     "execution_count": 11,
     "metadata": {},
     "output_type": "execute_result"
    }
   ],
   "source": [
    "name = \"TechAxis\"\n",
    "id(name)"
   ]
  },
  {
   "cell_type": "markdown",
   "metadata": {},
   "source": [
    "<a id=\"ch11\"></a>\n",
    "## Chapter 11 - Comprehensions\n",
    "\n",
    "Python allows you to write smart, effective and reduced code to solve a same problem that requires multiple lines for execution. Comprehensions are one of such features that doesn't solve a new problem, but provides a syntactic sugar to the older problem because of which the code content gets significantly reduced.  \n",
    "Comprehensions are of four types:\n",
    "- list comprehensions\n",
    "- dictionary comprehensions\n",
    "- set comprehensions\n",
    "- generator comprehensions\n",
    "Let's see them"
   ]
  },
  {
   "cell_type": "markdown",
   "metadata": {},
   "source": [
    "#### List comprehensions\n",
    "List comprehensions provide a short and concise way to create lists.\n",
    "\n",
    "If you used to do it like this:\n",
    "```python\n",
    "new_list = []\n",
    "for i in old_list:\n",
    "    if filter(i):\n",
    "        new_list.append(expressions(i))\n",
    "```\n",
    "You can obtain the same thing using list comprehension:\n",
    "```python\n",
    "new_list = [expression(i) for i in old_list if filter(i)]\n",
    "```"
   ]
  },
  {
   "cell_type": "markdown",
   "metadata": {},
   "source": [
    "Let's try out a normal example and then solve it using comprehension"
   ]
  },
  {
   "cell_type": "code",
   "execution_count": 17,
   "metadata": {},
   "outputs": [
    {
     "data": {
      "text/plain": [
       "[4, 16, 36, 64, 100]"
      ]
     },
     "execution_count": 17,
     "metadata": {},
     "output_type": "execute_result"
    }
   ],
   "source": [
    "# Square all the list members that are EVEN\n",
    "\n",
    "old_list, new_list = [1,2,3,4,5,6,7,8,9,10], []\n",
    "for x in old_list:\n",
    "    if x%2 == 0:\n",
    "        new_list.append(x**2)\n",
    "new_list"
   ]
  },
  {
   "cell_type": "markdown",
   "metadata": {},
   "source": [
    "Solving the same problem with list comprehension."
   ]
  },
  {
   "cell_type": "code",
   "execution_count": 18,
   "metadata": {},
   "outputs": [
    {
     "data": {
      "text/plain": [
       "[4, 16, 36, 64, 100]"
      ]
     },
     "execution_count": 18,
     "metadata": {},
     "output_type": "execute_result"
    }
   ],
   "source": [
    "old_list = [1,2,3,4,5,6,7,8,9,10]\n",
    "[x**2 for x in old_list if x%2==0]"
   ]
  },
  {
   "cell_type": "markdown",
   "metadata": {},
   "source": [
    "#### Dictionary comprehensions\n",
    "Syntax:\n",
    "```python\n",
    "{v: k for k, v in some_dict.items()}\n",
    "```"
   ]
  },
  {
   "cell_type": "code",
   "execution_count": 25,
   "metadata": {},
   "outputs": [
    {
     "name": "stdout",
     "output_type": "stream",
     "text": [
      "a 1\n",
      "b 2\n",
      "c 3\n",
      "d 4\n",
      "e 5\n"
     ]
    }
   ],
   "source": [
    "# Double each value in the dictionary\n",
    "\n",
    "dict1 = {\n",
    "    'a': 1, \n",
    "    'b': 2, \n",
    "    'c': 3, \n",
    "    'd': 4, \n",
    "    'e': 5\n",
    "}\n",
    "for k,v in dict1.items():\n",
    "    print(k,v)"
   ]
  },
  {
   "cell_type": "code",
   "execution_count": 27,
   "metadata": {},
   "outputs": [
    {
     "data": {
      "text/plain": [
       "{'a': 1, 'b': 4, 'c': 9, 'd': 16, 'e': 25}"
      ]
     },
     "execution_count": 27,
     "metadata": {},
     "output_type": "execute_result"
    }
   ],
   "source": [
    "{k:v**2 for (k,v) in dict1.items()}"
   ]
  },
  {
   "cell_type": "markdown",
   "metadata": {},
   "source": [
    "#### Set comprehensions\n",
    "Has a similar implementation like list comprehensions except for the curly braces."
   ]
  },
  {
   "cell_type": "code",
   "execution_count": 31,
   "metadata": {},
   "outputs": [
    {
     "data": {
      "text/plain": [
       "{1, 4, 9, 25, 36, 169}"
      ]
     },
     "execution_count": 31,
     "metadata": {},
     "output_type": "execute_result"
    }
   ],
   "source": [
    "li = [1,1,2,3,5,6,13]\n",
    "{x**2 for x in li}"
   ]
  },
  {
   "cell_type": "markdown",
   "metadata": {},
   "source": [
    "<a id=\"ch12\"></a>\n",
    "## Chapter 12 - Exception\n",
    "\n",
    "Exception handling is the process of responding to exceptions in the program. It is the art that will allow you to detect and solve the problems with relevant ease.  \n",
    "Let's see some examples."
   ]
  },
  {
   "cell_type": "code",
   "execution_count": 35,
   "metadata": {},
   "outputs": [
    {
     "name": "stdout",
     "output_type": "stream",
     "text": [
      "Please enter a number: c\n",
      "Oops!  That was no valid number.  Try again...\n",
      "Please enter a number: 5\n"
     ]
    }
   ],
   "source": [
    "while True:\n",
    "    try:\n",
    "        x = int(input(\"Please enter a number: \"))\n",
    "        break\n",
    "    except ValueError:\n",
    "        print(\"Oops!  That was no valid number.  Try again...\")"
   ]
  },
  {
   "cell_type": "markdown",
   "metadata": {},
   "source": [
    "#### `Finally` block\n",
    "The `finally` block can be used to perform clean-up after a script. Let's see a syntactic example and then an actual example.\n",
    "\n",
    "```python\n",
    "try:\n",
    "    run_code1()\n",
    "except TypeError:\n",
    "    run_code2()\n",
    "    return None   # The finally block is run before the method returns\n",
    "finally:\n",
    "    other_code()\n",
    "```\n",
    "Compare to this:\n",
    "```python\n",
    "try:\n",
    "    run_code1()\n",
    "except TypeError:\n",
    "    run_code2()\n",
    "    return None   \n",
    "\n",
    "other_code()  # This doesn't get run if there's an exception.\n",
    "```"
   ]
  },
  {
   "cell_type": "markdown",
   "metadata": {},
   "source": [
    "First, let's include the `finally` block."
   ]
  },
  {
   "cell_type": "code",
   "execution_count": 36,
   "metadata": {},
   "outputs": [
    {
     "name": "stdout",
     "output_type": "stream",
     "text": [
      "Yeah ! Your answer is : 1\n",
      "This is always executed\n",
      "Sorry ! You are dividing by zero \n",
      "This is always executed\n"
     ]
    }
   ],
   "source": [
    "def divide(x, y):\n",
    "    try:\n",
    "        result = x // y # floor div (without decimal point)\n",
    "    except ZeroDivisionError:\n",
    "        print(\"Sorry ! You are dividing by zero \")\n",
    "    else:\n",
    "        print(\"Yeah ! Your answer is :\", result)\n",
    "    finally: \n",
    "        print('This is always executed')  \n",
    "\n",
    "divide(3, 2)\n",
    "divide(3, 0)"
   ]
  },
  {
   "cell_type": "markdown",
   "metadata": {},
   "source": [
    "<a id=\"ch13\"></a>\n",
    "## Chapter 13 - OOP (Object Oriented Python)"
   ]
  },
  {
   "cell_type": "markdown",
   "metadata": {},
   "source": [
    "The concepts of Class and Objects in Python (or any other object oriented language) is one of the most essential features for solving problems with relevant ease and reuse.  \n",
    "This tutorial doesn't cover the fundamentals of class and objects but the inner mechanisms and some of the confusing cases with object oriented python."
   ]
  },
  {
   "cell_type": "markdown",
   "metadata": {},
   "source": [
    "#### Object inheritance\n",
    "There is a subtle difference with the old and the new style classes in Python -- inheriting objects"
   ]
  },
  {
   "cell_type": "code",
   "execution_count": 56,
   "metadata": {},
   "outputs": [
    {
     "name": "stdout",
     "output_type": "stream",
     "text": [
      "I am an old class\n",
      "I am a jazzy new class\n"
     ]
    }
   ],
   "source": [
    "class OldClass():\n",
    "    def __init__(self):\n",
    "        print('I am an old class')\n",
    "\n",
    "class NewClass(object):\n",
    "    def __init__(self):\n",
    "        print('I am a jazzy new class')\n",
    "\n",
    "old = OldClass()\n",
    "# Output: I am an old class\n",
    "\n",
    "new = NewClass()\n",
    "# Output: I am a jazzy new class"
   ]
  },
  {
   "cell_type": "markdown",
   "metadata": {},
   "source": [
    "This inheritance from object allows new style classes to utilize some `magic`. A major advantage is that you can employ some useful optimizations like `__slots__`. You can use `super()` and descriptors and the likes. Bottom line? Always try to use new-style classes."
   ]
  },
  {
   "cell_type": "markdown",
   "metadata": {},
   "source": [
    "#### Magic Methods\n",
    "\n",
    "Python’s classes are famous for their magic methods, commonly called dunder (double underscore) methods. Let's discuss a few of them.\n",
    "\n",
    "#### * `__init__`"
   ]
  },
  {
   "cell_type": "code",
   "execution_count": 57,
   "metadata": {},
   "outputs": [
    {
     "name": "stdout",
     "output_type": "stream",
     "text": [
      "Greetings!!\n",
      "I am another method which is not automatically called\n"
     ]
    }
   ],
   "source": [
    "class GetTest(object):\n",
    "    def __init__(self):\n",
    "        print('Greetings!!')\n",
    "    def another_method(self):\n",
    "        print('I am another method which is not'\n",
    "              ' automatically called')\n",
    "\n",
    "a = GetTest()\n",
    "\n",
    "a.another_method()"
   ]
  },
  {
   "cell_type": "markdown",
   "metadata": {},
   "source": [
    "#### * `getitem`\n",
    "The `__getitem__` method allows to create a subscriptable class in Python.  \n",
    "Subscriptable basically means that the object implements the __getitem__() method. In other words, it describes objects that are \"containers\", meaning they contain other objects. This includes lists, tuples, and dictionaries.  \n",
    "Let's see an example."
   ]
  },
  {
   "cell_type": "code",
   "execution_count": 58,
   "metadata": {},
   "outputs": [
    {
     "name": "stdout",
     "output_type": "stream",
     "text": [
      "Akash\n",
      "11223344\n"
     ]
    }
   ],
   "source": [
    "class Information(object):\n",
    "    def __init__(self):\n",
    "        self.info = {\n",
    "            'name':'Akash',\n",
    "            'country':'Nepal',\n",
    "            'number':11223344\n",
    "        }\n",
    "\n",
    "    def __getitem__(self,i):\n",
    "        return self.info[i]\n",
    "\n",
    "foo = Information()\n",
    "print(foo['name'])\n",
    "print(foo['number'])"
   ]
  },
  {
   "cell_type": "markdown",
   "metadata": {},
   "source": [
    "#### New style class in Python\n",
    "The major difference between new and old style class in Python is that the new style class inherits from `object`.  \n",
    "Also check the link below:"
   ]
  },
  {
   "cell_type": "code",
   "execution_count": 59,
   "metadata": {},
   "outputs": [
    {
     "name": "stdout",
     "output_type": "stream",
     "text": [
      "I am an old class\n",
      "I am a jazzy new class\n"
     ]
    }
   ],
   "source": [
    "class OldClass():\n",
    "    def __init__(self):\n",
    "        print('I am an old class')\n",
    "\n",
    "class NewClass(object):\n",
    "    def __init__(self):\n",
    "        print('I am a jazzy new class')\n",
    "\n",
    "old = OldClass()\n",
    "# Output: I am an old class\n",
    "\n",
    "new = NewClass()\n",
    "# Output: I am a jazzy new class"
   ]
  },
  {
   "cell_type": "markdown",
   "metadata": {},
   "source": [
    "<a id=\"ch14\"></a>\n",
    "## Chapter 14 - Lambdas"
   ]
  },
  {
   "cell_type": "markdown",
   "metadata": {},
   "source": [
    "Let's face it — Lambdas are mysterious! We might have often wondered about the very usability of lambdas. Let's explore this mysterious thing and try to debunk it."
   ]
  },
  {
   "cell_type": "markdown",
   "metadata": {},
   "source": [
    "Syntax    \n",
    "`lambda argument: manipulate(argument)`"
   ]
  },
  {
   "cell_type": "markdown",
   "metadata": {},
   "source": [
    "### But what are they really?\n",
    "Let's try creating a function that adds two numbers using a \"normal\" way."
   ]
  },
  {
   "cell_type": "code",
   "execution_count": 60,
   "metadata": {},
   "outputs": [
    {
     "data": {
      "text/plain": [
       "11"
      ]
     },
     "execution_count": 60,
     "metadata": {},
     "output_type": "execute_result"
    }
   ],
   "source": [
    "def add(x,y):\n",
    "    return x+y\n",
    "\n",
    "add(5,6)"
   ]
  },
  {
   "cell_type": "markdown",
   "metadata": {},
   "source": [
    "Simple, right? But, can we do better than this?  \n",
    "Sure, we can! Here is the same thing done using the `lambda` expression."
   ]
  },
  {
   "cell_type": "code",
   "execution_count": 61,
   "metadata": {},
   "outputs": [
    {
     "data": {
      "text/plain": [
       "11"
      ]
     },
     "execution_count": 61,
     "metadata": {},
     "output_type": "execute_result"
    }
   ],
   "source": [
    "add_again = lambda x,y: x+y\n",
    "add_again(5,6)"
   ]
  },
  {
   "cell_type": "markdown",
   "metadata": {},
   "source": [
    "Thus, `lambda`, in a way, are one line \"anonymous\" functions.  \n",
    "### But why use `lambda` at all?\n",
    "Well, the answer lies in using `lambda` inside another function.  \n",
    "Let's see what that means."
   ]
  },
  {
   "cell_type": "code",
   "execution_count": 62,
   "metadata": {},
   "outputs": [],
   "source": [
    "def imagine(a_number):\n",
    "    return lambda x: x * a_number\n",
    "multiply_this_number = imagine(10)"
   ]
  },
  {
   "cell_type": "code",
   "execution_count": 63,
   "metadata": {},
   "outputs": [
    {
     "data": {
      "text/plain": [
       "0"
      ]
     },
     "execution_count": 63,
     "metadata": {},
     "output_type": "execute_result"
    }
   ],
   "source": [
    "multiply_this_number(0) # with a_number , i.e,  0 * 10"
   ]
  },
  {
   "cell_type": "code",
   "execution_count": 64,
   "metadata": {},
   "outputs": [
    {
     "data": {
      "text/plain": [
       "10"
      ]
     },
     "execution_count": 64,
     "metadata": {},
     "output_type": "execute_result"
    }
   ],
   "source": [
    "multiply_this_number(1) # 1 * 10"
   ]
  },
  {
   "cell_type": "code",
   "execution_count": 65,
   "metadata": {},
   "outputs": [
    {
     "data": {
      "text/plain": [
       "50"
      ]
     },
     "execution_count": 65,
     "metadata": {},
     "output_type": "execute_result"
    }
   ],
   "source": [
    "multiply_this_number(5) # 5 * 10"
   ]
  },
  {
   "cell_type": "markdown",
   "metadata": {},
   "source": [
    "<a id=\"ch15\"></a>\n",
    "## Chapter 15 - Zip and Unzip"
   ]
  },
  {
   "cell_type": "markdown",
   "metadata": {},
   "source": [
    "**Zip** is a useful function that allows you to combine lists easily.\n",
    "\n",
    "After calling zip, an iterator is returned. In order to see the content wrapped inside, we need to first convert it to a list."
   ]
  },
  {
   "cell_type": "code",
   "execution_count": 39,
   "metadata": {},
   "outputs": [
    {
     "name": "stdout",
     "output_type": "stream",
     "text": [
      "[('Lionel', 'Messi', 35), ('Cristiano', 'Ronaldo', 37), ('Thomas', 'Muller', 32)]\n"
     ]
    }
   ],
   "source": [
    "first_name = ['Lionel','Cristiano','Thomas']\n",
    "\n",
    "last_name = ['Messi','Ronaldo','Muller']\n",
    "\n",
    "age = [35, 37, 32]\n",
    "\n",
    "print(list(zip(first_name,last_name, age)))"
   ]
  },
  {
   "cell_type": "code",
   "execution_count": 55,
   "metadata": {},
   "outputs": [
    {
     "name": "stdout",
     "output_type": "stream",
     "text": [
      "Lionel Messi is 35 years old\n",
      "Cristiano Ronaldo is 37 years old\n",
      "Thomas Muller is 32 years old\n"
     ]
    }
   ],
   "source": [
    "first_name = ['Lionel','Cristiano','Thomas']\n",
    "\n",
    "last_name = ['Messi','Ronaldo','Muller']\n",
    "\n",
    "age = [35, 37, 32]\n",
    "\n",
    "for first_name, last_name, age in zip(first_name, last_name, age):\n",
    "    print(f\"{first_name} {last_name} is {age} years old\")"
   ]
  },
  {
   "cell_type": "code",
   "execution_count": 5,
   "metadata": {},
   "outputs": [
    {
     "name": "stdout",
     "output_type": "stream",
     "text": [
      "This is Lionel Messi and I am 35 years old.\n",
      "This is Cristiano Ronaldo and I am 37 years old.\n",
      "This is Thomas Muller and I am 32 years old.\n"
     ]
    }
   ],
   "source": [
    "first_name = ['Lionel','Cristiano','Thomas']\n",
    "\n",
    "last_name = ['Messi','Ronaldo','Muller']\n",
    "\n",
    "age = [35, 37, 32]\n",
    "for x,y,z in zip(first_name, last_name, age):\n",
    "    print(f\"This is {x} {y} and I am {z} years old.\")"
   ]
  },
  {
   "cell_type": "markdown",
   "metadata": {},
   "source": [
    "We can use the zip function to **unzip** a list as well. This time, we need an input of a list with an asterisk before it.\n",
    "\n",
    "The outputs are the separated lists."
   ]
  },
  {
   "cell_type": "code",
   "execution_count": 9,
   "metadata": {},
   "outputs": [
    {
     "name": "stdout",
     "output_type": "stream",
     "text": [
      "first name: ('Lionel', 'Cristiano', 'Thomas')\n",
      "last name: ('Messi', 'Ronaldo', 'Muller')\n",
      "age: (35, 37, 32)\n"
     ]
    }
   ],
   "source": [
    "full_name_list = [('Lionel', 'Messi', 35),\n",
    "                  ('Cristiano', 'Ronaldo', 37),\n",
    "                  ('Thomas', 'Muller', 32)\n",
    "                 ]\n",
    "\n",
    "first_name, last_name, age = list(zip(*full_name_list)) # unzip\n",
    "print(f\"first name: {first_name}\\nlast name: {last_name}\\nage: {age}\")"
   ]
  },
  {
   "cell_type": "code",
   "execution_count": 7,
   "metadata": {},
   "outputs": [
    {
     "data": {
      "text/plain": [
       "[('Lionel', 'Cristiano', 'Thomas'),\n",
       " ('Messi', 'Ronaldo', 'Muller'),\n",
       " (35, 37, 32)]"
      ]
     },
     "execution_count": 7,
     "metadata": {},
     "output_type": "execute_result"
    }
   ],
   "source": [
    "list(zip(*full_name_list))"
   ]
  },
  {
   "cell_type": "code",
   "execution_count": null,
   "metadata": {},
   "outputs": [],
   "source": []
  }
 ],
 "metadata": {
  "kernelspec": {
   "display_name": "Python 3 (ipykernel)",
   "language": "python",
   "name": "python3"
  },
  "language_info": {
   "codemirror_mode": {
    "name": "ipython",
    "version": 3
   },
   "file_extension": ".py",
   "mimetype": "text/x-python",
   "name": "python",
   "nbconvert_exporter": "python",
   "pygments_lexer": "ipython3",
   "version": "3.10.11"
  }
 },
 "nbformat": 4,
 "nbformat_minor": 2
}
