{
  "cells": [
    {
      "cell_type": "markdown",
      "source": [
        "# Introduction to Python for Data Science using Google Colab\n",
        "\n",
        "Welcome to the exciting world of Python programming and data science! In this course, we will embark on a journey to explore the fundamentals of Python programming and its application in the field of data science.\n",
        "\n",
        "We will be using Google Colab, a powerful cloud-based platform, will be our companion on this learning adventure. It provides an interactive environment for writing, executing, and sharing Python code along with various data science libraries. Whether you're a beginner or have some programming experience, this course will cater to all skill levels.\n",
        "\n",
        "> **Instructor: Anmol Adhikari (MSc. Data Analytics)**\n",
        "\n",
        "\n",
        "\n",
        "\n"
      ],
      "metadata": {
        "id": "VeU2O6B2qcrU"
      },
      "id": "VeU2O6B2qcrU"
    },
    {
      "cell_type": "markdown",
      "id": "2efc28d3",
      "metadata": {
        "id": "2efc28d3"
      },
      "source": [
        "## Contents for this session\n",
        "\n",
        "- [**Hello World**](#section-1)\n",
        "- [**Variables**](#section-2)\n",
        "- [**Arithmetic operators**](#section-3)\n",
        "    - Addition: `+`\n",
        "    - Subtraction: `-`\n",
        "    - Multiplication: `*`\n",
        "    - Division: `/`\n",
        "    - Floor Division: `//`\n",
        "    - Modulus: `%`\n",
        "    - Exponentiation/power: `**`\n",
        "- [**String operations in Python**](#section-4)  \n",
        "    - String Length\n",
        "    - Indexing\n",
        "    - Slicing\n",
        "    - Concatenation\n",
        "    - String Repetition\n",
        "    - String Membership\n",
        "    - String Iteration\n",
        "    - String Methods\n",
        "    - String character escaping\n",
        "    - String Formatting with `f-string`\n",
        "    - Python `input()` field\n",
        "    - String Comparison\n",
        "    - String Conversion"
      ]
    },
    {
      "cell_type": "markdown",
      "id": "1b937926",
      "metadata": {
        "id": "1b937926"
      },
      "source": [
        "<a id=\"section-1\"></a>\n",
        "### Hello World\n",
        "\n",
        "### WHAT IS THE PYTHON PROGRAMMING LANGUAGE?\n",
        "*   Object-oriented interpreted programming language.\n",
        "*   Supports multiple programming paradigms/styles.\n",
        "*   Widely used by scientists and programmers.\n",
        "*   Supported by many 3rd-party libraries.\n",
        "*   Python is an open source programming language - ***free !***\n",
        "\n",
        "### WHY USE PYTHON FOR DATA ANALYTICS?\n",
        "*   The Python language is easy to fall in love with.\n",
        "*   Python is distinguished by its large and active scientific\n",
        "computing community.\n",
        "*   Adoption of Python for scientific computing in both industry\n",
        "applications and academic research has increased significantly\n",
        "since the early 2000s.\n",
        "*   Python’s improved library support (pandas) made it a strong tool\n",
        "for data manipulation along side with R, SAS, MATLAB, and others.\n",
        "\n",
        "\n",
        "\n",
        "\n"
      ]
    },
    {
      "cell_type": "code",
      "execution_count": null,
      "id": "c0f146a3",
      "metadata": {
        "colab": {
          "base_uri": "https://localhost:8080/"
        },
        "id": "c0f146a3",
        "outputId": "02a54ea1-98a7-42f9-d6d1-ecf94d4b7914"
      },
      "outputs": [
        {
          "output_type": "stream",
          "name": "stdout",
          "text": [
            "Hello Python\n"
          ]
        }
      ],
      "source": [
        "print(\"Hello Python\") # Code comment which is ignored by Python interpreter"
      ]
    },
    {
      "cell_type": "markdown",
      "id": "a4c36c21",
      "metadata": {
        "id": "a4c36c21"
      },
      "source": [
        "We just printed the text `\"Hello Python\"` through a function named `print()`. We'll discuss in detail about functions in the later sessions.\n",
        "\n",
        "Also, notice that the content after `#` is ignored."
      ]
    },
    {
      "cell_type": "markdown",
      "source": [
        "### Let's Try another"
      ],
      "metadata": {
        "id": "3fLZfTC0CsDs"
      },
      "id": "3fLZfTC0CsDs"
    },
    {
      "cell_type": "code",
      "source": [
        "print(1) # we are printing 1 here, also from above code #hastags is ignored by Python interpreter"
      ],
      "metadata": {
        "id": "_iiKcYxLCxBl",
        "colab": {
          "base_uri": "https://localhost:8080/"
        },
        "outputId": "0ff31d38-1469-4058-c8bb-0e5b5c8ce4bc"
      },
      "id": "_iiKcYxLCxBl",
      "execution_count": null,
      "outputs": [
        {
          "output_type": "stream",
          "name": "stdout",
          "text": [
            "1\n"
          ]
        }
      ]
    },
    {
      "cell_type": "code",
      "source": [
        "print (1, 2)"
      ],
      "metadata": {
        "id": "Fp4gijD4DJGj"
      },
      "id": "Fp4gijD4DJGj",
      "execution_count": null,
      "outputs": []
    },
    {
      "cell_type": "markdown",
      "id": "0cbf2aa4",
      "metadata": {
        "id": "0cbf2aa4"
      },
      "source": [
        "<a id=\"section-2\"></a>\n",
        "### Variables\n",
        "You don't need to explicitly define the type of the variable."
      ]
    },
    {
      "cell_type": "code",
      "execution_count": null,
      "id": "6e840b29",
      "metadata": {
        "id": "6e840b29"
      },
      "outputs": [],
      "source": [
        "x = 1\n",
        "y = 4.5\n",
        "z = \"Anmol\""
      ]
    },
    {
      "cell_type": "markdown",
      "id": "826bcb37",
      "metadata": {
        "id": "826bcb37"
      },
      "source": [
        "The `type()` function checks the data type of a given variable."
      ]
    },
    {
      "cell_type": "code",
      "execution_count": null,
      "id": "423d1f11",
      "metadata": {
        "colab": {
          "base_uri": "https://localhost:8080/"
        },
        "id": "423d1f11",
        "outputId": "41fcb395-5f04-4675-cfa7-af61872912a0"
      },
      "outputs": [
        {
          "output_type": "execute_result",
          "data": {
            "text/plain": [
              "int"
            ]
          },
          "metadata": {},
          "execution_count": 4
        }
      ],
      "source": [
        "type(x)"
      ]
    },
    {
      "cell_type": "code",
      "execution_count": null,
      "id": "cbd79b73",
      "metadata": {
        "colab": {
          "base_uri": "https://localhost:8080/"
        },
        "id": "cbd79b73",
        "outputId": "6262e675-827b-4095-bdab-18eafd09e584"
      },
      "outputs": [
        {
          "output_type": "execute_result",
          "data": {
            "text/plain": [
              "float"
            ]
          },
          "metadata": {},
          "execution_count": 5
        }
      ],
      "source": [
        "type(y)"
      ]
    },
    {
      "cell_type": "code",
      "execution_count": null,
      "id": "7be4ebb6",
      "metadata": {
        "colab": {
          "base_uri": "https://localhost:8080/"
        },
        "id": "7be4ebb6",
        "outputId": "a416302f-d077-4f2a-9b57-041f2fb9a543"
      },
      "outputs": [
        {
          "output_type": "execute_result",
          "data": {
            "text/plain": [
              "str"
            ]
          },
          "metadata": {},
          "execution_count": 6
        }
      ],
      "source": [
        "type(z)"
      ]
    },
    {
      "cell_type": "markdown",
      "id": "2d5ddbbe",
      "metadata": {
        "id": "2d5ddbbe"
      },
      "source": [
        "The `complex()` function allows you to define complex numbers in Python."
      ]
    },
    {
      "cell_type": "code",
      "execution_count": null,
      "id": "bf2bfbdd",
      "metadata": {
        "id": "bf2bfbdd"
      },
      "outputs": [],
      "source": [
        "c = complex(4,5)"
      ]
    },
    {
      "cell_type": "code",
      "execution_count": null,
      "id": "82b6fc9a",
      "metadata": {
        "id": "82b6fc9a",
        "colab": {
          "base_uri": "https://localhost:8080/"
        },
        "outputId": "417f9f0d-0d28-4af4-c2ab-4c0100f73040"
      },
      "outputs": [
        {
          "output_type": "execute_result",
          "data": {
            "text/plain": [
              "(4+5j)"
            ]
          },
          "metadata": {},
          "execution_count": 8
        }
      ],
      "source": [
        "c"
      ]
    },
    {
      "cell_type": "code",
      "execution_count": null,
      "id": "afd167ad",
      "metadata": {
        "id": "afd167ad",
        "colab": {
          "base_uri": "https://localhost:8080/"
        },
        "outputId": "da41149f-d996-4844-efcc-b131963ea1d8"
      },
      "outputs": [
        {
          "output_type": "execute_result",
          "data": {
            "text/plain": [
              "complex"
            ]
          },
          "metadata": {},
          "execution_count": 9
        }
      ],
      "source": [
        "type(c)"
      ]
    },
    {
      "cell_type": "markdown",
      "id": "c59708a3",
      "metadata": {
        "id": "c59708a3"
      },
      "source": [
        "Accessing the real value."
      ]
    },
    {
      "cell_type": "code",
      "execution_count": null,
      "id": "b75d5b3e",
      "metadata": {
        "id": "b75d5b3e"
      },
      "outputs": [],
      "source": [
        "c.real"
      ]
    },
    {
      "cell_type": "markdown",
      "id": "18945eaf",
      "metadata": {
        "id": "18945eaf"
      },
      "source": [
        "Accessing the imaginary value."
      ]
    },
    {
      "cell_type": "code",
      "execution_count": null,
      "id": "3dadf8c5",
      "metadata": {
        "id": "3dadf8c5"
      },
      "outputs": [],
      "source": [
        "c.imag"
      ]
    },
    {
      "cell_type": "markdown",
      "id": "d9890f70",
      "metadata": {
        "id": "d9890f70"
      },
      "source": [
        "<a id=\"section-3\"></a>\n",
        "# Arithmetic Operators\n",
        "\n",
        "| operation | operator |\n",
        "|-----------|----------|\n",
        "| sum | + |\n",
        "| difference | - |\n",
        "| division | / |\n",
        "| modulus | % |\n",
        "| multiplication | * |\n",
        "| exponent/power | ** |"
      ]
    },
    {
      "cell_type": "code",
      "execution_count": null,
      "id": "74838f10",
      "metadata": {
        "id": "74838f10"
      },
      "outputs": [],
      "source": [
        "a=10\n",
        "b=7"
      ]
    },
    {
      "cell_type": "code",
      "execution_count": null,
      "id": "5333dc85",
      "metadata": {
        "id": "5333dc85",
        "colab": {
          "base_uri": "https://localhost:8080/"
        },
        "outputId": "ea6859bc-45cf-4330-c9ed-a0d61e1ed186"
      },
      "outputs": [
        {
          "output_type": "execute_result",
          "data": {
            "text/plain": [
              "17"
            ]
          },
          "metadata": {},
          "execution_count": 13
        }
      ],
      "source": [
        "a+b"
      ]
    },
    {
      "cell_type": "markdown",
      "id": "51070537",
      "metadata": {
        "id": "51070537"
      },
      "source": [
        "You can even add the complex numbers"
      ]
    },
    {
      "cell_type": "code",
      "execution_count": null,
      "id": "ddf03b50",
      "metadata": {
        "id": "ddf03b50"
      },
      "outputs": [],
      "source": [
        "a = 2+3j\n",
        "b = 3+2j"
      ]
    },
    {
      "cell_type": "code",
      "execution_count": null,
      "id": "a2ca1e91",
      "metadata": {
        "id": "a2ca1e91",
        "colab": {
          "base_uri": "https://localhost:8080/"
        },
        "outputId": "27a901df-b44f-4e84-dcc3-1025d35128d3"
      },
      "outputs": [
        {
          "output_type": "stream",
          "name": "stdout",
          "text": [
            "(5+5j)\n"
          ]
        }
      ],
      "source": [
        "print(a+b)"
      ]
    },
    {
      "cell_type": "code",
      "execution_count": null,
      "id": "427680e4",
      "metadata": {
        "id": "427680e4",
        "colab": {
          "base_uri": "https://localhost:8080/"
        },
        "outputId": "2b520e25-3780-48cd-93a7-1c58e4a9e5f2"
      },
      "outputs": [
        {
          "output_type": "execute_result",
          "data": {
            "text/plain": [
              "3"
            ]
          },
          "metadata": {},
          "execution_count": 5
        }
      ],
      "source": [
        "a=10\n",
        "b=7\n",
        "a-b"
      ]
    },
    {
      "cell_type": "code",
      "execution_count": null,
      "id": "0c1bc4b2",
      "metadata": {
        "id": "0c1bc4b2",
        "colab": {
          "base_uri": "https://localhost:8080/"
        },
        "outputId": "3d11480e-6119-441d-de09-c53f3060ed40"
      },
      "outputs": [
        {
          "output_type": "execute_result",
          "data": {
            "text/plain": [
              "70"
            ]
          },
          "metadata": {},
          "execution_count": 6
        }
      ],
      "source": [
        "a*b"
      ]
    },
    {
      "cell_type": "code",
      "execution_count": null,
      "id": "dc490fd8",
      "metadata": {
        "id": "dc490fd8",
        "colab": {
          "base_uri": "https://localhost:8080/"
        },
        "outputId": "f7a37231-f495-41d9-b63b-3b36eca8f22a"
      },
      "outputs": [
        {
          "output_type": "execute_result",
          "data": {
            "text/plain": [
              "1.4285714285714286"
            ]
          },
          "metadata": {},
          "execution_count": 7
        }
      ],
      "source": [
        "a/b"
      ]
    },
    {
      "cell_type": "code",
      "execution_count": null,
      "id": "cb3a2fd3",
      "metadata": {
        "id": "cb3a2fd3",
        "colab": {
          "base_uri": "https://localhost:8080/"
        },
        "outputId": "65e850f7-d277-4eef-ff91-9a78d6f16092"
      },
      "outputs": [
        {
          "output_type": "execute_result",
          "data": {
            "text/plain": [
              "3"
            ]
          },
          "metadata": {},
          "execution_count": 8
        }
      ],
      "source": [
        "a%b # mod"
      ]
    },
    {
      "cell_type": "code",
      "execution_count": null,
      "id": "242a1729",
      "metadata": {
        "id": "242a1729",
        "colab": {
          "base_uri": "https://localhost:8080/"
        },
        "outputId": "e0fde4c8-31cb-43d6-dacb-97db24421f32"
      },
      "outputs": [
        {
          "output_type": "execute_result",
          "data": {
            "text/plain": [
              "10000000"
            ]
          },
          "metadata": {},
          "execution_count": 9
        }
      ],
      "source": [
        "a**b # exponent"
      ]
    },
    {
      "cell_type": "code",
      "execution_count": null,
      "id": "07d151de",
      "metadata": {
        "id": "07d151de",
        "colab": {
          "base_uri": "https://localhost:8080/"
        },
        "outputId": "2b933afb-ebca-4d9a-dcfe-6a8c02ba97eb"
      },
      "outputs": [
        {
          "output_type": "execute_result",
          "data": {
            "text/plain": [
              "1"
            ]
          },
          "metadata": {},
          "execution_count": 10
        }
      ],
      "source": [
        "a//b #floor division"
      ]
    },
    {
      "cell_type": "code",
      "source": [
        "\"hello\" + \"world\" # in case of strings \"+\" performs concatenation"
      ],
      "metadata": {
        "id": "bSUCASb3EfpZ",
        "colab": {
          "base_uri": "https://localhost:8080/",
          "height": 35
        },
        "outputId": "c03f42c8-e160-4157-d2c4-b7fd0ddd2b8d"
      },
      "id": "bSUCASb3EfpZ",
      "execution_count": null,
      "outputs": [
        {
          "output_type": "execute_result",
          "data": {
            "text/plain": [
              "'helloworld'"
            ],
            "application/vnd.google.colaboratory.intrinsic+json": {
              "type": "string"
            }
          },
          "metadata": {},
          "execution_count": 11
        }
      ]
    },
    {
      "cell_type": "markdown",
      "id": "e472cd28",
      "metadata": {
        "id": "e472cd28"
      },
      "source": [
        "**[DISCUSSION]**  \n",
        "\n",
        "Is there a `mod` based logic for `odd` or `even` numbers?"
      ]
    },
    {
      "cell_type": "markdown",
      "id": "073280a2",
      "metadata": {
        "id": "073280a2"
      },
      "source": [
        "<a id=\"section-4\"></a>\n",
        "### String operations in Python\n",
        "\n",
        "There are several string operations available in Python. Here are some commonly used ones:\n",
        "\n",
        "- String Length\n",
        "- Indexing\n",
        "- Slicing\n",
        "- Concatenation\n",
        "- String Repetition\n",
        "- String Membership\n",
        "- String Iteration\n",
        "- String Methods\n",
        "- String character escaping\n",
        "- String Formatting with `f-string`\n",
        "- Python `input()` field\n",
        "- String Comparison\n",
        "- String Conversion"
      ]
    },
    {
      "cell_type": "markdown",
      "id": "67c606ec",
      "metadata": {
        "id": "67c606ec"
      },
      "source": [
        "#### String Length\n",
        "Finding the length of a string using the len() function."
      ]
    },
    {
      "cell_type": "code",
      "execution_count": 1,
      "id": "a07b479e",
      "metadata": {
        "id": "a07b479e",
        "colab": {
          "base_uri": "https://localhost:8080/"
        },
        "outputId": "6ac26067-a2f9-4f67-e118-9cfe51d7ecce"
      },
      "outputs": [
        {
          "output_type": "execute_result",
          "data": {
            "text/plain": [
              "5"
            ]
          },
          "metadata": {},
          "execution_count": 1
        }
      ],
      "source": [
        "a = \"Anmol\"\n",
        "len(a)"
      ]
    },
    {
      "cell_type": "markdown",
      "id": "dee27b9d",
      "metadata": {
        "id": "dee27b9d"
      },
      "source": [
        "**Indexing and slicing**\n",
        "- Indexing: Accessing individual characters in a string using square brackets [] and an index.\n",
        "- Slicing: Extracting a portion of a string using the : operator and indices."
      ]
    },
    {
      "cell_type": "code",
      "execution_count": 1,
      "id": "0ba6797d",
      "metadata": {
        "id": "0ba6797d"
      },
      "outputs": [],
      "source": [
        "a = \"yellow\""
      ]
    },
    {
      "cell_type": "code",
      "execution_count": 2,
      "id": "26e0983c",
      "metadata": {
        "id": "26e0983c",
        "colab": {
          "base_uri": "https://localhost:8080/",
          "height": 35
        },
        "outputId": "94c4aa57-f38f-468a-eec2-0340e48f5634"
      },
      "outputs": [
        {
          "output_type": "execute_result",
          "data": {
            "text/plain": [
              "'e'"
            ],
            "application/vnd.google.colaboratory.intrinsic+json": {
              "type": "string"
            }
          },
          "metadata": {},
          "execution_count": 2
        }
      ],
      "source": [
        "a[1]"
      ]
    },
    {
      "cell_type": "code",
      "execution_count": 5,
      "id": "db2ec2a4",
      "metadata": {
        "id": "db2ec2a4",
        "colab": {
          "base_uri": "https://localhost:8080/",
          "height": 35
        },
        "outputId": "3e768823-2248-465f-a1a7-098646e01904"
      },
      "outputs": [
        {
          "output_type": "execute_result",
          "data": {
            "text/plain": [
              "'y'"
            ],
            "application/vnd.google.colaboratory.intrinsic+json": {
              "type": "string"
            }
          },
          "metadata": {},
          "execution_count": 5
        }
      ],
      "source": [
        "a[0]"
      ]
    },
    {
      "cell_type": "code",
      "execution_count": 6,
      "id": "8197e6a1",
      "metadata": {
        "id": "8197e6a1",
        "colab": {
          "base_uri": "https://localhost:8080/",
          "height": 35
        },
        "outputId": "fb84edc8-d446-4380-bac9-931fdea9d07c"
      },
      "outputs": [
        {
          "output_type": "execute_result",
          "data": {
            "text/plain": [
              "'w'"
            ],
            "application/vnd.google.colaboratory.intrinsic+json": {
              "type": "string"
            }
          },
          "metadata": {},
          "execution_count": 6
        }
      ],
      "source": [
        "a[-1]"
      ]
    },
    {
      "cell_type": "code",
      "execution_count": 6,
      "id": "7d6bf7ce",
      "metadata": {
        "id": "7d6bf7ce",
        "colab": {
          "base_uri": "https://localhost:8080/",
          "height": 179
        },
        "outputId": "1477e115-14e6-45c1-f217-59cdaaa3fe89"
      },
      "outputs": [
        {
          "output_type": "error",
          "ename": "IndexError",
          "evalue": "ignored",
          "traceback": [
            "\u001b[0;31m---------------------------------------------------------------------------\u001b[0m",
            "\u001b[0;31mIndexError\u001b[0m                                Traceback (most recent call last)",
            "\u001b[0;32m<ipython-input-6-7c7cb9812849>\u001b[0m in \u001b[0;36m<cell line: 1>\u001b[0;34m()\u001b[0m\n\u001b[0;32m----> 1\u001b[0;31m \u001b[0ma\u001b[0m\u001b[0;34m[\u001b[0m\u001b[0;36m10\u001b[0m\u001b[0;34m]\u001b[0m\u001b[0;34m\u001b[0m\u001b[0;34m\u001b[0m\u001b[0m\n\u001b[0m",
            "\u001b[0;31mIndexError\u001b[0m: string index out of range"
          ]
        }
      ],
      "source": [
        "a[10]"
      ]
    },
    {
      "cell_type": "code",
      "execution_count": 7,
      "id": "566801ad",
      "metadata": {
        "id": "566801ad",
        "colab": {
          "base_uri": "https://localhost:8080/",
          "height": 35
        },
        "outputId": "2982d198-bc2a-4c40-a489-fd87e792f166"
      },
      "outputs": [
        {
          "output_type": "execute_result",
          "data": {
            "text/plain": [
              "'ello'"
            ],
            "application/vnd.google.colaboratory.intrinsic+json": {
              "type": "string"
            }
          },
          "metadata": {},
          "execution_count": 7
        }
      ],
      "source": [
        "a[1:5]"
      ]
    },
    {
      "cell_type": "code",
      "execution_count": 3,
      "id": "7e2d23b9",
      "metadata": {
        "id": "7e2d23b9",
        "colab": {
          "base_uri": "https://localhost:8080/",
          "height": 35
        },
        "outputId": "f05a707b-22df-4932-d231-cdebb6e185fa"
      },
      "outputs": [
        {
          "output_type": "execute_result",
          "data": {
            "text/plain": [
              "'yell'"
            ],
            "application/vnd.google.colaboratory.intrinsic+json": {
              "type": "string"
            }
          },
          "metadata": {},
          "execution_count": 3
        }
      ],
      "source": [
        "a[0:4]"
      ]
    },
    {
      "cell_type": "code",
      "execution_count": 4,
      "id": "04ca0a83",
      "metadata": {
        "id": "04ca0a83",
        "colab": {
          "base_uri": "https://localhost:8080/",
          "height": 35
        },
        "outputId": "6b55a38e-52d6-4183-88f8-49416f418814"
      },
      "outputs": [
        {
          "output_type": "execute_result",
          "data": {
            "text/plain": [
              "'yell'"
            ],
            "application/vnd.google.colaboratory.intrinsic+json": {
              "type": "string"
            }
          },
          "metadata": {},
          "execution_count": 4
        }
      ],
      "source": [
        "a[:4]"
      ]
    },
    {
      "cell_type": "code",
      "execution_count": 5,
      "id": "fbbf4bed",
      "metadata": {
        "id": "fbbf4bed",
        "colab": {
          "base_uri": "https://localhost:8080/",
          "height": 35
        },
        "outputId": "aad0a61f-0f30-46ba-e258-0f44b05566fc"
      },
      "outputs": [
        {
          "output_type": "execute_result",
          "data": {
            "text/plain": [
              "'llow'"
            ],
            "application/vnd.google.colaboratory.intrinsic+json": {
              "type": "string"
            }
          },
          "metadata": {},
          "execution_count": 5
        }
      ],
      "source": [
        "a[2:6]"
      ]
    },
    {
      "cell_type": "code",
      "execution_count": 6,
      "id": "cca78d62",
      "metadata": {
        "id": "cca78d62",
        "colab": {
          "base_uri": "https://localhost:8080/",
          "height": 35
        },
        "outputId": "19861007-4b80-4c48-c3d4-349f9da699d8"
      },
      "outputs": [
        {
          "output_type": "execute_result",
          "data": {
            "text/plain": [
              "'llow'"
            ],
            "application/vnd.google.colaboratory.intrinsic+json": {
              "type": "string"
            }
          },
          "metadata": {},
          "execution_count": 6
        }
      ],
      "source": [
        "a[2:]"
      ]
    },
    {
      "cell_type": "code",
      "execution_count": 7,
      "id": "2aef0c25",
      "metadata": {
        "id": "2aef0c25",
        "colab": {
          "base_uri": "https://localhost:8080/",
          "height": 35
        },
        "outputId": "66b08a36-2475-4227-e824-8067d702523f"
      },
      "outputs": [
        {
          "output_type": "execute_result",
          "data": {
            "text/plain": [
              "'low'"
            ],
            "application/vnd.google.colaboratory.intrinsic+json": {
              "type": "string"
            }
          },
          "metadata": {},
          "execution_count": 7
        }
      ],
      "source": [
        "a[3:]"
      ]
    },
    {
      "cell_type": "markdown",
      "id": "0e379957",
      "metadata": {
        "id": "0e379957"
      },
      "source": [
        "**[EXERCISE]**\n",
        "\n",
        "Write a program that takes the string `environment` and performs the following tasks:\n",
        "   - Print the first character of the string.\n",
        "   - Print the last character of the string.\n",
        "   - Print the substring starting from the second character up to the fifth character.\n",
        "   - Print the substring starting from the third character up to the end of the string.\n",
        "   - Print the substring from the start till 6th character.\n"
      ]
    },
    {
      "cell_type": "code",
      "execution_count": 9,
      "id": "42e35e36",
      "metadata": {
        "id": "42e35e36",
        "colab": {
          "base_uri": "https://localhost:8080/"
        },
        "outputId": "8dbaeed2-05af-4511-8153-5cf3d18726f8"
      },
      "outputs": [
        {
          "output_type": "stream",
          "name": "stdout",
          "text": [
            "e\n",
            "t\n",
            "nviro\n",
            "vironment\n",
            "enviro\n"
          ]
        }
      ],
      "source": [
        "a = \"environment\"\n",
        "print(a[0])\n",
        "print(a[-1])\n",
        "print(a[1:6])\n",
        "print(a[2:])\n",
        "print(a[:6])"
      ]
    },
    {
      "cell_type": "markdown",
      "id": "34bbd874",
      "metadata": {
        "id": "34bbd874"
      },
      "source": [
        "**Concatenation**  \n",
        "Combining two or more strings using the + operator."
      ]
    },
    {
      "cell_type": "code",
      "execution_count": 9,
      "id": "5c32a974",
      "metadata": {
        "id": "5c32a974"
      },
      "outputs": [],
      "source": [
        "x = \"Welcome \"\n",
        "y = \"to Kathmandu\""
      ]
    },
    {
      "cell_type": "code",
      "execution_count": 10,
      "id": "f93dc952",
      "metadata": {
        "id": "f93dc952",
        "colab": {
          "base_uri": "https://localhost:8080/",
          "height": 35
        },
        "outputId": "77002430-ffb4-4a88-8349-2c71571ae155"
      },
      "outputs": [
        {
          "output_type": "execute_result",
          "data": {
            "text/plain": [
              "'Welcome to Kathmandu'"
            ],
            "application/vnd.google.colaboratory.intrinsic+json": {
              "type": "string"
            }
          },
          "metadata": {},
          "execution_count": 10
        }
      ],
      "source": [
        "x+y"
      ]
    },
    {
      "cell_type": "markdown",
      "id": "499adf1a",
      "metadata": {
        "id": "499adf1a"
      },
      "source": [
        "**[EXERCISE]**  \n",
        "\n",
        "Can we concat `str` and `int` data types? Try and discuss."
      ]
    },
    {
      "cell_type": "code",
      "execution_count": 11,
      "id": "f31a7164",
      "metadata": {
        "id": "f31a7164",
        "colab": {
          "base_uri": "https://localhost:8080/",
          "height": 214
        },
        "outputId": "70ca21cb-a5de-42e6-8943-d2b4f1a2e35e"
      },
      "outputs": [
        {
          "output_type": "error",
          "ename": "TypeError",
          "evalue": "ignored",
          "traceback": [
            "\u001b[0;31m---------------------------------------------------------------------------\u001b[0m",
            "\u001b[0;31mTypeError\u001b[0m                                 Traceback (most recent call last)",
            "\u001b[0;32m<ipython-input-11-0bb4ceb672ef>\u001b[0m in \u001b[0;36m<cell line: 3>\u001b[0;34m()\u001b[0m\n\u001b[1;32m      1\u001b[0m \u001b[0ma\u001b[0m \u001b[0;34m=\u001b[0m \u001b[0;34m\"pokhara\"\u001b[0m\u001b[0;34m\u001b[0m\u001b[0;34m\u001b[0m\u001b[0m\n\u001b[1;32m      2\u001b[0m \u001b[0mb\u001b[0m\u001b[0;34m=\u001b[0m\u001b[0;36m5\u001b[0m\u001b[0;34m\u001b[0m\u001b[0;34m\u001b[0m\u001b[0m\n\u001b[0;32m----> 3\u001b[0;31m \u001b[0ma\u001b[0m\u001b[0;34m+\u001b[0m\u001b[0mb\u001b[0m\u001b[0;34m\u001b[0m\u001b[0;34m\u001b[0m\u001b[0m\n\u001b[0m",
            "\u001b[0;31mTypeError\u001b[0m: can only concatenate str (not \"int\") to str"
          ]
        }
      ],
      "source": [
        "a = \"pokhara\"\n",
        "b=5\n",
        "a+b"
      ]
    },
    {
      "cell_type": "markdown",
      "id": "f660fd05",
      "metadata": {
        "id": "f660fd05"
      },
      "source": [
        "**String Repetition**  \n",
        "Creating a new string by repeating an existing string using the * operator."
      ]
    },
    {
      "cell_type": "code",
      "execution_count": 12,
      "id": "b9d94edf",
      "metadata": {
        "id": "b9d94edf",
        "colab": {
          "base_uri": "https://localhost:8080/",
          "height": 35
        },
        "outputId": "c3c14f02-31df-48f8-9202-80562a86ea6a"
      },
      "outputs": [
        {
          "output_type": "execute_result",
          "data": {
            "text/plain": [
              "'pokharapokharapokharapokharapokhara'"
            ],
            "application/vnd.google.colaboratory.intrinsic+json": {
              "type": "string"
            }
          },
          "metadata": {},
          "execution_count": 12
        }
      ],
      "source": [
        "a*b"
      ]
    },
    {
      "cell_type": "code",
      "execution_count": 13,
      "id": "906e74f6",
      "metadata": {
        "id": "906e74f6",
        "colab": {
          "base_uri": "https://localhost:8080/",
          "height": 35
        },
        "outputId": "5264cb01-268d-4af1-a94f-12c56df28cd1"
      },
      "outputs": [
        {
          "output_type": "execute_result",
          "data": {
            "text/plain": [
              "'ram ram ram '"
            ],
            "application/vnd.google.colaboratory.intrinsic+json": {
              "type": "string"
            }
          },
          "metadata": {},
          "execution_count": 13
        }
      ],
      "source": [
        "x = 'ram '\n",
        "x*3"
      ]
    },
    {
      "cell_type": "markdown",
      "id": "a31ab4de",
      "metadata": {
        "id": "a31ab4de"
      },
      "source": [
        "**String Membership**  \n",
        "Checking if a substring is present in a string using the in operator."
      ]
    },
    {
      "cell_type": "code",
      "execution_count": 14,
      "id": "fdd087bf",
      "metadata": {
        "id": "fdd087bf"
      },
      "outputs": [],
      "source": [
        "sentence = \"I love Python\""
      ]
    },
    {
      "cell_type": "code",
      "execution_count": 18,
      "id": "6d1d1f8d",
      "metadata": {
        "id": "6d1d1f8d",
        "colab": {
          "base_uri": "https://localhost:8080/"
        },
        "outputId": "dffe42a5-893c-4572-ee6e-3d12161aa50c"
      },
      "outputs": [
        {
          "output_type": "execute_result",
          "data": {
            "text/plain": [
              "True"
            ]
          },
          "metadata": {},
          "execution_count": 18
        }
      ],
      "source": [
        "\"love\" in sentence"
      ]
    },
    {
      "cell_type": "markdown",
      "id": "5dbf0ba1",
      "metadata": {
        "id": "5dbf0ba1"
      },
      "source": [
        "**String Iteration**   \n",
        "Strings are iterable and therefore they can be iterated one-by-one."
      ]
    },
    {
      "cell_type": "code",
      "execution_count": 2,
      "id": "d0802e8f",
      "metadata": {
        "id": "d0802e8f"
      },
      "outputs": [],
      "source": [
        "word = \"Biratnagar\""
      ]
    },
    {
      "cell_type": "code",
      "execution_count": 3,
      "id": "11deae1a",
      "metadata": {
        "id": "11deae1a",
        "colab": {
          "base_uri": "https://localhost:8080/"
        },
        "outputId": "9b8e3621-5890-45a9-c104-0f0bc87242d8"
      },
      "outputs": [
        {
          "output_type": "stream",
          "name": "stdout",
          "text": [
            "B\n",
            "i\n",
            "r\n",
            "a\n",
            "t\n",
            "n\n",
            "a\n",
            "g\n",
            "a\n",
            "r\n"
          ]
        }
      ],
      "source": [
        "for i in word:\n",
        "    print(i)"
      ]
    },
    {
      "cell_type": "code",
      "execution_count": 4,
      "id": "b1886219",
      "metadata": {
        "id": "b1886219",
        "colab": {
          "base_uri": "https://localhost:8080/"
        },
        "outputId": "bfbcd8af-afe3-4647-9763-741518483fa7"
      },
      "outputs": [
        {
          "output_type": "stream",
          "name": "stdout",
          "text": [
            "7\n",
            "8\n",
            "9\n"
          ]
        }
      ],
      "source": [
        "x = str(789)\n",
        "for i in x:\n",
        "    print(i)"
      ]
    },
    {
      "cell_type": "markdown",
      "id": "b3deca4e",
      "metadata": {
        "id": "b3deca4e"
      },
      "source": [
        "**String Methods**  \n",
        "Various methods like `lower()`, `upper()`, `strip()`, `replace()`, `split()`, etc., for manipulating and modifying strings."
      ]
    },
    {
      "cell_type": "markdown",
      "id": "a64f8a47",
      "metadata": {
        "id": "a64f8a47"
      },
      "source": [
        "String `upper()`"
      ]
    },
    {
      "cell_type": "code",
      "execution_count": 27,
      "id": "11b23da7",
      "metadata": {
        "id": "11b23da7",
        "colab": {
          "base_uri": "https://localhost:8080/",
          "height": 35
        },
        "outputId": "ab19e51d-eaff-4950-e8dc-cb3e0bbb2d4b"
      },
      "outputs": [
        {
          "output_type": "execute_result",
          "data": {
            "text/plain": [
              "'THIS IS WONDERFUL'"
            ],
            "application/vnd.google.colaboratory.intrinsic+json": {
              "type": "string"
            }
          },
          "metadata": {},
          "execution_count": 27
        }
      ],
      "source": [
        "sentence = \"This is wonderful\"\n",
        "sentence.upper()"
      ]
    },
    {
      "cell_type": "markdown",
      "id": "545725cf",
      "metadata": {
        "id": "545725cf"
      },
      "source": [
        "String `lower()`"
      ]
    },
    {
      "cell_type": "code",
      "execution_count": 5,
      "id": "ec8d9bf3",
      "metadata": {
        "id": "ec8d9bf3",
        "colab": {
          "base_uri": "https://localhost:8080/",
          "height": 35
        },
        "outputId": "755d2fed-7c9b-4844-88bd-0246667951cf"
      },
      "outputs": [
        {
          "output_type": "execute_result",
          "data": {
            "text/plain": [
              "'this is kathmandu'"
            ],
            "application/vnd.google.colaboratory.intrinsic+json": {
              "type": "string"
            }
          },
          "metadata": {},
          "execution_count": 5
        }
      ],
      "source": [
        "sentence = \"This is Kathmandu\"\n",
        "sentence.lower()"
      ]
    },
    {
      "cell_type": "markdown",
      "id": "c0a94d44",
      "metadata": {
        "id": "c0a94d44"
      },
      "source": [
        "String `capitalize()`"
      ]
    },
    {
      "cell_type": "code",
      "execution_count": 6,
      "id": "63a08141",
      "metadata": {
        "id": "63a08141",
        "colab": {
          "base_uri": "https://localhost:8080/",
          "height": 35
        },
        "outputId": "3f562bbd-1128-4125-8406-f0df6aa5c37d"
      },
      "outputs": [
        {
          "output_type": "execute_result",
          "data": {
            "text/plain": [
              "'This is kathmandu'"
            ],
            "application/vnd.google.colaboratory.intrinsic+json": {
              "type": "string"
            }
          },
          "metadata": {},
          "execution_count": 6
        }
      ],
      "source": [
        "sentence = \"this is Kathmandu\"\n",
        "sentence.capitalize()"
      ]
    },
    {
      "cell_type": "markdown",
      "id": "1e9ed530",
      "metadata": {
        "id": "1e9ed530"
      },
      "source": [
        "String `replace()`"
      ]
    },
    {
      "cell_type": "code",
      "execution_count": 7,
      "id": "02dfd0b3",
      "metadata": {
        "id": "02dfd0b3",
        "colab": {
          "base_uri": "https://localhost:8080/",
          "height": 35
        },
        "outputId": "510fcd00-fe58-4f07-c71f-a784b802c50c"
      },
      "outputs": [
        {
          "output_type": "execute_result",
          "data": {
            "text/plain": [
              "'St@awbe@@y'"
            ],
            "application/vnd.google.colaboratory.intrinsic+json": {
              "type": "string"
            }
          },
          "metadata": {},
          "execution_count": 7
        }
      ],
      "source": [
        "fruit = \"Strawberry\"\n",
        "fruit.replace('r','@')"
      ]
    },
    {
      "cell_type": "markdown",
      "id": "97bc571a",
      "metadata": {
        "id": "97bc571a"
      },
      "source": [
        "String `strip()`"
      ]
    },
    {
      "cell_type": "code",
      "execution_count": 8,
      "id": "3d9ff3d7",
      "metadata": {
        "id": "3d9ff3d7",
        "colab": {
          "base_uri": "https://localhost:8080/",
          "height": 35
        },
        "outputId": "3e831164-68be-4c87-c350-643a769dc1d5"
      },
      "outputs": [
        {
          "output_type": "execute_result",
          "data": {
            "text/plain": [
              "'Hello, World!'"
            ],
            "application/vnd.google.colaboratory.intrinsic+json": {
              "type": "string"
            }
          },
          "metadata": {},
          "execution_count": 8
        }
      ],
      "source": [
        "text = \"---Hello, World!---\"\n",
        "stripped_text = text.strip(\"-\")\n",
        "stripped_text"
      ]
    },
    {
      "cell_type": "markdown",
      "id": "65506caf",
      "metadata": {
        "id": "65506caf"
      },
      "source": [
        "String `split()`"
      ]
    },
    {
      "cell_type": "code",
      "execution_count": 9,
      "id": "6247a2e6",
      "metadata": {
        "id": "6247a2e6",
        "colab": {
          "base_uri": "https://localhost:8080/"
        },
        "outputId": "74f90573-4dcc-48c4-a840-57ddb6bd2455"
      },
      "outputs": [
        {
          "output_type": "execute_result",
          "data": {
            "text/plain": [
              "['apple', 'banana', 'orange']"
            ]
          },
          "metadata": {},
          "execution_count": 9
        }
      ],
      "source": [
        "text = \"apple,banana,orange\"\n",
        "fruits = text.split(\",\")\n",
        "fruits"
      ]
    },
    {
      "cell_type": "markdown",
      "id": "569e9d31",
      "metadata": {
        "id": "569e9d31"
      },
      "source": [
        "String `Count()`"
      ]
    },
    {
      "cell_type": "code",
      "execution_count": 11,
      "id": "b53ff616",
      "metadata": {
        "id": "b53ff616",
        "colab": {
          "base_uri": "https://localhost:8080/"
        },
        "outputId": "438b6b6a-660f-49cf-8005-85aa089f6c71"
      },
      "outputs": [
        {
          "output_type": "execute_result",
          "data": {
            "text/plain": [
              "1"
            ]
          },
          "metadata": {},
          "execution_count": 11
        }
      ],
      "source": [
        "name = \"Engineering\"\n",
        "name.count(\"E\")"
      ]
    },
    {
      "cell_type": "markdown",
      "id": "69fa3671",
      "metadata": {
        "id": "69fa3671"
      },
      "source": [
        "**String character escaping**"
      ]
    },
    {
      "cell_type": "code",
      "execution_count": 13,
      "id": "f016169b",
      "metadata": {
        "id": "f016169b",
        "colab": {
          "base_uri": "https://localhost:8080/",
          "height": 143
        },
        "outputId": "1ee05283-df7a-4249-e587-6c3058b300ec"
      },
      "outputs": [
        {
          "output_type": "error",
          "ename": "SyntaxError",
          "evalue": "ignored",
          "traceback": [
            "\u001b[0;36m  File \u001b[0;32m\"<ipython-input-13-1c77162114b2>\"\u001b[0;36m, line \u001b[0;32m1\u001b[0m\n\u001b[0;31m    text = \"This is a \"wonderful\" day\"\u001b[0m\n\u001b[0m                       ^\u001b[0m\n\u001b[0;31mSyntaxError\u001b[0m\u001b[0;31m:\u001b[0m invalid syntax\n"
          ]
        }
      ],
      "source": [
        "text = \"This is a \"wonderful\" day\"\n",
        "text"
      ]
    },
    {
      "cell_type": "code",
      "execution_count": 38,
      "id": "ab4662c4",
      "metadata": {
        "id": "ab4662c4",
        "colab": {
          "base_uri": "https://localhost:8080/",
          "height": 35
        },
        "outputId": "49c8b6cd-0614-4c22-a14c-ef7de637b347"
      },
      "outputs": [
        {
          "output_type": "execute_result",
          "data": {
            "text/plain": [
              "'This is a \"wonderful\" day '"
            ],
            "application/vnd.google.colaboratory.intrinsic+json": {
              "type": "string"
            }
          },
          "metadata": {},
          "execution_count": 38
        }
      ],
      "source": [
        "text = \"This is a \\\"wonderful\\\" day \"\n",
        "text"
      ]
    },
    {
      "cell_type": "markdown",
      "source": [
        "### Here are some common escape sequences and their meanings in Python:\n",
        "\n",
        "- `\\\\`: Backslash character\n",
        "- `\\'`: Single quotation mark\n",
        "- `\\\"`: Double quotation mark\n",
        "- `\\n`: Newline (line break)\n",
        "- `\\t`: Tab\n",
        "- `\\r`: Carriage return\n",
        "- `\\b`: Backspace\n",
        "- `\\f`: Form feed\n",
        "- `\\v`: Vertical tab\n",
        "- `\\xHH`: Unicode character in hexadecimal representation (e.g., `\\x41` for 'A')\n",
        "\n"
      ],
      "metadata": {
        "id": "iTHqfD6iRqaz"
      },
      "id": "iTHqfD6iRqaz"
    },
    {
      "cell_type": "markdown",
      "id": "7c702742",
      "metadata": {
        "id": "7c702742"
      },
      "source": [
        "**String Formatting with `f-string`**\n",
        "\n",
        "An f-string, also known as a formatted string literal, is a feature in Python that allows you to embed expressions inside string literals, using curly braces {}."
      ]
    },
    {
      "cell_type": "code",
      "execution_count": 14,
      "id": "edaaa0fd",
      "metadata": {
        "id": "edaaa0fd",
        "outputId": "d151d520-4c96-4b90-a2ee-27b28cc5f005",
        "colab": {
          "base_uri": "https://localhost:8080/"
        }
      },
      "outputs": [
        {
          "output_type": "stream",
          "name": "stdout",
          "text": [
            "I have 40000 dollars\n"
          ]
        }
      ],
      "source": [
        "amount = 40000\n",
        "print(f\"I have {amount} dollars\")"
      ]
    },
    {
      "cell_type": "code",
      "execution_count": 40,
      "id": "2dbc8cad",
      "metadata": {
        "id": "2dbc8cad",
        "outputId": "4b81ad6b-b5c4-45b1-9a09-8fcef9d89ffb",
        "colab": {
          "base_uri": "https://localhost:8080/"
        }
      },
      "outputs": [
        {
          "output_type": "stream",
          "name": "stdout",
          "text": [
            "My name is Anmol. Nice to meet you!\n"
          ]
        }
      ],
      "source": [
        "name = \"Anmol\"\n",
        "print(f\"My name is {name}. Nice to meet you!\")"
      ]
    },
    {
      "cell_type": "code",
      "execution_count": 44,
      "id": "d2f5512c",
      "metadata": {
        "id": "d2f5512c",
        "outputId": "a7aa4556-36cc-45e4-de97-05a7b0f1dfd4",
        "colab": {
          "base_uri": "https://localhost:8080/"
        }
      },
      "outputs": [
        {
          "output_type": "stream",
          "name": "stdout",
          "text": [
            "The sum is 50\n"
          ]
        }
      ],
      "source": [
        "a = 20\n",
        "b = 30\n",
        "print(f\"The sum is {a+b}\")"
      ]
    },
    {
      "cell_type": "markdown",
      "id": "2be9bc13",
      "metadata": {
        "id": "2be9bc13"
      },
      "source": [
        "**Python `input()` field**  \n",
        "The `input()` function prompts the user to enter a value."
      ]
    },
    {
      "cell_type": "code",
      "execution_count": 15,
      "id": "e0836725",
      "metadata": {
        "id": "e0836725",
        "outputId": "1395ca23-90c2-4a8b-c545-6739fcba7943",
        "colab": {
          "base_uri": "https://localhost:8080/"
        }
      },
      "outputs": [
        {
          "output_type": "stream",
          "name": "stdout",
          "text": [
            "Enter your name: Anmol Adhikari\n",
            "Hello, Anmol Adhikari ! Nice to meet you.\n"
          ]
        }
      ],
      "source": [
        "name = input(\"Enter your name: \")\n",
        "print(f\"Hello, {name} ! Nice to meet you.\")"
      ]
    },
    {
      "cell_type": "code",
      "execution_count": 46,
      "id": "c039416c",
      "metadata": {
        "id": "c039416c",
        "outputId": "9b52b631-793f-48dc-925c-9b169978f418",
        "colab": {
          "base_uri": "https://localhost:8080/"
        }
      },
      "outputs": [
        {
          "output_type": "stream",
          "name": "stdout",
          "text": [
            "Enter first amt: 1000\n",
            "Enter second amt: 1200\n",
            "The total is 10001200\n"
          ]
        }
      ],
      "source": [
        "amt1 = input(\"Enter first amt: \")\n",
        "amt2 = input(\"Enter second amt: \")\n",
        "print(f\"The total is {amt1+amt2}\")"
      ]
    },
    {
      "cell_type": "code",
      "execution_count": 47,
      "id": "d4b60952",
      "metadata": {
        "id": "d4b60952",
        "colab": {
          "base_uri": "https://localhost:8080/"
        },
        "outputId": "55e1b1e6-c4a4-48cc-8e3f-635acd8d4a1f"
      },
      "outputs": [
        {
          "output_type": "stream",
          "name": "stdout",
          "text": [
            "Enter the first age10\n",
            "Enter the second age12\n",
            "The combined age is 22\n"
          ]
        }
      ],
      "source": [
        "age1 = int(input(\"Enter the first age: \"))\n",
        "age2 = int(input(\"Enter the second age: \"))\n",
        "print(f\"The combined age is {age1+age2}\")"
      ]
    },
    {
      "cell_type": "markdown",
      "id": "49ff1f0c",
      "metadata": {
        "id": "49ff1f0c"
      },
      "source": [
        "You can also integrate `f-string` here"
      ]
    },
    {
      "cell_type": "code",
      "execution_count": 48,
      "id": "7bcc542a",
      "metadata": {
        "id": "7bcc542a",
        "outputId": "eb9c7248-3eeb-4bcc-8016-0ac2d35a5693",
        "colab": {
          "base_uri": "https://localhost:8080/"
        }
      },
      "outputs": [
        {
          "output_type": "stream",
          "name": "stdout",
          "text": [
            "Enter your age: 20\n",
            "You will be 30 years old in future.\n"
          ]
        }
      ],
      "source": [
        "age = int(input(\"Enter your age: \"))\n",
        "print(f\"You will be {age+10} years old in future.\")"
      ]
    },
    {
      "cell_type": "markdown",
      "id": "0aaa0899",
      "metadata": {
        "id": "0aaa0899"
      },
      "source": [
        "**[EXERCISE]**\n",
        "\n",
        "- Write a program that takes a user's name and age as input and prints a personalized message using an f-string. Eg: `Hello, Ram! You are 22 years old.`\n",
        "- Write a program that takes the radius of a circle as input and calculates its area. Print the result using an f-string.\n",
        "`\"The area of circle is ...\"`\n",
        "- Create a program that prompts the user for their birth year and calculates their age. Display the result using an f-string."
      ]
    },
    {
      "cell_type": "markdown",
      "id": "02b92bd4",
      "metadata": {
        "id": "02b92bd4"
      },
      "source": [
        "**[EXERCISE]**\n",
        "- Write a program that asks the user for their name and greets them with a personalized message using an f-string.\n",
        "- Create a program that requests the user's first and last names separately. Then, it combines the names using an f-string and displays the full name."
      ]
    },
    {
      "cell_type": "markdown",
      "id": "8d031d50",
      "metadata": {
        "id": "8d031d50"
      },
      "source": [
        "**String Comparision**"
      ]
    },
    {
      "cell_type": "code",
      "execution_count": 49,
      "id": "efa04826",
      "metadata": {
        "id": "efa04826",
        "outputId": "e5401187-7c02-4822-f6fb-2ca5630fbf01",
        "colab": {
          "base_uri": "https://localhost:8080/"
        }
      },
      "outputs": [
        {
          "output_type": "execute_result",
          "data": {
            "text/plain": [
              "True"
            ]
          },
          "metadata": {},
          "execution_count": 49
        }
      ],
      "source": [
        "a = 'apple'\n",
        "b = 'apple'\n",
        "a==b"
      ]
    },
    {
      "cell_type": "code",
      "execution_count": 50,
      "id": "f8f55002",
      "metadata": {
        "id": "f8f55002",
        "outputId": "495edd44-2a76-434e-cc6f-72bf38edd619",
        "colab": {
          "base_uri": "https://localhost:8080/"
        }
      },
      "outputs": [
        {
          "output_type": "execute_result",
          "data": {
            "text/plain": [
              "True"
            ]
          },
          "metadata": {},
          "execution_count": 50
        }
      ],
      "source": [
        "a = 'A'\n",
        "b = 'B'\n",
        "b>a"
      ]
    },
    {
      "cell_type": "markdown",
      "id": "14290b4f",
      "metadata": {
        "id": "14290b4f"
      },
      "source": [
        "\n",
        "Here's how the comparison works:\n",
        "\n",
        "- The Unicode code point of 'A' is 65.\n",
        "- The Unicode code point of 'B' is 66.\n",
        "\n",
        "Since the Unicode code point of 'B' is greater than the code point of 'A', the comparison `b > a` evaluates to True, indicating that the string 'B' comes after the string 'A' in lexicographic order.\n",
        "\n",
        "Similarly, you can use other comparison operators like `<`, `<=`, `>=`, and `==` to perform different types of string comparisons based on their lexicographic order.\n"
      ]
    },
    {
      "cell_type": "markdown",
      "id": "bfba4c5a",
      "metadata": {
        "id": "bfba4c5a"
      },
      "source": [
        "**String Conversion**"
      ]
    },
    {
      "cell_type": "code",
      "execution_count": 51,
      "id": "ee15ad42",
      "metadata": {
        "id": "ee15ad42"
      },
      "outputs": [],
      "source": [
        "a = 5\n",
        "b = str(a)"
      ]
    },
    {
      "cell_type": "code",
      "execution_count": 52,
      "id": "39354e55",
      "metadata": {
        "id": "39354e55",
        "outputId": "00c4dada-1501-4f24-9cfd-9f318c7cb810",
        "colab": {
          "base_uri": "https://localhost:8080/"
        }
      },
      "outputs": [
        {
          "output_type": "execute_result",
          "data": {
            "text/plain": [
              "int"
            ]
          },
          "metadata": {},
          "execution_count": 52
        }
      ],
      "source": [
        "type(a)"
      ]
    },
    {
      "cell_type": "code",
      "execution_count": 53,
      "id": "69b5a596",
      "metadata": {
        "id": "69b5a596",
        "outputId": "78b1d4f3-b73b-4a7e-9ac9-190c077b6063",
        "colab": {
          "base_uri": "https://localhost:8080/"
        }
      },
      "outputs": [
        {
          "output_type": "execute_result",
          "data": {
            "text/plain": [
              "str"
            ]
          },
          "metadata": {},
          "execution_count": 53
        }
      ],
      "source": [
        "type(b)"
      ]
    },
    {
      "cell_type": "code",
      "execution_count": 54,
      "id": "5c8f261d",
      "metadata": {
        "id": "5c8f261d",
        "outputId": "9568ce3e-b3e3-4ca8-abe2-565feda53132",
        "colab": {
          "base_uri": "https://localhost:8080/",
          "height": 35
        }
      },
      "outputs": [
        {
          "output_type": "execute_result",
          "data": {
            "text/plain": [
              "'5'"
            ],
            "application/vnd.google.colaboratory.intrinsic+json": {
              "type": "string"
            }
          },
          "metadata": {},
          "execution_count": 54
        }
      ],
      "source": [
        "b"
      ]
    }
  ],
  "metadata": {
    "kernelspec": {
      "display_name": "Python 3 (ipykernel)",
      "language": "python",
      "name": "python3"
    },
    "language_info": {
      "codemirror_mode": {
        "name": "ipython",
        "version": 3
      },
      "file_extension": ".py",
      "mimetype": "text/x-python",
      "name": "python",
      "nbconvert_exporter": "python",
      "pygments_lexer": "ipython3",
      "version": "3.10.11"
    },
    "colab": {
      "provenance": []
    }
  },
  "nbformat": 4,
  "nbformat_minor": 5
}