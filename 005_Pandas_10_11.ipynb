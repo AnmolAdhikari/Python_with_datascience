{
 "cells": [
  {
   "cell_type": "markdown",
   "id": "b5828074",
   "metadata": {},
   "source": [
    "!pip install pandas"
   ]
  },
  {
   "cell_type": "code",
   "execution_count": 1,
   "id": "77554ff4",
   "metadata": {},
   "outputs": [],
   "source": [
    "people = {\n",
    "    'first': ['Ram', 'Hari', 'Gopal'],\n",
    "    'last': ['Sharma', 'Yadav', 'Verma'],\n",
    "    'email': ['ram@gmail.com', 'hari@yahoo.com', 'gopal@hotmail.com']\n",
    "}"
   ]
  },
  {
   "cell_type": "markdown",
   "id": "92707c03",
   "metadata": {},
   "source": [
    "### How do you access the value of `email`?"
   ]
  },
  {
   "cell_type": "code",
   "execution_count": 7,
   "id": "41d14f2e",
   "metadata": {},
   "outputs": [
    {
     "data": {
      "text/plain": [
       "['ram@gmail.com', 'hari@yahoo.com', 'gopal@hotmail.com']"
      ]
     },
     "execution_count": 7,
     "metadata": {},
     "output_type": "execute_result"
    }
   ],
   "source": [
    "people['email']"
   ]
  },
  {
   "cell_type": "markdown",
   "id": "8f1a2ab1",
   "metadata": {},
   "source": [
    "### Another way you can access `email`?"
   ]
  },
  {
   "cell_type": "code",
   "execution_count": 9,
   "id": "30aa68ee",
   "metadata": {},
   "outputs": [
    {
     "data": {
      "text/plain": [
       "['ram@gmail.com', 'hari@yahoo.com', 'gopal@hotmail.com']"
      ]
     },
     "execution_count": 9,
     "metadata": {},
     "output_type": "execute_result"
    }
   ],
   "source": [
    "people.get('email')"
   ]
  },
  {
   "cell_type": "markdown",
   "id": "9548d3e1",
   "metadata": {},
   "source": [
    "### Converting into a dataframe\n",
    "```\n",
    "!pip install pandas\n",
    "```"
   ]
  },
  {
   "cell_type": "code",
   "execution_count": 10,
   "id": "9407494d",
   "metadata": {},
   "outputs": [],
   "source": [
    "import pandas as pd"
   ]
  },
  {
   "cell_type": "code",
   "execution_count": 11,
   "id": "e6a73260",
   "metadata": {},
   "outputs": [],
   "source": [
    "people_df = pd.DataFrame(people)"
   ]
  },
  {
   "cell_type": "code",
   "execution_count": 12,
   "id": "af9a6180",
   "metadata": {
    "scrolled": false
   },
   "outputs": [
    {
     "data": {
      "text/html": [
       "<div>\n",
       "<style scoped>\n",
       "    .dataframe tbody tr th:only-of-type {\n",
       "        vertical-align: middle;\n",
       "    }\n",
       "\n",
       "    .dataframe tbody tr th {\n",
       "        vertical-align: top;\n",
       "    }\n",
       "\n",
       "    .dataframe thead th {\n",
       "        text-align: right;\n",
       "    }\n",
       "</style>\n",
       "<table border=\"1\" class=\"dataframe\">\n",
       "  <thead>\n",
       "    <tr style=\"text-align: right;\">\n",
       "      <th></th>\n",
       "      <th>first</th>\n",
       "      <th>last</th>\n",
       "      <th>email</th>\n",
       "    </tr>\n",
       "  </thead>\n",
       "  <tbody>\n",
       "    <tr>\n",
       "      <th>0</th>\n",
       "      <td>Ram</td>\n",
       "      <td>Sharma</td>\n",
       "      <td>ram@gmail.com</td>\n",
       "    </tr>\n",
       "    <tr>\n",
       "      <th>1</th>\n",
       "      <td>Hari</td>\n",
       "      <td>Yadav</td>\n",
       "      <td>hari@yahoo.com</td>\n",
       "    </tr>\n",
       "    <tr>\n",
       "      <th>2</th>\n",
       "      <td>Gopal</td>\n",
       "      <td>Verma</td>\n",
       "      <td>gopal@hotmail.com</td>\n",
       "    </tr>\n",
       "  </tbody>\n",
       "</table>\n",
       "</div>"
      ],
      "text/plain": [
       "   first    last              email\n",
       "0    Ram  Sharma      ram@gmail.com\n",
       "1   Hari   Yadav     hari@yahoo.com\n",
       "2  Gopal   Verma  gopal@hotmail.com"
      ]
     },
     "execution_count": 12,
     "metadata": {},
     "output_type": "execute_result"
    }
   ],
   "source": [
    "people_df"
   ]
  },
  {
   "cell_type": "code",
   "execution_count": 13,
   "id": "ec47a2ac",
   "metadata": {},
   "outputs": [
    {
     "data": {
      "text/plain": [
       "pandas.core.frame.DataFrame"
      ]
     },
     "execution_count": 13,
     "metadata": {},
     "output_type": "execute_result"
    }
   ],
   "source": [
    "type(people_df)"
   ]
  },
  {
   "cell_type": "markdown",
   "id": "5f113d97",
   "metadata": {},
   "source": [
    "### Access `email`?"
   ]
  },
  {
   "cell_type": "code",
   "execution_count": 19,
   "id": "c0cb084a",
   "metadata": {},
   "outputs": [
    {
     "data": {
      "text/plain": [
       "0        ram@gmail.com\n",
       "1       hari@yahoo.com\n",
       "2    gopal@hotmail.com\n",
       "Name: email, dtype: object"
      ]
     },
     "execution_count": 19,
     "metadata": {},
     "output_type": "execute_result"
    }
   ],
   "source": [
    "people_df['email']"
   ]
  },
  {
   "cell_type": "markdown",
   "id": "b7a958fe",
   "metadata": {},
   "source": [
    "### Check the `type`"
   ]
  },
  {
   "cell_type": "code",
   "execution_count": null,
   "id": "4cec637b",
   "metadata": {},
   "outputs": [],
   "source": [
    "type(people_df['email'])"
   ]
  },
  {
   "cell_type": "markdown",
   "id": "f3aa786c",
   "metadata": {},
   "source": [
    "### How to access multiple columns?"
   ]
  },
  {
   "cell_type": "code",
   "execution_count": 20,
   "id": "8f0a141f",
   "metadata": {},
   "outputs": [
    {
     "data": {
      "text/html": [
       "<div>\n",
       "<style scoped>\n",
       "    .dataframe tbody tr th:only-of-type {\n",
       "        vertical-align: middle;\n",
       "    }\n",
       "\n",
       "    .dataframe tbody tr th {\n",
       "        vertical-align: top;\n",
       "    }\n",
       "\n",
       "    .dataframe thead th {\n",
       "        text-align: right;\n",
       "    }\n",
       "</style>\n",
       "<table border=\"1\" class=\"dataframe\">\n",
       "  <thead>\n",
       "    <tr style=\"text-align: right;\">\n",
       "      <th></th>\n",
       "      <th>first</th>\n",
       "      <th>email</th>\n",
       "    </tr>\n",
       "  </thead>\n",
       "  <tbody>\n",
       "    <tr>\n",
       "      <th>0</th>\n",
       "      <td>Ram</td>\n",
       "      <td>ram@gmail.com</td>\n",
       "    </tr>\n",
       "    <tr>\n",
       "      <th>1</th>\n",
       "      <td>Hari</td>\n",
       "      <td>hari@yahoo.com</td>\n",
       "    </tr>\n",
       "    <tr>\n",
       "      <th>2</th>\n",
       "      <td>Gopal</td>\n",
       "      <td>gopal@hotmail.com</td>\n",
       "    </tr>\n",
       "  </tbody>\n",
       "</table>\n",
       "</div>"
      ],
      "text/plain": [
       "   first              email\n",
       "0    Ram      ram@gmail.com\n",
       "1   Hari     hari@yahoo.com\n",
       "2  Gopal  gopal@hotmail.com"
      ]
     },
     "execution_count": 20,
     "metadata": {},
     "output_type": "execute_result"
    }
   ],
   "source": [
    "people_df[['first', 'email']]"
   ]
  },
  {
   "cell_type": "markdown",
   "id": "0a1f8077",
   "metadata": {},
   "source": [
    "### What are all the columns?"
   ]
  },
  {
   "cell_type": "code",
   "execution_count": 21,
   "id": "31c22047",
   "metadata": {},
   "outputs": [
    {
     "data": {
      "text/plain": [
       "Index(['first', 'last', 'email'], dtype='object')"
      ]
     },
     "execution_count": 21,
     "metadata": {},
     "output_type": "execute_result"
    }
   ],
   "source": [
    "people_df.columns"
   ]
  },
  {
   "cell_type": "markdown",
   "id": "d62fcea7",
   "metadata": {},
   "source": [
    "### `iloc`?"
   ]
  },
  {
   "cell_type": "code",
   "execution_count": 22,
   "id": "da1184b6",
   "metadata": {},
   "outputs": [
    {
     "data": {
      "text/html": [
       "<div>\n",
       "<style scoped>\n",
       "    .dataframe tbody tr th:only-of-type {\n",
       "        vertical-align: middle;\n",
       "    }\n",
       "\n",
       "    .dataframe tbody tr th {\n",
       "        vertical-align: top;\n",
       "    }\n",
       "\n",
       "    .dataframe thead th {\n",
       "        text-align: right;\n",
       "    }\n",
       "</style>\n",
       "<table border=\"1\" class=\"dataframe\">\n",
       "  <thead>\n",
       "    <tr style=\"text-align: right;\">\n",
       "      <th></th>\n",
       "      <th>first</th>\n",
       "      <th>last</th>\n",
       "      <th>email</th>\n",
       "    </tr>\n",
       "  </thead>\n",
       "  <tbody>\n",
       "    <tr>\n",
       "      <th>0</th>\n",
       "      <td>Ram</td>\n",
       "      <td>Sharma</td>\n",
       "      <td>ram@gmail.com</td>\n",
       "    </tr>\n",
       "    <tr>\n",
       "      <th>1</th>\n",
       "      <td>Hari</td>\n",
       "      <td>Yadav</td>\n",
       "      <td>hari@yahoo.com</td>\n",
       "    </tr>\n",
       "    <tr>\n",
       "      <th>2</th>\n",
       "      <td>Gopal</td>\n",
       "      <td>Verma</td>\n",
       "      <td>gopal@hotmail.com</td>\n",
       "    </tr>\n",
       "  </tbody>\n",
       "</table>\n",
       "</div>"
      ],
      "text/plain": [
       "   first    last              email\n",
       "0    Ram  Sharma      ram@gmail.com\n",
       "1   Hari   Yadav     hari@yahoo.com\n",
       "2  Gopal   Verma  gopal@hotmail.com"
      ]
     },
     "execution_count": 22,
     "metadata": {},
     "output_type": "execute_result"
    }
   ],
   "source": [
    "people_df"
   ]
  },
  {
   "cell_type": "code",
   "execution_count": 39,
   "id": "bf104916",
   "metadata": {},
   "outputs": [
    {
     "data": {
      "text/html": [
       "<div>\n",
       "<style scoped>\n",
       "    .dataframe tbody tr th:only-of-type {\n",
       "        vertical-align: middle;\n",
       "    }\n",
       "\n",
       "    .dataframe tbody tr th {\n",
       "        vertical-align: top;\n",
       "    }\n",
       "\n",
       "    .dataframe thead th {\n",
       "        text-align: right;\n",
       "    }\n",
       "</style>\n",
       "<table border=\"1\" class=\"dataframe\">\n",
       "  <thead>\n",
       "    <tr style=\"text-align: right;\">\n",
       "      <th></th>\n",
       "      <th>first</th>\n",
       "      <th>email</th>\n",
       "    </tr>\n",
       "  </thead>\n",
       "  <tbody>\n",
       "    <tr>\n",
       "      <th>0</th>\n",
       "      <td>Ram</td>\n",
       "      <td>ram@gmail.com</td>\n",
       "    </tr>\n",
       "    <tr>\n",
       "      <th>2</th>\n",
       "      <td>Gopal</td>\n",
       "      <td>gopal@hotmail.com</td>\n",
       "    </tr>\n",
       "  </tbody>\n",
       "</table>\n",
       "</div>"
      ],
      "text/plain": [
       "   first              email\n",
       "0    Ram      ram@gmail.com\n",
       "2  Gopal  gopal@hotmail.com"
      ]
     },
     "execution_count": 39,
     "metadata": {},
     "output_type": "execute_result"
    }
   ],
   "source": [
    "people_df.iloc[[0,2],[0,2]]"
   ]
  },
  {
   "cell_type": "code",
   "execution_count": 41,
   "id": "b59853dc",
   "metadata": {},
   "outputs": [
    {
     "data": {
      "text/html": [
       "<div>\n",
       "<style scoped>\n",
       "    .dataframe tbody tr th:only-of-type {\n",
       "        vertical-align: middle;\n",
       "    }\n",
       "\n",
       "    .dataframe tbody tr th {\n",
       "        vertical-align: top;\n",
       "    }\n",
       "\n",
       "    .dataframe thead th {\n",
       "        text-align: right;\n",
       "    }\n",
       "</style>\n",
       "<table border=\"1\" class=\"dataframe\">\n",
       "  <thead>\n",
       "    <tr style=\"text-align: right;\">\n",
       "      <th></th>\n",
       "      <th>first</th>\n",
       "      <th>email</th>\n",
       "    </tr>\n",
       "  </thead>\n",
       "  <tbody>\n",
       "    <tr>\n",
       "      <th>0</th>\n",
       "      <td>Ram</td>\n",
       "      <td>ram@gmail.com</td>\n",
       "    </tr>\n",
       "    <tr>\n",
       "      <th>2</th>\n",
       "      <td>Gopal</td>\n",
       "      <td>gopal@hotmail.com</td>\n",
       "    </tr>\n",
       "  </tbody>\n",
       "</table>\n",
       "</div>"
      ],
      "text/plain": [
       "   first              email\n",
       "0    Ram      ram@gmail.com\n",
       "2  Gopal  gopal@hotmail.com"
      ]
     },
     "execution_count": 41,
     "metadata": {},
     "output_type": "execute_result"
    }
   ],
   "source": [
    "people_df.loc[[0,2],['first','email']]"
   ]
  },
  {
   "cell_type": "code",
   "execution_count": null,
   "id": "e7b56d6d",
   "metadata": {},
   "outputs": [],
   "source": []
  },
  {
   "cell_type": "code",
   "execution_count": null,
   "id": "7fe02522",
   "metadata": {},
   "outputs": [],
   "source": [
    "people_df.iloc[0:2,0:2] # IT GIVES YOU 0,1 (IGNORES 2)"
   ]
  },
  {
   "cell_type": "code",
   "execution_count": null,
   "id": "97f985d0",
   "metadata": {},
   "outputs": [],
   "source": []
  },
  {
   "cell_type": "code",
   "execution_count": null,
   "id": "58f17b45",
   "metadata": {},
   "outputs": [],
   "source": [
    "people_df.loc[0:2,'first':'last']"
   ]
  },
  {
   "cell_type": "code",
   "execution_count": null,
   "id": "0a6e063d",
   "metadata": {},
   "outputs": [],
   "source": [
    "people_df.iloc[0]"
   ]
  },
  {
   "cell_type": "markdown",
   "id": "10c9e013",
   "metadata": {},
   "source": [
    "### Multiple `iloc`?"
   ]
  },
  {
   "cell_type": "code",
   "execution_count": null,
   "id": "f4f95344",
   "metadata": {},
   "outputs": [],
   "source": [
    "people_df.iloc[[0,2]]"
   ]
  },
  {
   "cell_type": "code",
   "execution_count": null,
   "id": "eb3284f8",
   "metadata": {},
   "outputs": [],
   "source": [
    "people_df.iloc[[0,2],[0,2]]"
   ]
  },
  {
   "cell_type": "markdown",
   "id": "f8fc5083",
   "metadata": {},
   "source": [
    "### `loc`?"
   ]
  },
  {
   "cell_type": "code",
   "execution_count": null,
   "id": "9f89a457",
   "metadata": {},
   "outputs": [],
   "source": [
    "people_df.loc[[1,2],['first','email']]"
   ]
  },
  {
   "cell_type": "markdown",
   "id": "91425184",
   "metadata": {},
   "source": [
    "### Custom range"
   ]
  },
  {
   "cell_type": "code",
   "execution_count": null,
   "id": "23d3c565",
   "metadata": {},
   "outputs": [],
   "source": [
    "people_df.loc[0:2,'first':'email']"
   ]
  },
  {
   "cell_type": "markdown",
   "id": "1abd96a3",
   "metadata": {},
   "source": [
    "### Fake data\n",
    "- Access `3`rd to `7`th row with `iloc`\n",
    "- Access `4`th to `8`th row with `loc`\n",
    "- Access the `first` and `last` name of `4`th index\n",
    "    - using `loc` and `iloc` both\n",
    "- Access `first`, `last`, and `email` of `5` to `7`th index\n",
    "    - using `loc` and `iloc` both"
   ]
  },
  {
   "cell_type": "code",
   "execution_count": 50,
   "id": "33b48e50",
   "metadata": {},
   "outputs": [
    {
     "data": {
      "text/html": [
       "<div>\n",
       "<style scoped>\n",
       "    .dataframe tbody tr th:only-of-type {\n",
       "        vertical-align: middle;\n",
       "    }\n",
       "\n",
       "    .dataframe tbody tr th {\n",
       "        vertical-align: top;\n",
       "    }\n",
       "\n",
       "    .dataframe thead th {\n",
       "        text-align: right;\n",
       "    }\n",
       "</style>\n",
       "<table border=\"1\" class=\"dataframe\">\n",
       "  <thead>\n",
       "    <tr style=\"text-align: right;\">\n",
       "      <th></th>\n",
       "      <th>first</th>\n",
       "      <th>last</th>\n",
       "      <th>email</th>\n",
       "    </tr>\n",
       "  </thead>\n",
       "  <tbody>\n",
       "    <tr>\n",
       "      <th>5</th>\n",
       "      <td>Sophia</td>\n",
       "      <td>Brown</td>\n",
       "      <td>sophia@example.com</td>\n",
       "    </tr>\n",
       "    <tr>\n",
       "      <th>6</th>\n",
       "      <td>Elijah</td>\n",
       "      <td>Davis</td>\n",
       "      <td>elijah@example.com</td>\n",
       "    </tr>\n",
       "    <tr>\n",
       "      <th>7</th>\n",
       "      <td>Emma</td>\n",
       "      <td>Miller</td>\n",
       "      <td>emma@example.com</td>\n",
       "    </tr>\n",
       "  </tbody>\n",
       "</table>\n",
       "</div>"
      ],
      "text/plain": [
       "    first    last               email\n",
       "5  Sophia   Brown  sophia@example.com\n",
       "6  Elijah   Davis  elijah@example.com\n",
       "7    Emma  Miller    emma@example.com"
      ]
     },
     "execution_count": 50,
     "metadata": {},
     "output_type": "execute_result"
    }
   ],
   "source": [
    "people_df.iloc[5:8,0:3]"
   ]
  },
  {
   "cell_type": "code",
   "execution_count": 42,
   "id": "8448737b",
   "metadata": {},
   "outputs": [],
   "source": [
    "people = {\n",
    "    'first': [\n",
    "        'Ram', 'Hari', 'Gopal', 'Isabella', 'Oliver', 'Sophia', 'Elijah', 'Emma',\n",
    "        'William', 'Ava'\n",
    "    ],\n",
    "    'last': [\n",
    "        'Sharma', 'Yadav', 'Verma', 'Smith', 'Johnson', 'Brown', 'Davis', 'Miller',\n",
    "        'Wilson', 'Moore'\n",
    "    ],\n",
    "    'email': [\n",
    "        'ram@gmail.com', 'hari@yahoo.com', 'gopal@hotmail.com', 'isabella@example.com',\n",
    "        'oliver@example.com', 'sophia@example.com', 'elijah@example.com', 'emma@example.com',\n",
    "        'william@example.com', 'ava@example.com'\n",
    "    ]\n",
    "}"
   ]
  },
  {
   "cell_type": "code",
   "execution_count": null,
   "id": "2b72ee9d",
   "metadata": {},
   "outputs": [],
   "source": []
  },
  {
   "cell_type": "code",
   "execution_count": null,
   "id": "9347b046",
   "metadata": {},
   "outputs": [],
   "source": []
  },
  {
   "cell_type": "markdown",
   "id": "573c8bb9",
   "metadata": {},
   "source": [
    "### Importing a CSV?"
   ]
  },
  {
   "cell_type": "code",
   "execution_count": 51,
   "id": "c61aa39b",
   "metadata": {},
   "outputs": [
    {
     "data": {
      "text/html": [
       "<div>\n",
       "<style scoped>\n",
       "    .dataframe tbody tr th:only-of-type {\n",
       "        vertical-align: middle;\n",
       "    }\n",
       "\n",
       "    .dataframe tbody tr th {\n",
       "        vertical-align: top;\n",
       "    }\n",
       "\n",
       "    .dataframe thead th {\n",
       "        text-align: right;\n",
       "    }\n",
       "</style>\n",
       "<table border=\"1\" class=\"dataframe\">\n",
       "  <thead>\n",
       "    <tr style=\"text-align: right;\">\n",
       "      <th></th>\n",
       "      <th>Name</th>\n",
       "      <th>Age</th>\n",
       "      <th>Grade</th>\n",
       "    </tr>\n",
       "  </thead>\n",
       "  <tbody>\n",
       "    <tr>\n",
       "      <th>0</th>\n",
       "      <td>Lisa Marquez</td>\n",
       "      <td>16</td>\n",
       "      <td>11</td>\n",
       "    </tr>\n",
       "    <tr>\n",
       "      <th>1</th>\n",
       "      <td>Elizabeth Gilbert</td>\n",
       "      <td>16</td>\n",
       "      <td>12</td>\n",
       "    </tr>\n",
       "    <tr>\n",
       "      <th>2</th>\n",
       "      <td>Jacqueline Frazier</td>\n",
       "      <td>18</td>\n",
       "      <td>11</td>\n",
       "    </tr>\n",
       "    <tr>\n",
       "      <th>3</th>\n",
       "      <td>Jessica Gonzalez</td>\n",
       "      <td>17</td>\n",
       "      <td>11</td>\n",
       "    </tr>\n",
       "    <tr>\n",
       "      <th>4</th>\n",
       "      <td>Meghan Gardner</td>\n",
       "      <td>18</td>\n",
       "      <td>11</td>\n",
       "    </tr>\n",
       "    <tr>\n",
       "      <th>...</th>\n",
       "      <td>...</td>\n",
       "      <td>...</td>\n",
       "      <td>...</td>\n",
       "    </tr>\n",
       "    <tr>\n",
       "      <th>95</th>\n",
       "      <td>Evan French</td>\n",
       "      <td>15</td>\n",
       "      <td>11</td>\n",
       "    </tr>\n",
       "    <tr>\n",
       "      <th>96</th>\n",
       "      <td>Christian Tucker</td>\n",
       "      <td>17</td>\n",
       "      <td>11</td>\n",
       "    </tr>\n",
       "    <tr>\n",
       "      <th>97</th>\n",
       "      <td>Bianca Kane MD</td>\n",
       "      <td>16</td>\n",
       "      <td>10</td>\n",
       "    </tr>\n",
       "    <tr>\n",
       "      <th>98</th>\n",
       "      <td>Sandra Meadows</td>\n",
       "      <td>17</td>\n",
       "      <td>11</td>\n",
       "    </tr>\n",
       "    <tr>\n",
       "      <th>99</th>\n",
       "      <td>Jerry Smith</td>\n",
       "      <td>18</td>\n",
       "      <td>10</td>\n",
       "    </tr>\n",
       "  </tbody>\n",
       "</table>\n",
       "<p>100 rows × 3 columns</p>\n",
       "</div>"
      ],
      "text/plain": [
       "                  Name  Age  Grade\n",
       "0         Lisa Marquez   16     11\n",
       "1    Elizabeth Gilbert   16     12\n",
       "2   Jacqueline Frazier   18     11\n",
       "3     Jessica Gonzalez   17     11\n",
       "4       Meghan Gardner   18     11\n",
       "..                 ...  ...    ...\n",
       "95         Evan French   15     11\n",
       "96    Christian Tucker   17     11\n",
       "97      Bianca Kane MD   16     10\n",
       "98      Sandra Meadows   17     11\n",
       "99         Jerry Smith   18     10\n",
       "\n",
       "[100 rows x 3 columns]"
      ]
     },
     "execution_count": 51,
     "metadata": {},
     "output_type": "execute_result"
    }
   ],
   "source": [
    "import pandas as pd\n",
    "df = pd.read_csv('student.csv')\n",
    "df"
   ]
  },
  {
   "cell_type": "markdown",
   "id": "fc849902",
   "metadata": {},
   "source": [
    "## Class exercise\n",
    "- Extract the column `Name`.\n",
    "- Extract the column `Age` and `Grade` together.\n",
    "- Extract the detail of index `20` and `30` using `iloc` method.\n",
    "- Extract the detail of index `3` to `8` using `iloc` method.\n",
    "- Extract the `Name` of index `4` using `loc` method.\n",
    "- Extract the `Name` and `Grade` of index `22` and `55` using `iloc` method.\n",
    "- Extract the `Age` of index `40` to `60` using `loc` method."
   ]
  },
  {
   "cell_type": "code",
   "execution_count": 69,
   "id": "cfa67750",
   "metadata": {},
   "outputs": [
    {
     "data": {
      "text/html": [
       "<div>\n",
       "<style scoped>\n",
       "    .dataframe tbody tr th:only-of-type {\n",
       "        vertical-align: middle;\n",
       "    }\n",
       "\n",
       "    .dataframe tbody tr th {\n",
       "        vertical-align: top;\n",
       "    }\n",
       "\n",
       "    .dataframe thead th {\n",
       "        text-align: right;\n",
       "    }\n",
       "</style>\n",
       "<table border=\"1\" class=\"dataframe\">\n",
       "  <thead>\n",
       "    <tr style=\"text-align: right;\">\n",
       "      <th></th>\n",
       "      <th>Name</th>\n",
       "      <th>Age</th>\n",
       "      <th>Grade</th>\n",
       "    </tr>\n",
       "  </thead>\n",
       "  <tbody>\n",
       "    <tr>\n",
       "      <th>0</th>\n",
       "      <td>Lisa Marquez</td>\n",
       "      <td>16</td>\n",
       "      <td>11</td>\n",
       "    </tr>\n",
       "    <tr>\n",
       "      <th>1</th>\n",
       "      <td>Elizabeth Gilbert</td>\n",
       "      <td>16</td>\n",
       "      <td>12</td>\n",
       "    </tr>\n",
       "    <tr>\n",
       "      <th>7</th>\n",
       "      <td>Christopher Hernandez</td>\n",
       "      <td>16</td>\n",
       "      <td>11</td>\n",
       "    </tr>\n",
       "    <tr>\n",
       "      <th>11</th>\n",
       "      <td>Richard Schwartz</td>\n",
       "      <td>16</td>\n",
       "      <td>10</td>\n",
       "    </tr>\n",
       "    <tr>\n",
       "      <th>12</th>\n",
       "      <td>Amanda Wood</td>\n",
       "      <td>16</td>\n",
       "      <td>12</td>\n",
       "    </tr>\n",
       "    <tr>\n",
       "      <th>13</th>\n",
       "      <td>Emily Riley</td>\n",
       "      <td>16</td>\n",
       "      <td>9</td>\n",
       "    </tr>\n",
       "    <tr>\n",
       "      <th>15</th>\n",
       "      <td>Cynthia Taylor</td>\n",
       "      <td>16</td>\n",
       "      <td>9</td>\n",
       "    </tr>\n",
       "    <tr>\n",
       "      <th>20</th>\n",
       "      <td>Brandon Conley</td>\n",
       "      <td>16</td>\n",
       "      <td>10</td>\n",
       "    </tr>\n",
       "    <tr>\n",
       "      <th>23</th>\n",
       "      <td>Donna Duncan</td>\n",
       "      <td>16</td>\n",
       "      <td>12</td>\n",
       "    </tr>\n",
       "    <tr>\n",
       "      <th>30</th>\n",
       "      <td>Victoria Edwards</td>\n",
       "      <td>16</td>\n",
       "      <td>10</td>\n",
       "    </tr>\n",
       "    <tr>\n",
       "      <th>31</th>\n",
       "      <td>Shelly Mccall</td>\n",
       "      <td>16</td>\n",
       "      <td>11</td>\n",
       "    </tr>\n",
       "    <tr>\n",
       "      <th>34</th>\n",
       "      <td>Molly Carroll</td>\n",
       "      <td>16</td>\n",
       "      <td>12</td>\n",
       "    </tr>\n",
       "    <tr>\n",
       "      <th>44</th>\n",
       "      <td>Sharon Russell</td>\n",
       "      <td>16</td>\n",
       "      <td>10</td>\n",
       "    </tr>\n",
       "    <tr>\n",
       "      <th>46</th>\n",
       "      <td>Charles Cooper</td>\n",
       "      <td>16</td>\n",
       "      <td>12</td>\n",
       "    </tr>\n",
       "    <tr>\n",
       "      <th>50</th>\n",
       "      <td>Aaron Welch</td>\n",
       "      <td>16</td>\n",
       "      <td>11</td>\n",
       "    </tr>\n",
       "    <tr>\n",
       "      <th>62</th>\n",
       "      <td>Jennifer Rogers</td>\n",
       "      <td>16</td>\n",
       "      <td>11</td>\n",
       "    </tr>\n",
       "    <tr>\n",
       "      <th>63</th>\n",
       "      <td>Kelly Mullins</td>\n",
       "      <td>16</td>\n",
       "      <td>9</td>\n",
       "    </tr>\n",
       "    <tr>\n",
       "      <th>64</th>\n",
       "      <td>Laura Jenkins</td>\n",
       "      <td>16</td>\n",
       "      <td>9</td>\n",
       "    </tr>\n",
       "    <tr>\n",
       "      <th>74</th>\n",
       "      <td>Erin Todd</td>\n",
       "      <td>16</td>\n",
       "      <td>11</td>\n",
       "    </tr>\n",
       "    <tr>\n",
       "      <th>85</th>\n",
       "      <td>Charles Thomas</td>\n",
       "      <td>16</td>\n",
       "      <td>10</td>\n",
       "    </tr>\n",
       "    <tr>\n",
       "      <th>97</th>\n",
       "      <td>Bianca Kane MD</td>\n",
       "      <td>16</td>\n",
       "      <td>10</td>\n",
       "    </tr>\n",
       "  </tbody>\n",
       "</table>\n",
       "</div>"
      ],
      "text/plain": [
       "                     Name  Age  Grade\n",
       "0            Lisa Marquez   16     11\n",
       "1       Elizabeth Gilbert   16     12\n",
       "7   Christopher Hernandez   16     11\n",
       "11       Richard Schwartz   16     10\n",
       "12            Amanda Wood   16     12\n",
       "13            Emily Riley   16      9\n",
       "15         Cynthia Taylor   16      9\n",
       "20         Brandon Conley   16     10\n",
       "23           Donna Duncan   16     12\n",
       "30       Victoria Edwards   16     10\n",
       "31          Shelly Mccall   16     11\n",
       "34          Molly Carroll   16     12\n",
       "44         Sharon Russell   16     10\n",
       "46         Charles Cooper   16     12\n",
       "50            Aaron Welch   16     11\n",
       "62        Jennifer Rogers   16     11\n",
       "63          Kelly Mullins   16      9\n",
       "64          Laura Jenkins   16      9\n",
       "74              Erin Todd   16     11\n",
       "85         Charles Thomas   16     10\n",
       "97         Bianca Kane MD   16     10"
      ]
     },
     "execution_count": 69,
     "metadata": {},
     "output_type": "execute_result"
    }
   ],
   "source": [
    "df[df['Age']==16]"
   ]
  },
  {
   "cell_type": "code",
   "execution_count": 70,
   "id": "97abaf56",
   "metadata": {},
   "outputs": [
    {
     "data": {
      "text/html": [
       "<div>\n",
       "<style scoped>\n",
       "    .dataframe tbody tr th:only-of-type {\n",
       "        vertical-align: middle;\n",
       "    }\n",
       "\n",
       "    .dataframe tbody tr th {\n",
       "        vertical-align: top;\n",
       "    }\n",
       "\n",
       "    .dataframe thead th {\n",
       "        text-align: right;\n",
       "    }\n",
       "</style>\n",
       "<table border=\"1\" class=\"dataframe\">\n",
       "  <thead>\n",
       "    <tr style=\"text-align: right;\">\n",
       "      <th></th>\n",
       "      <th>Name</th>\n",
       "      <th>Age</th>\n",
       "      <th>Grade</th>\n",
       "    </tr>\n",
       "  </thead>\n",
       "  <tbody>\n",
       "    <tr>\n",
       "      <th>0</th>\n",
       "      <td>Lisa Marquez</td>\n",
       "      <td>16</td>\n",
       "      <td>11</td>\n",
       "    </tr>\n",
       "    <tr>\n",
       "      <th>1</th>\n",
       "      <td>Elizabeth Gilbert</td>\n",
       "      <td>16</td>\n",
       "      <td>12</td>\n",
       "    </tr>\n",
       "    <tr>\n",
       "      <th>7</th>\n",
       "      <td>Christopher Hernandez</td>\n",
       "      <td>16</td>\n",
       "      <td>11</td>\n",
       "    </tr>\n",
       "    <tr>\n",
       "      <th>11</th>\n",
       "      <td>Richard Schwartz</td>\n",
       "      <td>16</td>\n",
       "      <td>10</td>\n",
       "    </tr>\n",
       "    <tr>\n",
       "      <th>12</th>\n",
       "      <td>Amanda Wood</td>\n",
       "      <td>16</td>\n",
       "      <td>12</td>\n",
       "    </tr>\n",
       "    <tr>\n",
       "      <th>13</th>\n",
       "      <td>Emily Riley</td>\n",
       "      <td>16</td>\n",
       "      <td>9</td>\n",
       "    </tr>\n",
       "    <tr>\n",
       "      <th>15</th>\n",
       "      <td>Cynthia Taylor</td>\n",
       "      <td>16</td>\n",
       "      <td>9</td>\n",
       "    </tr>\n",
       "    <tr>\n",
       "      <th>20</th>\n",
       "      <td>Brandon Conley</td>\n",
       "      <td>16</td>\n",
       "      <td>10</td>\n",
       "    </tr>\n",
       "    <tr>\n",
       "      <th>23</th>\n",
       "      <td>Donna Duncan</td>\n",
       "      <td>16</td>\n",
       "      <td>12</td>\n",
       "    </tr>\n",
       "    <tr>\n",
       "      <th>30</th>\n",
       "      <td>Victoria Edwards</td>\n",
       "      <td>16</td>\n",
       "      <td>10</td>\n",
       "    </tr>\n",
       "    <tr>\n",
       "      <th>31</th>\n",
       "      <td>Shelly Mccall</td>\n",
       "      <td>16</td>\n",
       "      <td>11</td>\n",
       "    </tr>\n",
       "    <tr>\n",
       "      <th>34</th>\n",
       "      <td>Molly Carroll</td>\n",
       "      <td>16</td>\n",
       "      <td>12</td>\n",
       "    </tr>\n",
       "    <tr>\n",
       "      <th>44</th>\n",
       "      <td>Sharon Russell</td>\n",
       "      <td>16</td>\n",
       "      <td>10</td>\n",
       "    </tr>\n",
       "    <tr>\n",
       "      <th>46</th>\n",
       "      <td>Charles Cooper</td>\n",
       "      <td>16</td>\n",
       "      <td>12</td>\n",
       "    </tr>\n",
       "    <tr>\n",
       "      <th>50</th>\n",
       "      <td>Aaron Welch</td>\n",
       "      <td>16</td>\n",
       "      <td>11</td>\n",
       "    </tr>\n",
       "    <tr>\n",
       "      <th>62</th>\n",
       "      <td>Jennifer Rogers</td>\n",
       "      <td>16</td>\n",
       "      <td>11</td>\n",
       "    </tr>\n",
       "    <tr>\n",
       "      <th>63</th>\n",
       "      <td>Kelly Mullins</td>\n",
       "      <td>16</td>\n",
       "      <td>9</td>\n",
       "    </tr>\n",
       "    <tr>\n",
       "      <th>64</th>\n",
       "      <td>Laura Jenkins</td>\n",
       "      <td>16</td>\n",
       "      <td>9</td>\n",
       "    </tr>\n",
       "    <tr>\n",
       "      <th>74</th>\n",
       "      <td>Erin Todd</td>\n",
       "      <td>16</td>\n",
       "      <td>11</td>\n",
       "    </tr>\n",
       "    <tr>\n",
       "      <th>85</th>\n",
       "      <td>Charles Thomas</td>\n",
       "      <td>16</td>\n",
       "      <td>10</td>\n",
       "    </tr>\n",
       "    <tr>\n",
       "      <th>97</th>\n",
       "      <td>Bianca Kane MD</td>\n",
       "      <td>16</td>\n",
       "      <td>10</td>\n",
       "    </tr>\n",
       "  </tbody>\n",
       "</table>\n",
       "</div>"
      ],
      "text/plain": [
       "                     Name  Age  Grade\n",
       "0            Lisa Marquez   16     11\n",
       "1       Elizabeth Gilbert   16     12\n",
       "7   Christopher Hernandez   16     11\n",
       "11       Richard Schwartz   16     10\n",
       "12            Amanda Wood   16     12\n",
       "13            Emily Riley   16      9\n",
       "15         Cynthia Taylor   16      9\n",
       "20         Brandon Conley   16     10\n",
       "23           Donna Duncan   16     12\n",
       "30       Victoria Edwards   16     10\n",
       "31          Shelly Mccall   16     11\n",
       "34          Molly Carroll   16     12\n",
       "44         Sharon Russell   16     10\n",
       "46         Charles Cooper   16     12\n",
       "50            Aaron Welch   16     11\n",
       "62        Jennifer Rogers   16     11\n",
       "63          Kelly Mullins   16      9\n",
       "64          Laura Jenkins   16      9\n",
       "74              Erin Todd   16     11\n",
       "85         Charles Thomas   16     10\n",
       "97         Bianca Kane MD   16     10"
      ]
     },
     "execution_count": 70,
     "metadata": {},
     "output_type": "execute_result"
    }
   ],
   "source": [
    "query_equal_to_16 = df['Age']==16\n",
    "\n",
    "df.loc[query_equal_to_16]"
   ]
  },
  {
   "cell_type": "code",
   "execution_count": 76,
   "id": "b287b578",
   "metadata": {},
   "outputs": [
    {
     "data": {
      "text/plain": [
       "<Axes: ylabel='count'>"
      ]
     },
     "execution_count": 76,
     "metadata": {},
     "output_type": "execute_result"
    },
    {
     "data": {
      "image/png": "[encoded data removed]",
      "text/plain": [
       "<Figure size 640x480 with 1 Axes>"
      ]
     },
     "metadata": {},
     "output_type": "display_data"
    }
   ],
   "source": [
    "(df['Age'] == 16).value_counts().plot.pie()"
   ]
  },
  {
   "cell_type": "markdown",
   "id": "48811e69",
   "metadata": {},
   "source": [
    "## Takeaway problem\n",
    "- Download the following file and extract `survey_results_public.csv` https://drive.google.com/file/d/1TYX83fO6QLY57fZHG7eDyyf9M8htYogH/view?usp=sharing\n",
    "- Read the csv and store as a dataframe in `df` variable.\n",
    "- Extract all the column names.\n",
    "- Extract the items of column named `Hobbyist`.\n",
    "- Extract the `Hobbyist` record of index `1`.\n",
    "- Extract the `Hobbyist` and `EdLevel` info of index `1`, `3`, and `5`.\n",
    "- Extract the record of `MainBranch` to `Student` of index `10` to `20`."
   ]
  },
  {
   "cell_type": "code",
   "execution_count": null,
   "id": "b6df9a16",
   "metadata": {},
   "outputs": [],
   "source": []
  }
 ],
 "metadata": {
  "kernelspec": {
   "display_name": "Python 3 (ipykernel)",
   "language": "python",
   "name": "python3"
  },
  "language_info": {
   "codemirror_mode": {
    "name": "ipython",
    "version": 3
   },
   "file_extension": ".py",
   "mimetype": "text/x-python",
   "name": "python",
   "nbconvert_exporter": "python",
   "pygments_lexer": "ipython3",
   "version": "3.10.11"
  }
 },
 "nbformat": 4,
 "nbformat_minor": 5
}
