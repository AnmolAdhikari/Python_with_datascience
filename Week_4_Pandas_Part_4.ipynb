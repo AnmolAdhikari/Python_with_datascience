{
 "cells": [
  {
   "cell_type": "markdown",
   "id": "e2ca995b",
   "metadata": {},
   "source": [
    "### Pandas Grouping and Aggregation"
   ]
  },
  {
   "cell_type": "code",
   "execution_count": null,
   "id": "ce55b470",
   "metadata": {},
   "outputs": [],
   "source": [
    "import pandas as pd"
   ]
  },
  {
   "cell_type": "code",
   "execution_count": null,
   "id": "5e36772f",
   "metadata": {},
   "outputs": [],
   "source": [
    "df = pd.read_csv('survey_results_public.csv')\n",
    "schema_df = pd.read_csv('survey_results_schema.csv', index_col='Column')"
   ]
  },
  {
   "cell_type": "markdown",
   "id": "0ffc74fa",
   "metadata": {},
   "source": [
    "### Finding the mean and median"
   ]
  },
  {
   "cell_type": "code",
   "execution_count": null,
   "id": "01d7bf5c",
   "metadata": {},
   "outputs": [],
   "source": [
    "df['ConvertedComp'].mean()"
   ]
  },
  {
   "cell_type": "code",
   "execution_count": null,
   "id": "721defaf",
   "metadata": {},
   "outputs": [],
   "source": [
    "df['ConvertedComp'].median()"
   ]
  },
  {
   "cell_type": "markdown",
   "id": "da4ef1dd",
   "metadata": {},
   "source": [
    "### Describe the dataframe"
   ]
  },
  {
   "cell_type": "code",
   "execution_count": null,
   "id": "16c66a43",
   "metadata": {
    "scrolled": true
   },
   "outputs": [],
   "source": [
    "df.describe()"
   ]
  },
  {
   "cell_type": "markdown",
   "id": "057424b0",
   "metadata": {},
   "source": [
    "### What does this code do?"
   ]
  },
  {
   "cell_type": "code",
   "execution_count": null,
   "id": "a962676a",
   "metadata": {},
   "outputs": [],
   "source": [
    "filt_usa = df['Country'] == 'United States'\n",
    "\n",
    "df.loc[filt_usa,'SocialMedia'].value_counts()"
   ]
  },
  {
   "cell_type": "markdown",
   "id": "2d08e3b9",
   "metadata": {},
   "source": [
    "### Try for Nepal, India, Russian Federation, China"
   ]
  },
  {
   "cell_type": "code",
   "execution_count": null,
   "id": "486779b1",
   "metadata": {},
   "outputs": [],
   "source": []
  },
  {
   "cell_type": "markdown",
   "id": "0d90212b",
   "metadata": {},
   "source": [
    "### The `groupby` function"
   ]
  },
  {
   "cell_type": "code",
   "execution_count": null,
   "id": "e3182cf6",
   "metadata": {},
   "outputs": [],
   "source": [
    "country_group = df.groupby('Country')"
   ]
  },
  {
   "cell_type": "code",
   "execution_count": null,
   "id": "c5696b97",
   "metadata": {},
   "outputs": [],
   "source": [
    "country_group"
   ]
  },
  {
   "cell_type": "code",
   "execution_count": null,
   "id": "b88e48c9",
   "metadata": {},
   "outputs": [],
   "source": [
    "country_group['SocialMedia'].value_counts()"
   ]
  },
  {
   "cell_type": "code",
   "execution_count": null,
   "id": "f8312430",
   "metadata": {},
   "outputs": [],
   "source": [
    "country_group['SocialMedia'].value_counts().head(50)"
   ]
  },
  {
   "cell_type": "markdown",
   "id": "ddc6bf28",
   "metadata": {},
   "source": [
    "### What if we want to find for a specific country?"
   ]
  },
  {
   "cell_type": "code",
   "execution_count": null,
   "id": "121f8e2f",
   "metadata": {},
   "outputs": [],
   "source": [
    "country_group['SocialMedia'].value_counts().loc['Nepal']"
   ]
  },
  {
   "cell_type": "markdown",
   "id": "f35b5b25",
   "metadata": {},
   "source": [
    "### Most popular in India?"
   ]
  },
  {
   "cell_type": "code",
   "execution_count": null,
   "id": "a1ef6989",
   "metadata": {},
   "outputs": [],
   "source": [
    "country_group['SocialMedia'].value_counts().loc['India']"
   ]
  },
  {
   "cell_type": "markdown",
   "id": "0495b673",
   "metadata": {},
   "source": [
    "### Brazil?"
   ]
  },
  {
   "cell_type": "code",
   "execution_count": null,
   "id": "e5f79693",
   "metadata": {},
   "outputs": [],
   "source": [
    "country_group['SocialMedia'].value_counts().loc['Brazil']"
   ]
  },
  {
   "cell_type": "markdown",
   "id": "e58b88dd",
   "metadata": {},
   "source": [
    "### What about China?"
   ]
  },
  {
   "cell_type": "code",
   "execution_count": null,
   "id": "9d4acfd6",
   "metadata": {},
   "outputs": [],
   "source": [
    "country_group['SocialMedia'].value_counts().loc['China']"
   ]
  },
  {
   "cell_type": "markdown",
   "id": "7dc0ec7e",
   "metadata": {},
   "source": [
    "### USA?"
   ]
  },
  {
   "cell_type": "code",
   "execution_count": null,
   "id": "9a68f8e7",
   "metadata": {},
   "outputs": [],
   "source": [
    "country_group['SocialMedia'].value_counts().loc['United States']"
   ]
  },
  {
   "cell_type": "code",
   "execution_count": null,
   "id": "6c628b50",
   "metadata": {},
   "outputs": [],
   "source": [
    "country_group['SocialMedia'].value_counts().loc['China'].plot.bar()"
   ]
  },
  {
   "cell_type": "markdown",
   "id": "8eceb52e",
   "metadata": {},
   "source": [
    "### Lets do a median grouping for Salary"
   ]
  },
  {
   "cell_type": "code",
   "execution_count": null,
   "id": "84044cd9",
   "metadata": {},
   "outputs": [],
   "source": [
    "country_group['ConvertedComp'].median()"
   ]
  },
  {
   "cell_type": "markdown",
   "id": "33366e13",
   "metadata": {},
   "source": [
    "### How much are Nepali developers earning on average?"
   ]
  },
  {
   "cell_type": "code",
   "execution_count": null,
   "id": "0cf2275b",
   "metadata": {},
   "outputs": [],
   "source": [
    "country_group['ConvertedComp'].median().loc['Nepal']"
   ]
  },
  {
   "cell_type": "code",
   "execution_count": null,
   "id": "d16d39a6",
   "metadata": {},
   "outputs": [],
   "source": [
    "country_group['ConvertedComp'].median().loc['India']"
   ]
  },
  {
   "cell_type": "markdown",
   "id": "e1a260ee",
   "metadata": {},
   "source": [
    "### Compare it to India"
   ]
  },
  {
   "cell_type": "code",
   "execution_count": null,
   "id": "3acc7c7f",
   "metadata": {},
   "outputs": [],
   "source": [
    "country_group['ConvertedComp'].mean().loc['India']"
   ]
  },
  {
   "cell_type": "code",
   "execution_count": null,
   "id": "eeb06e92",
   "metadata": {},
   "outputs": [],
   "source": [
    "country_group['ConvertedComp'].median().loc['India']"
   ]
  },
  {
   "cell_type": "markdown",
   "id": "907d4462",
   "metadata": {},
   "source": [
    "### The power of aggregation `agg` function"
   ]
  },
  {
   "cell_type": "code",
   "execution_count": null,
   "id": "e71ced63",
   "metadata": {},
   "outputs": [],
   "source": [
    "country_group['ConvertedComp'].agg(['mean','median','min', 'max'])"
   ]
  },
  {
   "cell_type": "markdown",
   "id": "7d99c72f",
   "metadata": {},
   "source": [
    "### Finding for a specific country"
   ]
  },
  {
   "cell_type": "code",
   "execution_count": null,
   "id": "9e8cb645",
   "metadata": {},
   "outputs": [],
   "source": [
    "country_group['ConvertedComp'].agg(['mean','median', 'min', 'max']).loc['Nepal']"
   ]
  },
  {
   "cell_type": "markdown",
   "id": "6227073d",
   "metadata": {},
   "source": [
    "### Some exercises"
   ]
  },
  {
   "cell_type": "markdown",
   "id": "a26387d6",
   "metadata": {},
   "source": [
    "Education Data Analysis\n",
    "- Get the `EdLevel` data  of Nepal\n",
    "- Count and plot the `EdLevel` data of Nepal\n",
    "- Perform grouping of countries and find the `EdLevel` data\n",
    "- Compare the education status of developers from `India` and `Nepal`.\n",
    "- Using `agg` function, compute the `mean`, `median`, `max`, and `min` data of `age` of all countries."
   ]
  },
  {
   "cell_type": "markdown",
   "id": "ee2ff347",
   "metadata": {},
   "source": [
    "### Some more analysis\n",
    "\n",
    "1. How many developers code as a hobby, and how does it vary across different countries? Hint: `Hobbyist` and `Country`\n",
    "2. What is the average number of years developers have been coding professionally? Hint: `YearsCodePro`\n",
    "3. How does job satisfaction vary based on the number of working hours per week? Hint: `JobSat` and `WorkWeekHrs`\n",
    "4. What are the most common web frameworks used by developers, and are there any preferences for the next year? Hint: `WebFrameWorkedWith` and `WebFrameDesireNextYear`\n",
    "5. Is there any relationship between compensation and the number of years of coding experience? Hint: `ConvertedComp`\n",
    "6. Do developers who work remotely report higher career satisfaction compared to those who don't? Hint: `WorkRemote` and `JobSat`\n",
    "7. What is the average age of developers across different countries, and how does it affect their career satisfaction? Hint: `CareerSat`"
   ]
  },
  {
   "cell_type": "code",
   "execution_count": null,
   "id": "831e096c",
   "metadata": {},
   "outputs": [],
   "source": [
    "# Assuming 'df' is the DataFrame containing the survey data\n",
    "\n",
    "# 1. How many developers code as a hobby, and how does it vary across different countries?\n",
    "hobbyist_count = df['Hobbyist'].value_counts()\n",
    "hobbyist_by_country = df.groupby('Country')['Hobbyist'].value_counts().unstack()\n",
    "\n",
    "# 2. What is the average number of years developers have been coding professionally?\n",
    "df['YearsCodePro'] = df['YearsCodePro'].replace('Less than 1 year', '0')\n",
    "df['YearsCodePro'] = df['YearsCodePro'].replace('More than 50 years', '51').astype(float)\n",
    "average_years_pro = df['YearsCodePro'].mean()\n",
    "\n",
    "# 3. How does job satisfaction vary based on the number of working hours per week?\n",
    "job_sat_by_work_hrs = df.groupby('WorkWeekHrs')['JobSat'].value_counts().unstack()\n",
    "\n",
    "# 4. What are the most common web frameworks used by developers, and are there any preferences for the next year?\n",
    "web_frameworks_used = df['WebFrameWorkedWith'].str.split(';', expand=True).stack().value_counts()\n",
    "web_frameworks_desire = df['WebFrameDesireNextYear'].str.split(';', expand=True).stack().value_counts()\n",
    "\n",
    "# 5. Is there any relationship between compensation and the number of years of coding experience?\n",
    "comp_vs_experience = df.groupby('YearsCode')['ConvertedComp'].median()\n",
    "\n",
    "# 6. Do developers who work remotely report higher career satisfaction compared to those who don't?\n",
    "remote_vs_career_sat = df.groupby('WorkRemote')['CareerSat'].value_counts().unstack()\n",
    "\n",
    "# 7. What is the average age of developers across different countries, and how does it affect their career satisfaction?\n",
    "average_age_by_country = df.groupby('Country')['Age'].mean()\n",
    "career_sat_by_age = df.groupby('Age')['CareerSat'].value_counts().unstack()\n"
   ]
  },
  {
   "cell_type": "markdown",
   "id": "d3e3480a",
   "metadata": {},
   "source": [
    "### So far..."
   ]
  },
  {
   "cell_type": "code",
   "execution_count": null,
   "id": "d5b214cd",
   "metadata": {},
   "outputs": [],
   "source": []
  },
  {
   "cell_type": "code",
   "execution_count": 2,
   "id": "5c82e043",
   "metadata": {},
   "outputs": [],
   "source": [
    "import pandas as pd\n",
    "df = pd.read_csv('survey_results_public.csv')\n",
    "country_group = df.groupby('Country')"
   ]
  },
  {
   "cell_type": "markdown",
   "id": "419fc2f1",
   "metadata": {},
   "source": [
    "### Let's see which country uses Python the most!\n",
    "But first, lets understand `lambda` in Python."
   ]
  },
  {
   "cell_type": "code",
   "execution_count": null,
   "id": "345f97a7",
   "metadata": {},
   "outputs": [],
   "source": [
    "square = lambda x: x**2"
   ]
  },
  {
   "cell_type": "code",
   "execution_count": null,
   "id": "56daf997",
   "metadata": {},
   "outputs": [],
   "source": [
    "type(square)"
   ]
  },
  {
   "cell_type": "code",
   "execution_count": null,
   "id": "8884c000",
   "metadata": {},
   "outputs": [],
   "source": [
    "# Using the lambda function\n",
    "square(5)"
   ]
  },
  {
   "cell_type": "code",
   "execution_count": null,
   "id": "a441ea0d",
   "metadata": {},
   "outputs": [],
   "source": [
    "x = lambda a : a + 10\n",
    "x(5)"
   ]
  },
  {
   "cell_type": "code",
   "execution_count": null,
   "id": "06a567fc",
   "metadata": {},
   "outputs": [],
   "source": [
    "x = lambda a,b,c:(a*b)+c\n",
    "x(4,5,6)"
   ]
  },
  {
   "cell_type": "code",
   "execution_count": null,
   "id": "e5f75f9c",
   "metadata": {},
   "outputs": [],
   "source": [
    "def pooja(a,b,c):\n",
    "    return (a*b)+c\n",
    "\n",
    "pooja(4,5,6)"
   ]
  },
  {
   "cell_type": "markdown",
   "id": "5773a18f",
   "metadata": {},
   "source": [
    "### What percentage of people know Python from each countries?"
   ]
  },
  {
   "cell_type": "markdown",
   "id": "5431ecf4",
   "metadata": {},
   "source": [
    "Pandas `apply()` allow the users to pass a function and apply it on every single value of the Pandas series. "
   ]
  },
  {
   "cell_type": "code",
   "execution_count": 3,
   "id": "e616fe83",
   "metadata": {},
   "outputs": [
    {
     "data": {
      "text/plain": [
       "Country      LanguageWorkedWith                           \n",
       "Afghanistan  HTML/CSS;JavaScript;PHP;SQL                      3\n",
       "             Python                                           2\n",
       "             HTML/CSS;Java;JavaScript;PHP;Python;SQL          2\n",
       "             HTML/CSS;Java;PHP;SQL                            2\n",
       "             Assembly                                         1\n",
       "                                                             ..\n",
       "Zimbabwe     C++;C#;HTML/CSS;Java;PHP;SQL                     1\n",
       "             C++;HTML/CSS;Java;PHP                            1\n",
       "             C++;HTML/CSS;JavaScript;PHP;R;SQL                1\n",
       "             C;C++;C#;HTML/CSS;Java;JavaScript;PHP;SQL;VBA    1\n",
       "             Python                                           1\n",
       "Name: count, Length: 48114, dtype: int64"
      ]
     },
     "execution_count": 3,
     "metadata": {},
     "output_type": "execute_result"
    }
   ],
   "source": [
    "country_group['LanguageWorkedWith'].value_counts()"
   ]
  },
  {
   "cell_type": "code",
   "execution_count": 4,
   "id": "e59e8801",
   "metadata": {},
   "outputs": [
    {
     "data": {
      "text/plain": [
       "Country\n",
       "Afghanistan                              8\n",
       "Albania                                 23\n",
       "Algeria                                 40\n",
       "Andorra                                  0\n",
       "Angola                                   2\n",
       "                                        ..\n",
       "Venezuela, Bolivarian Republic of...    28\n",
       "Viet Nam                                78\n",
       "Yemen                                    3\n",
       "Zambia                                   4\n",
       "Zimbabwe                                14\n",
       "Name: LanguageWorkedWith, Length: 179, dtype: int64"
      ]
     },
     "execution_count": 4,
     "metadata": {},
     "output_type": "execute_result"
    }
   ],
   "source": [
    "country_uses_python = country_group['LanguageWorkedWith'].apply(lambda x: x.str.contains('Python').sum())\n",
    "country_uses_python"
   ]
  },
  {
   "cell_type": "code",
   "execution_count": 5,
   "id": "db898ad0",
   "metadata": {
    "scrolled": true
   },
   "outputs": [
    {
     "data": {
      "text/plain": [
       "Country\n",
       "United States        20949\n",
       "India                 9061\n",
       "Germany               5866\n",
       "United Kingdom        5737\n",
       "Canada                3395\n",
       "                     ...  \n",
       "Tonga                    1\n",
       "Timor-Leste              1\n",
       "North Korea              1\n",
       "Brunei Darussalam        1\n",
       "Chad                     1\n",
       "Name: count, Length: 179, dtype: int64"
      ]
     },
     "execution_count": 5,
     "metadata": {},
     "output_type": "execute_result"
    }
   ],
   "source": [
    "country_total = df['Country'].value_counts()\n",
    "country_total"
   ]
  },
  {
   "cell_type": "code",
   "execution_count": 6,
   "id": "b5ffcb5b",
   "metadata": {},
   "outputs": [
    {
     "data": {
      "text/html": [
       "<div>\n",
       "<style scoped>\n",
       "    .dataframe tbody tr th:only-of-type {\n",
       "        vertical-align: middle;\n",
       "    }\n",
       "\n",
       "    .dataframe tbody tr th {\n",
       "        vertical-align: top;\n",
       "    }\n",
       "\n",
       "    .dataframe thead th {\n",
       "        text-align: right;\n",
       "    }\n",
       "</style>\n",
       "<table border=\"1\" class=\"dataframe\">\n",
       "  <thead>\n",
       "    <tr style=\"text-align: right;\">\n",
       "      <th></th>\n",
       "      <th>count</th>\n",
       "      <th>LanguageWorkedWith</th>\n",
       "    </tr>\n",
       "    <tr>\n",
       "      <th>Country</th>\n",
       "      <th></th>\n",
       "      <th></th>\n",
       "    </tr>\n",
       "  </thead>\n",
       "  <tbody>\n",
       "    <tr>\n",
       "      <th>United States</th>\n",
       "      <td>20949</td>\n",
       "      <td>10083</td>\n",
       "    </tr>\n",
       "    <tr>\n",
       "      <th>India</th>\n",
       "      <td>9061</td>\n",
       "      <td>3105</td>\n",
       "    </tr>\n",
       "    <tr>\n",
       "      <th>Germany</th>\n",
       "      <td>5866</td>\n",
       "      <td>2451</td>\n",
       "    </tr>\n",
       "    <tr>\n",
       "      <th>United Kingdom</th>\n",
       "      <td>5737</td>\n",
       "      <td>2384</td>\n",
       "    </tr>\n",
       "    <tr>\n",
       "      <th>Canada</th>\n",
       "      <td>3395</td>\n",
       "      <td>1558</td>\n",
       "    </tr>\n",
       "    <tr>\n",
       "      <th>...</th>\n",
       "      <td>...</td>\n",
       "      <td>...</td>\n",
       "    </tr>\n",
       "    <tr>\n",
       "      <th>Tonga</th>\n",
       "      <td>1</td>\n",
       "      <td>0</td>\n",
       "    </tr>\n",
       "    <tr>\n",
       "      <th>Timor-Leste</th>\n",
       "      <td>1</td>\n",
       "      <td>1</td>\n",
       "    </tr>\n",
       "    <tr>\n",
       "      <th>North Korea</th>\n",
       "      <td>1</td>\n",
       "      <td>0</td>\n",
       "    </tr>\n",
       "    <tr>\n",
       "      <th>Brunei Darussalam</th>\n",
       "      <td>1</td>\n",
       "      <td>0</td>\n",
       "    </tr>\n",
       "    <tr>\n",
       "      <th>Chad</th>\n",
       "      <td>1</td>\n",
       "      <td>0</td>\n",
       "    </tr>\n",
       "  </tbody>\n",
       "</table>\n",
       "<p>179 rows × 2 columns</p>\n",
       "</div>"
      ],
      "text/plain": [
       "                   count  LanguageWorkedWith\n",
       "Country                                     \n",
       "United States      20949               10083\n",
       "India               9061                3105\n",
       "Germany             5866                2451\n",
       "United Kingdom      5737                2384\n",
       "Canada              3395                1558\n",
       "...                  ...                 ...\n",
       "Tonga                  1                   0\n",
       "Timor-Leste            1                   1\n",
       "North Korea            1                   0\n",
       "Brunei Darussalam      1                   0\n",
       "Chad                   1                   0\n",
       "\n",
       "[179 rows x 2 columns]"
      ]
     },
     "execution_count": 6,
     "metadata": {},
     "output_type": "execute_result"
    }
   ],
   "source": [
    "python_df = pd.concat([country_total,country_uses_python], axis='columns')\n",
    "python_df"
   ]
  },
  {
   "cell_type": "code",
   "execution_count": 7,
   "id": "3833b4f3",
   "metadata": {},
   "outputs": [
    {
     "data": {
      "text/html": [
       "<div>\n",
       "<style scoped>\n",
       "    .dataframe tbody tr th:only-of-type {\n",
       "        vertical-align: middle;\n",
       "    }\n",
       "\n",
       "    .dataframe tbody tr th {\n",
       "        vertical-align: top;\n",
       "    }\n",
       "\n",
       "    .dataframe thead th {\n",
       "        text-align: right;\n",
       "    }\n",
       "</style>\n",
       "<table border=\"1\" class=\"dataframe\">\n",
       "  <thead>\n",
       "    <tr style=\"text-align: right;\">\n",
       "      <th></th>\n",
       "      <th>TotalDevelopers</th>\n",
       "      <th>KnowsPython</th>\n",
       "    </tr>\n",
       "    <tr>\n",
       "      <th>Country</th>\n",
       "      <th></th>\n",
       "      <th></th>\n",
       "    </tr>\n",
       "  </thead>\n",
       "  <tbody>\n",
       "    <tr>\n",
       "      <th>United States</th>\n",
       "      <td>20949</td>\n",
       "      <td>10083</td>\n",
       "    </tr>\n",
       "    <tr>\n",
       "      <th>India</th>\n",
       "      <td>9061</td>\n",
       "      <td>3105</td>\n",
       "    </tr>\n",
       "    <tr>\n",
       "      <th>Germany</th>\n",
       "      <td>5866</td>\n",
       "      <td>2451</td>\n",
       "    </tr>\n",
       "    <tr>\n",
       "      <th>United Kingdom</th>\n",
       "      <td>5737</td>\n",
       "      <td>2384</td>\n",
       "    </tr>\n",
       "    <tr>\n",
       "      <th>Canada</th>\n",
       "      <td>3395</td>\n",
       "      <td>1558</td>\n",
       "    </tr>\n",
       "    <tr>\n",
       "      <th>...</th>\n",
       "      <td>...</td>\n",
       "      <td>...</td>\n",
       "    </tr>\n",
       "    <tr>\n",
       "      <th>Tonga</th>\n",
       "      <td>1</td>\n",
       "      <td>0</td>\n",
       "    </tr>\n",
       "    <tr>\n",
       "      <th>Timor-Leste</th>\n",
       "      <td>1</td>\n",
       "      <td>1</td>\n",
       "    </tr>\n",
       "    <tr>\n",
       "      <th>North Korea</th>\n",
       "      <td>1</td>\n",
       "      <td>0</td>\n",
       "    </tr>\n",
       "    <tr>\n",
       "      <th>Brunei Darussalam</th>\n",
       "      <td>1</td>\n",
       "      <td>0</td>\n",
       "    </tr>\n",
       "    <tr>\n",
       "      <th>Chad</th>\n",
       "      <td>1</td>\n",
       "      <td>0</td>\n",
       "    </tr>\n",
       "  </tbody>\n",
       "</table>\n",
       "<p>179 rows × 2 columns</p>\n",
       "</div>"
      ],
      "text/plain": [
       "                   TotalDevelopers  KnowsPython\n",
       "Country                                        \n",
       "United States                20949        10083\n",
       "India                         9061         3105\n",
       "Germany                       5866         2451\n",
       "United Kingdom                5737         2384\n",
       "Canada                        3395         1558\n",
       "...                            ...          ...\n",
       "Tonga                            1            0\n",
       "Timor-Leste                      1            1\n",
       "North Korea                      1            0\n",
       "Brunei Darussalam                1            0\n",
       "Chad                             1            0\n",
       "\n",
       "[179 rows x 2 columns]"
      ]
     },
     "execution_count": 7,
     "metadata": {},
     "output_type": "execute_result"
    }
   ],
   "source": [
    "python_df.rename(columns={'count':'TotalDevelopers','LanguageWorkedWith':'KnowsPython'}, inplace=True)\n",
    "python_df"
   ]
  },
  {
   "cell_type": "code",
   "execution_count": 8,
   "id": "10ab7a6c",
   "metadata": {},
   "outputs": [
    {
     "data": {
      "text/plain": [
       "Country\n",
       "United States         48.131176\n",
       "India                 34.267741\n",
       "Germany               41.783157\n",
       "United Kingdom        41.554820\n",
       "Canada                45.891016\n",
       "                        ...    \n",
       "Tonga                  0.000000\n",
       "Timor-Leste          100.000000\n",
       "North Korea            0.000000\n",
       "Brunei Darussalam      0.000000\n",
       "Chad                   0.000000\n",
       "Length: 179, dtype: float64"
      ]
     },
     "execution_count": 8,
     "metadata": {},
     "output_type": "execute_result"
    }
   ],
   "source": [
    "(python_df['KnowsPython']/python_df['TotalDevelopers'])*100"
   ]
  },
  {
   "cell_type": "code",
   "execution_count": null,
   "id": "41420b77",
   "metadata": {},
   "outputs": [],
   "source": []
  },
  {
   "cell_type": "code",
   "execution_count": 9,
   "id": "c9b09a2d",
   "metadata": {},
   "outputs": [
    {
     "data": {
      "text/html": [
       "<div>\n",
       "<style scoped>\n",
       "    .dataframe tbody tr th:only-of-type {\n",
       "        vertical-align: middle;\n",
       "    }\n",
       "\n",
       "    .dataframe tbody tr th {\n",
       "        vertical-align: top;\n",
       "    }\n",
       "\n",
       "    .dataframe thead th {\n",
       "        text-align: right;\n",
       "    }\n",
       "</style>\n",
       "<table border=\"1\" class=\"dataframe\">\n",
       "  <thead>\n",
       "    <tr style=\"text-align: right;\">\n",
       "      <th></th>\n",
       "      <th>TotalDevelopers</th>\n",
       "      <th>KnowsPython</th>\n",
       "      <th>PercentKnowsPython</th>\n",
       "    </tr>\n",
       "    <tr>\n",
       "      <th>Country</th>\n",
       "      <th></th>\n",
       "      <th></th>\n",
       "      <th></th>\n",
       "    </tr>\n",
       "  </thead>\n",
       "  <tbody>\n",
       "    <tr>\n",
       "      <th>United States</th>\n",
       "      <td>20949</td>\n",
       "      <td>10083</td>\n",
       "      <td>48.131176</td>\n",
       "    </tr>\n",
       "    <tr>\n",
       "      <th>India</th>\n",
       "      <td>9061</td>\n",
       "      <td>3105</td>\n",
       "      <td>34.267741</td>\n",
       "    </tr>\n",
       "    <tr>\n",
       "      <th>Germany</th>\n",
       "      <td>5866</td>\n",
       "      <td>2451</td>\n",
       "      <td>41.783157</td>\n",
       "    </tr>\n",
       "    <tr>\n",
       "      <th>United Kingdom</th>\n",
       "      <td>5737</td>\n",
       "      <td>2384</td>\n",
       "      <td>41.554820</td>\n",
       "    </tr>\n",
       "    <tr>\n",
       "      <th>Canada</th>\n",
       "      <td>3395</td>\n",
       "      <td>1558</td>\n",
       "      <td>45.891016</td>\n",
       "    </tr>\n",
       "    <tr>\n",
       "      <th>...</th>\n",
       "      <td>...</td>\n",
       "      <td>...</td>\n",
       "      <td>...</td>\n",
       "    </tr>\n",
       "    <tr>\n",
       "      <th>Tonga</th>\n",
       "      <td>1</td>\n",
       "      <td>0</td>\n",
       "      <td>0.000000</td>\n",
       "    </tr>\n",
       "    <tr>\n",
       "      <th>Timor-Leste</th>\n",
       "      <td>1</td>\n",
       "      <td>1</td>\n",
       "      <td>100.000000</td>\n",
       "    </tr>\n",
       "    <tr>\n",
       "      <th>North Korea</th>\n",
       "      <td>1</td>\n",
       "      <td>0</td>\n",
       "      <td>0.000000</td>\n",
       "    </tr>\n",
       "    <tr>\n",
       "      <th>Brunei Darussalam</th>\n",
       "      <td>1</td>\n",
       "      <td>0</td>\n",
       "      <td>0.000000</td>\n",
       "    </tr>\n",
       "    <tr>\n",
       "      <th>Chad</th>\n",
       "      <td>1</td>\n",
       "      <td>0</td>\n",
       "      <td>0.000000</td>\n",
       "    </tr>\n",
       "  </tbody>\n",
       "</table>\n",
       "<p>179 rows × 3 columns</p>\n",
       "</div>"
      ],
      "text/plain": [
       "                   TotalDevelopers  KnowsPython  PercentKnowsPython\n",
       "Country                                                            \n",
       "United States                20949        10083           48.131176\n",
       "India                         9061         3105           34.267741\n",
       "Germany                       5866         2451           41.783157\n",
       "United Kingdom                5737         2384           41.554820\n",
       "Canada                        3395         1558           45.891016\n",
       "...                            ...          ...                 ...\n",
       "Tonga                            1            0            0.000000\n",
       "Timor-Leste                      1            1          100.000000\n",
       "North Korea                      1            0            0.000000\n",
       "Brunei Darussalam                1            0            0.000000\n",
       "Chad                             1            0            0.000000\n",
       "\n",
       "[179 rows x 3 columns]"
      ]
     },
     "execution_count": 9,
     "metadata": {},
     "output_type": "execute_result"
    }
   ],
   "source": [
    "python_df['PercentKnowsPython'] = (python_df['KnowsPython']/python_df['TotalDevelopers'])*100\n",
    "python_df"
   ]
  },
  {
   "cell_type": "code",
   "execution_count": null,
   "id": "8adb30dd",
   "metadata": {},
   "outputs": [],
   "source": [
    "python_df.sort_values(by='KnowsPython', ascending=False, inplace=True)\n",
    "python_df"
   ]
  },
  {
   "cell_type": "code",
   "execution_count": null,
   "id": "06b1d8cf",
   "metadata": {},
   "outputs": [],
   "source": [
    "python_df.head(50)"
   ]
  },
  {
   "cell_type": "markdown",
   "id": "8811d2b8",
   "metadata": {},
   "source": [
    "### Find the record for Nepal, India, and United States"
   ]
  },
  {
   "cell_type": "code",
   "execution_count": null,
   "id": "ebf5e26f",
   "metadata": {},
   "outputs": [],
   "source": []
  },
  {
   "cell_type": "code",
   "execution_count": null,
   "id": "09e0ab45",
   "metadata": {},
   "outputs": [],
   "source": [
    "python_df.loc['Nepal']"
   ]
  },
  {
   "cell_type": "code",
   "execution_count": null,
   "id": "aaa9a364",
   "metadata": {},
   "outputs": [],
   "source": [
    "python_df.loc['India']"
   ]
  },
  {
   "cell_type": "code",
   "execution_count": null,
   "id": "5d4bfc5d",
   "metadata": {},
   "outputs": [],
   "source": [
    "python_df.loc['United States']"
   ]
  },
  {
   "cell_type": "code",
   "execution_count": null,
   "id": "e5f6c3b6",
   "metadata": {},
   "outputs": [],
   "source": []
  }
 ],
 "metadata": {
  "kernelspec": {
   "display_name": "Python 3 (ipykernel)",
   "language": "python",
   "name": "python3"
  },
  "language_info": {
   "codemirror_mode": {
    "name": "ipython",
    "version": 3
   },
   "file_extension": ".py",
   "mimetype": "text/x-python",
   "name": "python",
   "nbconvert_exporter": "python",
   "pygments_lexer": "ipython3",
   "version": "3.10.11"
  }
 },
 "nbformat": 4,
 "nbformat_minor": 5
}
