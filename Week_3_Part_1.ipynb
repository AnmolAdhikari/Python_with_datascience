{
  "cells": [
    {
      "cell_type": "markdown",
      "id": "67d86e04",
      "metadata": {
        "id": "67d86e04"
      },
      "source": [
        "### Class and Object (OOP with Python)"
      ]
    },
    {
      "cell_type": "code",
      "execution_count": null,
      "id": "582966b7",
      "metadata": {
        "id": "582966b7"
      },
      "outputs": [],
      "source": [
        "class MyFirstClass:\n",
        "    prop = 5\n",
        "\n",
        "    def method(self):\n",
        "        return \"I am inside MyClass\""
      ]
    },
    {
      "cell_type": "code",
      "execution_count": null,
      "id": "6ff065eb",
      "metadata": {
        "id": "6ff065eb",
        "outputId": "93a65eb2-a34b-43e2-8d2d-c250066a7e74"
      },
      "outputs": [
        {
          "data": {
            "text/plain": [
              "['__class__',\n",
              " '__delattr__',\n",
              " '__dict__',\n",
              " '__dir__',\n",
              " '__doc__',\n",
              " '__eq__',\n",
              " '__format__',\n",
              " '__ge__',\n",
              " '__getattribute__',\n",
              " '__gt__',\n",
              " '__hash__',\n",
              " '__init__',\n",
              " '__init_subclass__',\n",
              " '__le__',\n",
              " '__lt__',\n",
              " '__module__',\n",
              " '__ne__',\n",
              " '__new__',\n",
              " '__reduce__',\n",
              " '__reduce_ex__',\n",
              " '__repr__',\n",
              " '__setattr__',\n",
              " '__sizeof__',\n",
              " '__str__',\n",
              " '__subclasshook__',\n",
              " '__weakref__',\n",
              " 'method',\n",
              " 'prop']"
            ]
          },
          "execution_count": 4,
          "metadata": {},
          "output_type": "execute_result"
        }
      ],
      "source": [
        "dir(MyFirstClass)"
      ]
    },
    {
      "cell_type": "code",
      "execution_count": null,
      "id": "e323dd6a",
      "metadata": {
        "id": "e323dd6a"
      },
      "outputs": [],
      "source": [
        "o = MyFirstClass() # creating an object of MyClass()"
      ]
    },
    {
      "cell_type": "code",
      "execution_count": null,
      "id": "bf4ecec5",
      "metadata": {
        "id": "bf4ecec5",
        "outputId": "4fc0aa0f-1ebe-42dc-839b-fa67b1b19900"
      },
      "outputs": [
        {
          "name": "stdout",
          "output_type": "stream",
          "text": [
            "<__main__.MyFirstClass object at 0x7f99d9876b30>\n"
          ]
        }
      ],
      "source": [
        "print(o)"
      ]
    },
    {
      "cell_type": "code",
      "execution_count": null,
      "id": "eb0de751",
      "metadata": {
        "id": "eb0de751",
        "outputId": "25e8af77-d29d-4317-9b62-e0bb7160ebef"
      },
      "outputs": [
        {
          "data": {
            "text/plain": [
              "5"
            ]
          },
          "execution_count": 7,
          "metadata": {},
          "output_type": "execute_result"
        }
      ],
      "source": [
        "o.prop"
      ]
    },
    {
      "cell_type": "code",
      "execution_count": null,
      "id": "e99e49f2",
      "metadata": {
        "id": "e99e49f2",
        "outputId": "d3a89430-4604-4337-9ea6-f83a7b4f70e0"
      },
      "outputs": [
        {
          "data": {
            "text/plain": [
              "'I am inside MyClass'"
            ]
          },
          "execution_count": 8,
          "metadata": {},
          "output_type": "execute_result"
        }
      ],
      "source": [
        "o.method()"
      ]
    },
    {
      "cell_type": "code",
      "execution_count": null,
      "id": "762f41ef",
      "metadata": {
        "scrolled": true,
        "id": "762f41ef",
        "outputId": "38d501bc-47b2-4c8f-c7bb-a26882c60f39"
      },
      "outputs": [
        {
          "ename": "NameError",
          "evalue": "name 'method' is not defined",
          "output_type": "error",
          "traceback": [
            "\u001b[0;31m---------------------------------------------------------------------------\u001b[0m",
            "\u001b[0;31mNameError\u001b[0m                                 Traceback (most recent call last)",
            "Cell \u001b[0;32mIn[9], line 1\u001b[0m\n\u001b[0;32m----> 1\u001b[0m \u001b[43mmethod\u001b[49m()\n",
            "\u001b[0;31mNameError\u001b[0m: name 'method' is not defined"
          ]
        }
      ],
      "source": [
        "method()"
      ]
    },
    {
      "cell_type": "markdown",
      "id": "613e8fcd",
      "metadata": {
        "id": "613e8fcd"
      },
      "source": [
        "**The `__init__` function**"
      ]
    },
    {
      "cell_type": "markdown",
      "id": "7180e5a0",
      "metadata": {
        "id": "7180e5a0"
      },
      "source": [
        "All classes have a function called __init__(), which is always executed when the class is being initiated.  \n",
        "Use the __init__() function to assign values to object properties, or other operations that are necessary to do when the object is being created:"
      ]
    },
    {
      "cell_type": "code",
      "execution_count": 1,
      "id": "23571aa7",
      "metadata": {
        "id": "23571aa7"
      },
      "outputs": [],
      "source": [
        "class TechAxisStudent:\n",
        "    def __init__(self, name, age, address):\n",
        "        self.name = name\n",
        "        self.age = age\n",
        "        self.address = address"
      ]
    },
    {
      "cell_type": "code",
      "execution_count": 2,
      "id": "d01e04da",
      "metadata": {
        "id": "d01e04da"
      },
      "outputs": [],
      "source": [
        "s1 = TechAxisStudent(\"Sujan\", 20, \"Lalitpur\")"
      ]
    },
    {
      "cell_type": "code",
      "execution_count": 3,
      "id": "d0a46298",
      "metadata": {
        "colab": {
          "base_uri": "https://localhost:8080/",
          "height": 35
        },
        "id": "d0a46298",
        "outputId": "0208fef7-2303-4774-e476-ca76c439992c"
      },
      "outputs": [
        {
          "output_type": "execute_result",
          "data": {
            "text/plain": [
              "'Sujan'"
            ],
            "application/vnd.google.colaboratory.intrinsic+json": {
              "type": "string"
            }
          },
          "metadata": {},
          "execution_count": 3
        }
      ],
      "source": [
        "s1.name"
      ]
    },
    {
      "cell_type": "code",
      "execution_count": 4,
      "id": "b3262f76",
      "metadata": {
        "colab": {
          "base_uri": "https://localhost:8080/",
          "height": 35
        },
        "id": "b3262f76",
        "outputId": "25c40e51-0be4-443c-a1bb-acd0bd9751d9"
      },
      "outputs": [
        {
          "output_type": "execute_result",
          "data": {
            "text/plain": [
              "'Lalitpur'"
            ],
            "application/vnd.google.colaboratory.intrinsic+json": {
              "type": "string"
            }
          },
          "metadata": {},
          "execution_count": 4
        }
      ],
      "source": [
        "s1.address"
      ]
    },
    {
      "cell_type": "code",
      "execution_count": 5,
      "id": "d55dc0a7",
      "metadata": {
        "id": "d55dc0a7"
      },
      "outputs": [],
      "source": [
        "s2 = TechAxisStudent(\"Adarsha\", 19, \"Kathmandu\")"
      ]
    },
    {
      "cell_type": "code",
      "execution_count": 6,
      "id": "c86e8bd4",
      "metadata": {
        "colab": {
          "base_uri": "https://localhost:8080/",
          "height": 35
        },
        "id": "c86e8bd4",
        "outputId": "735ba27e-7284-44e1-9b87-462cde31abe8"
      },
      "outputs": [
        {
          "output_type": "execute_result",
          "data": {
            "text/plain": [
              "'Adarsha'"
            ],
            "application/vnd.google.colaboratory.intrinsic+json": {
              "type": "string"
            }
          },
          "metadata": {},
          "execution_count": 6
        }
      ],
      "source": [
        "s2.name"
      ]
    },
    {
      "cell_type": "code",
      "execution_count": 7,
      "id": "aaa2eba7",
      "metadata": {
        "colab": {
          "base_uri": "https://localhost:8080/"
        },
        "id": "aaa2eba7",
        "outputId": "b5193ba0-3d0f-418e-e582-1dd2e5595f78"
      },
      "outputs": [
        {
          "output_type": "execute_result",
          "data": {
            "text/plain": [
              "{'name': 'Sujan', 'age': 20, 'address': 'Lalitpur'}"
            ]
          },
          "metadata": {},
          "execution_count": 7
        }
      ],
      "source": [
        "s1.__dict__"
      ]
    },
    {
      "cell_type": "code",
      "execution_count": 8,
      "id": "2f28476c",
      "metadata": {
        "colab": {
          "base_uri": "https://localhost:8080/"
        },
        "id": "2f28476c",
        "outputId": "ec374d80-b4d9-49d7-f0c4-1698885a0f81"
      },
      "outputs": [
        {
          "output_type": "execute_result",
          "data": {
            "text/plain": [
              "{'name': 'Adarsha', 'age': 19, 'address': 'Kathmandu'}"
            ]
          },
          "metadata": {},
          "execution_count": 8
        }
      ],
      "source": [
        "s2.__dict__"
      ]
    },
    {
      "cell_type": "markdown",
      "id": "1d004945",
      "metadata": {
        "id": "1d004945"
      },
      "source": [
        "**We can also do**"
      ]
    },
    {
      "cell_type": "code",
      "execution_count": 9,
      "id": "d92680aa",
      "metadata": {
        "id": "d92680aa"
      },
      "outputs": [],
      "source": [
        "class TechAxisStudent:\n",
        "    def __init__(self, name, age, address):\n",
        "        self.student_name = name\n",
        "        self.student_age = age\n",
        "        self.student_address = address"
      ]
    },
    {
      "cell_type": "code",
      "execution_count": 10,
      "id": "76d32dea",
      "metadata": {
        "id": "76d32dea"
      },
      "outputs": [],
      "source": [
        "s1 = TechAxisStudent(\"Sujan\", 20, 'Lalitpur')"
      ]
    },
    {
      "cell_type": "code",
      "execution_count": 11,
      "id": "17393931",
      "metadata": {
        "colab": {
          "base_uri": "https://localhost:8080/",
          "height": 35
        },
        "id": "17393931",
        "outputId": "9c8f20d0-5f9a-478a-f067-74a7db3f8df1"
      },
      "outputs": [
        {
          "output_type": "execute_result",
          "data": {
            "text/plain": [
              "'Sujan'"
            ],
            "application/vnd.google.colaboratory.intrinsic+json": {
              "type": "string"
            }
          },
          "metadata": {},
          "execution_count": 11
        }
      ],
      "source": [
        "# How to access the name?\n",
        "s1.student_name"
      ]
    },
    {
      "cell_type": "code",
      "execution_count": null,
      "id": "50aed78b",
      "metadata": {
        "id": "50aed78b"
      },
      "outputs": [],
      "source": []
    },
    {
      "cell_type": "markdown",
      "id": "3426849a",
      "metadata": {
        "id": "3426849a"
      },
      "source": [
        "**Functions in the class**"
      ]
    },
    {
      "cell_type": "code",
      "execution_count": 12,
      "id": "d832c34b",
      "metadata": {
        "id": "d832c34b"
      },
      "outputs": [],
      "source": [
        "class TechAxisStudent:\n",
        "    def __init__(self, name, address):\n",
        "        self.name = name\n",
        "        self.address = address\n",
        "\n",
        "    def get_full_info(self):\n",
        "        return f\"I am {self.name} from {self.address}\""
      ]
    },
    {
      "cell_type": "code",
      "execution_count": 13,
      "id": "e56df165",
      "metadata": {
        "id": "e56df165"
      },
      "outputs": [],
      "source": [
        "s1 = TechAxisStudent(\"Biraj\", \"Jhapa\")"
      ]
    },
    {
      "cell_type": "code",
      "execution_count": 14,
      "id": "627fab0e",
      "metadata": {
        "colab": {
          "base_uri": "https://localhost:8080/",
          "height": 35
        },
        "id": "627fab0e",
        "outputId": "e7535815-2aa5-48af-e93b-b08c3f02fe62"
      },
      "outputs": [
        {
          "output_type": "execute_result",
          "data": {
            "text/plain": [
              "'Biraj'"
            ],
            "application/vnd.google.colaboratory.intrinsic+json": {
              "type": "string"
            }
          },
          "metadata": {},
          "execution_count": 14
        }
      ],
      "source": [
        "s1.name"
      ]
    },
    {
      "cell_type": "code",
      "execution_count": 15,
      "id": "b0f9954d",
      "metadata": {
        "colab": {
          "base_uri": "https://localhost:8080/",
          "height": 35
        },
        "id": "b0f9954d",
        "outputId": "389f147f-57e4-4347-d246-1c9dcb467172"
      },
      "outputs": [
        {
          "output_type": "execute_result",
          "data": {
            "text/plain": [
              "'Jhapa'"
            ],
            "application/vnd.google.colaboratory.intrinsic+json": {
              "type": "string"
            }
          },
          "metadata": {},
          "execution_count": 15
        }
      ],
      "source": [
        "s1.address"
      ]
    },
    {
      "cell_type": "code",
      "execution_count": 16,
      "id": "3f9dcab7",
      "metadata": {
        "colab": {
          "base_uri": "https://localhost:8080/",
          "height": 35
        },
        "id": "3f9dcab7",
        "outputId": "350bc122-03cd-4b2d-dfbd-72ac5c9b7ebc"
      },
      "outputs": [
        {
          "output_type": "execute_result",
          "data": {
            "text/plain": [
              "'I am Biraj from Jhapa'"
            ],
            "application/vnd.google.colaboratory.intrinsic+json": {
              "type": "string"
            }
          },
          "metadata": {},
          "execution_count": 16
        }
      ],
      "source": [
        "s1.get_full_info()"
      ]
    },
    {
      "cell_type": "code",
      "execution_count": 17,
      "id": "55c63f5d",
      "metadata": {
        "colab": {
          "base_uri": "https://localhost:8080/"
        },
        "id": "55c63f5d",
        "outputId": "10677c48-d205-461a-b98a-8f003ad1c322"
      },
      "outputs": [
        {
          "output_type": "execute_result",
          "data": {
            "text/plain": [
              "['__class__',\n",
              " '__delattr__',\n",
              " '__dict__',\n",
              " '__dir__',\n",
              " '__doc__',\n",
              " '__eq__',\n",
              " '__format__',\n",
              " '__ge__',\n",
              " '__getattribute__',\n",
              " '__gt__',\n",
              " '__hash__',\n",
              " '__init__',\n",
              " '__init_subclass__',\n",
              " '__le__',\n",
              " '__lt__',\n",
              " '__module__',\n",
              " '__ne__',\n",
              " '__new__',\n",
              " '__reduce__',\n",
              " '__reduce_ex__',\n",
              " '__repr__',\n",
              " '__setattr__',\n",
              " '__sizeof__',\n",
              " '__str__',\n",
              " '__subclasshook__',\n",
              " '__weakref__',\n",
              " 'address',\n",
              " 'get_full_info',\n",
              " 'name']"
            ]
          },
          "metadata": {},
          "execution_count": 17
        }
      ],
      "source": [
        "dir(s1)"
      ]
    },
    {
      "cell_type": "code",
      "execution_count": 18,
      "id": "6e51cf57",
      "metadata": {
        "colab": {
          "base_uri": "https://localhost:8080/",
          "height": 35
        },
        "id": "6e51cf57",
        "outputId": "a1aedba5-c3b7-4013-d794-7bcd093fff25"
      },
      "outputs": [
        {
          "output_type": "execute_result",
          "data": {
            "text/plain": [
              "'My intrests are painting and dancing'"
            ],
            "application/vnd.google.colaboratory.intrinsic+json": {
              "type": "string"
            }
          },
          "metadata": {},
          "execution_count": 18
        }
      ],
      "source": [
        "class Person:\n",
        "    def __init__(self,name,age,sex,intrests):\n",
        "        self.name=name\n",
        "        self.sex=sex\n",
        "        self.age=age\n",
        "        self.intrests=intrests\n",
        "\n",
        "    def my_intrests(self):\n",
        "        return f\"My intrests are {self.intrests[0]} and {self.intrests[1]}\"\n",
        "\n",
        "s1= Person(\"Risika\",20,\"Female\",['painting','dancing'])\n",
        "\n",
        "s1.my_intrests()"
      ]
    },
    {
      "cell_type": "markdown",
      "id": "82cb1234",
      "metadata": {
        "id": "82cb1234"
      },
      "source": [
        "- Create a class `Company` that initializes the attributes `employee_name`, `employee_salary` in the `__init__` function.  \n",
        "- Create a class function `get_emp_detail` that stores the employee's record in the form of  \n",
        "- **\"Employee name is `{{employee_name}}` and the salary is `{{employee_salary}}`\"**\n",
        "\n",
        "---\n",
        "- Define another method `salary_after_tax_cut` which takes the employee's salary and cuts `13%` from it and returns `Salary after tax cut: {self.new_salary}`"
      ]
    },
    {
      "cell_type": "code",
      "execution_count": null,
      "id": "da3dfd46",
      "metadata": {
        "id": "da3dfd46",
        "outputId": "d2b20407-93d4-408b-b553-06d04ea933b5"
      },
      "outputs": [
        {
          "data": {
            "text/plain": [
              "'Salary after tax cut: 87000.0'"
            ]
          },
          "execution_count": 32,
          "metadata": {},
          "output_type": "execute_result"
        }
      ],
      "source": [
        "class Company:\n",
        "\n",
        "    def __init__(self, employee_name, employee_salary):\n",
        "        self.employee_name = employee_name\n",
        "        self.employee_salary = employee_salary\n",
        "\n",
        "    def get_emp_detail(self):\n",
        "        return f\"Employee name is {self.employee_name} and the salary is {self.employee_salary}\"\n",
        "\n",
        "    def salary_after_tax_cut(self):\n",
        "        self.new_salary = self.employee_salary - 0.13*self.employee_salary\n",
        "        return f\"Salary after tax cut: {self.new_salary}\"\n",
        "\n",
        "e1 = Company('Ram Bahadur', 100000)\n",
        "e1.get_emp_detail()\n",
        "e1.salary_after_tax_cut()"
      ]
    },
    {
      "cell_type": "markdown",
      "id": "9bb953c3",
      "metadata": {
        "id": "9bb953c3"
      },
      "source": [
        "**[Task]** Create a class called `Student` with attributes `name`, `age`, and `marks`. Write a method within the class called `has_distinction` that checks if a student has passed with distinction based on their marks. If the mark is greater than or equal to 80, the method should return a congratulatory message mentioning the student's name and the fact that they passed with distinction. Otherwise, it should return a message addressing the student by name and wishing them better luck next time for achieving the distinction."
      ]
    },
    {
      "cell_type": "code",
      "execution_count": null,
      "id": "a51dc983",
      "metadata": {
        "id": "a51dc983",
        "outputId": "ec444fa5-2185-4bc3-fd5e-983572cdeb1f"
      },
      "outputs": [
        {
          "data": {
            "text/plain": [
              "'Congratulations, John Doe. You have passed with distinction.'"
            ]
          },
          "execution_count": 33,
          "metadata": {},
          "output_type": "execute_result"
        }
      ],
      "source": [
        "class Student:\n",
        "    def __init__(self, name, age, grade):\n",
        "        self.name = name\n",
        "        self.age = age\n",
        "        self.grade = grade\n",
        "\n",
        "    def has_distinction(self):\n",
        "        if self.grade >= 80:\n",
        "            return f\"Congratulations, {self.name}. You have passed with distinction.\"\n",
        "        else:\n",
        "            return f\"Dear, {self.name}. Better luck next time for the distinction.\"\n",
        "\n",
        "student1 = Student(\"John Doe\", 18, 85)\n",
        "student1.has_distinction()"
      ]
    },
    {
      "cell_type": "markdown",
      "id": "d916123c",
      "metadata": {
        "id": "d916123c"
      },
      "source": [
        "### Inheritance in OOP"
      ]
    },
    {
      "cell_type": "markdown",
      "id": "1043ba2a",
      "metadata": {
        "id": "1043ba2a"
      },
      "source": [
        "Let's revise class and object one more time"
      ]
    },
    {
      "cell_type": "code",
      "execution_count": null,
      "id": "ef342211",
      "metadata": {
        "id": "ef342211",
        "outputId": "dbf06ae3-3bdc-4ac6-f542-857df0e5ecc9"
      },
      "outputs": [
        {
          "data": {
            "text/plain": [
              "'The fullname is Phunsuk Wangdu'"
            ]
          },
          "execution_count": 34,
          "metadata": {},
          "output_type": "execute_result"
        }
      ],
      "source": [
        "class Person:\n",
        "    def __init__(self, firstname, lastname):\n",
        "        self.firstname = firstname\n",
        "        self.lastname = lastname\n",
        "\n",
        "    def get_full_name(self):\n",
        "        return f\"The fullname is {self.firstname} {self.lastname}\"\n",
        "\n",
        "p = Person(\"Phunsuk\", \"Wangdu\")\n",
        "p.get_full_name()"
      ]
    },
    {
      "cell_type": "code",
      "execution_count": null,
      "id": "008fc04b",
      "metadata": {
        "id": "008fc04b"
      },
      "outputs": [],
      "source": [
        "class Student(Person):\n",
        "    pass"
      ]
    },
    {
      "cell_type": "code",
      "execution_count": null,
      "id": "42615401",
      "metadata": {
        "id": "42615401"
      },
      "outputs": [],
      "source": [
        "s = Student(\"Ojashwi\", \"Neupane\")"
      ]
    },
    {
      "cell_type": "code",
      "execution_count": null,
      "id": "962dd571",
      "metadata": {
        "id": "962dd571",
        "outputId": "ff6a6400-33e3-434e-99b6-5f782355e5a9"
      },
      "outputs": [
        {
          "data": {
            "text/plain": [
              "'Ojashwi'"
            ]
          },
          "execution_count": 37,
          "metadata": {},
          "output_type": "execute_result"
        }
      ],
      "source": [
        "s.firstname"
      ]
    },
    {
      "cell_type": "code",
      "execution_count": null,
      "id": "a94a2c75",
      "metadata": {
        "id": "a94a2c75",
        "outputId": "bf23a2c2-12cc-4f96-9391-bd4b8b7538d2"
      },
      "outputs": [
        {
          "data": {
            "text/plain": [
              "'Neupane'"
            ]
          },
          "execution_count": 38,
          "metadata": {},
          "output_type": "execute_result"
        }
      ],
      "source": [
        "s.lastname"
      ]
    },
    {
      "cell_type": "code",
      "execution_count": null,
      "id": "3a22ee23",
      "metadata": {
        "id": "3a22ee23",
        "outputId": "7bc30fc3-769b-4956-9f3d-d3af60d3b30a"
      },
      "outputs": [
        {
          "data": {
            "text/plain": [
              "'The fullname is Ojashwi Neupane'"
            ]
          },
          "execution_count": 39,
          "metadata": {},
          "output_type": "execute_result"
        }
      ],
      "source": [
        "s.get_full_name()"
      ]
    },
    {
      "cell_type": "code",
      "execution_count": null,
      "id": "093b3037",
      "metadata": {
        "id": "093b3037",
        "outputId": "87db0007-c4be-45a4-8fbc-a3c8b42510ff"
      },
      "outputs": [
        {
          "data": {
            "text/plain": [
              "['__class__',\n",
              " '__delattr__',\n",
              " '__dict__',\n",
              " '__dir__',\n",
              " '__doc__',\n",
              " '__eq__',\n",
              " '__format__',\n",
              " '__ge__',\n",
              " '__getattribute__',\n",
              " '__gt__',\n",
              " '__hash__',\n",
              " '__init__',\n",
              " '__init_subclass__',\n",
              " '__le__',\n",
              " '__lt__',\n",
              " '__module__',\n",
              " '__ne__',\n",
              " '__new__',\n",
              " '__reduce__',\n",
              " '__reduce_ex__',\n",
              " '__repr__',\n",
              " '__setattr__',\n",
              " '__sizeof__',\n",
              " '__str__',\n",
              " '__subclasshook__',\n",
              " '__weakref__',\n",
              " 'firstname',\n",
              " 'get_full_name',\n",
              " 'lastname']"
            ]
          },
          "execution_count": 40,
          "metadata": {},
          "output_type": "execute_result"
        }
      ],
      "source": [
        "dir(s)"
      ]
    },
    {
      "cell_type": "markdown",
      "id": "2dfb6c70",
      "metadata": {
        "id": "2dfb6c70"
      },
      "source": [
        "### The `super` function and Overriding\n",
        "The `super()` function will make the child class inherit all the methods and properties from its parent.  \n",
        "Function overriding is a feature in object-oriented programming that allows a subclass to provide a different implementation of a method that is already defined in its superclass.\n"
      ]
    },
    {
      "cell_type": "code",
      "execution_count": null,
      "id": "bfb0a1ad",
      "metadata": {
        "id": "bfb0a1ad"
      },
      "outputs": [],
      "source": [
        "class Animal:\n",
        "    def sound(self):\n",
        "        print(\"The animal makes a sound.\")\n",
        "\n",
        "class Dog(Animal):\n",
        "    def sound(self): # function overriding\n",
        "        print(\"The dog barks.\")"
      ]
    },
    {
      "cell_type": "code",
      "execution_count": null,
      "id": "3bef4a3f",
      "metadata": {
        "id": "3bef4a3f",
        "outputId": "d02e5d57-874b-4559-9423-cbc608286eaa"
      },
      "outputs": [
        {
          "name": "stdout",
          "output_type": "stream",
          "text": [
            "The animal makes a sound.\n"
          ]
        }
      ],
      "source": [
        "a = Animal()\n",
        "a.sound()"
      ]
    },
    {
      "cell_type": "code",
      "execution_count": null,
      "id": "0fc6dc2e",
      "metadata": {
        "id": "0fc6dc2e",
        "outputId": "f0673c17-4797-4d4f-93ff-e1c800c1c953"
      },
      "outputs": [
        {
          "name": "stdout",
          "output_type": "stream",
          "text": [
            "The dog barks.\n"
          ]
        }
      ],
      "source": [
        "d = Dog()\n",
        "d.sound()"
      ]
    },
    {
      "cell_type": "markdown",
      "id": "199beb11",
      "metadata": {
        "id": "199beb11"
      },
      "source": [
        "### Another example!"
      ]
    },
    {
      "cell_type": "code",
      "execution_count": 19,
      "id": "7bf535c6",
      "metadata": {
        "id": "7bf535c6"
      },
      "outputs": [],
      "source": [
        "class Person:\n",
        "    def __init__(self, firstname, lastname):\n",
        "        self.firstname = firstname\n",
        "        self.lastname = lastname\n",
        "\n",
        "class Student(Person):\n",
        "    def __init__(self, firstname, lastname, schoolname, percentage):\n",
        "        super().__init__(firstname, lastname)\n",
        "        self.schoolname = schoolname\n",
        "        self.percentage = percentage\n",
        "\n",
        "    def student_detail(self):\n",
        "        return f\"This is {self.firstname} {self.lastname} from {self.schoolname} with {self.percentage}\"\n",
        "\n"
      ]
    },
    {
      "cell_type": "code",
      "execution_count": 20,
      "id": "fed48e61",
      "metadata": {
        "colab": {
          "base_uri": "https://localhost:8080/",
          "height": 35
        },
        "id": "fed48e61",
        "outputId": "bb977586-82c2-441d-bfbb-1426886f29c0"
      },
      "outputs": [
        {
          "output_type": "execute_result",
          "data": {
            "text/plain": [
              "'This is Anmol Adhikari from Sagarmatha with 90.4'"
            ],
            "application/vnd.google.colaboratory.intrinsic+json": {
              "type": "string"
            }
          },
          "metadata": {},
          "execution_count": 20
        }
      ],
      "source": [
        "x = Student(\"Anmol\", \"Adhikari\", \"Sagarmatha\", 90.4)\n",
        "x.student_detail()"
      ]
    },
    {
      "cell_type": "markdown",
      "id": "9a621b93",
      "metadata": {
        "id": "9a621b93"
      },
      "source": [
        "### Today's task\n",
        "\n",
        "\n",
        "**[Task]** Create a subclass called `Doctor` that inherits from `Person` and adds an attribute called `specialization`. The `Doctor` class should override the `introduce` method to include the specialization. The `introduce` method for `Doctor` should print \"Hi, my name is [name] and I am [age] years old. I am a [specialization] doctor.\"\n",
        "\n",
        "Create another subclass called `Developer` that also inherits from `Person` and adds an attribute called `programming_language`. The `Developer` class should override the `introduce` method to include the programming language. The `introduce` method for `Developer` should print \"Hi, my name is [name] and I am [age] years old. I am a developer specializing in [programming_language].\"\n",
        "\n",
        "**[Task]** Create a class called `Student` with attributes `name`, `age`, and `marks`. Write a method within the class called `has_distinction` that checks if a student has passed with distinction based on their marks. If the mark is greater than or equal to 80, the method should return a congratulatory message mentioning the student's name and the fact that they passed with distinction. Otherwise, it should return a message addressing the student by name and wishing them better luck next time for achieving the distinction."
      ]
    },
    {
      "cell_type": "markdown",
      "id": "e3855660",
      "metadata": {
        "id": "e3855660"
      },
      "source": [
        "### Simple Class Object Problems [EASY]\n",
        "Question 1: Create a class called `Car` with attributes `make`, `model`, and `year`. Write a method within the class that prints the car's details.\n",
        "\n",
        "Question 2: Create a class called `Rectangle` with attributes `length` and `width`. Write a method within the class that calculates and returns the area of the rectangle.\n",
        "\n",
        "Question 3: Create a class called `BankAccount` with attributes `account_number` and `balance`. Write methods within the class to deposit and withdraw money from the account, and to check the current balance.\n",
        "\n",
        "Question 4: Create a class called `Student` with attributes `name`, `age`, and `grade`. Write a method within the class that checks if the student is eligible for graduation based on their grade.\n",
        "\n",
        "Question 5: Create a class called `Employee` with attributes `name`, `designation`, and `salary`. Write a method within the class that calculates the annual salary of the employee.\n",
        "\n",
        "Question 6: Create a class called `Circle` with attribute `radius`. Write a method within the class that calculates and returns the circumference of the circle.\n",
        "\n",
        "Question 7: Create a class called `Person` with attributes `name` and `age`. Write a method within the class that prints a greeting message including the person's name.\n",
        "\n",
        "Question 8: Create a class called `Book` with attributes `title`, `author`, and `year`. Write a method within the class that prints the book's details.\n",
        "\n",
        "Question 9: Create a class called `Dog` with attributes `name`, `breed`, and `age`. Write a method within the class that checks if the dog is a puppy (less than 1 year old).\n",
        "\n",
        "Question 10: Create a class called `Rectangle` with attributes `length` and `width`. Write a method within the class that checks if the rectangle is a square (length and width are equal).\n",
        "\n",
        "### Inheritance Problems [MEDIUM]\n",
        "\n",
        "Problem 1:\n",
        "Create a class called Shape with a method called area that returns 0. Create two subclasses called Rectangle and Triangle that inherit from Shape. Override the area method in each subclass to calculate and return the area of a rectangle and a triangle, respectively.\n",
        "\n",
        "Problem 2:\n",
        "Create a class called Person with attributes name and age, and a method called introduce that prints \"Hi, my name is [name] and I am [age] years old.\" Create a subclass called Student that inherits from Person and adds an attribute called grade. Override the introduce method in the Student class to print the same introduction as the Person class, but also include the student's grade.\n",
        "\n",
        "Problem 3:\n",
        "Create a class called Vehicle with a method called start that prints \"The vehicle is starting.\" Create two subclasses called Car and Motorcycle that inherit from Vehicle. Override the start method in each subclass to print \"The car is starting\" and \"The motorcycle is starting,\" respectively.\n"
      ]
    },
    {
      "cell_type": "markdown",
      "id": "68eb9350",
      "metadata": {
        "id": "68eb9350"
      },
      "source": [
        "## Football Players\n",
        "\n",
        "Write a program that defines classes for players in a football team. The program should have a base class called `Player`, which has attributes `name` and `country` initialized through its constructor.\n",
        "\n",
        "The program should also have two derived classes: `GoalKeeper` and `Striker`. The `GoalKeeper` class should inherit from the `Player` class and have an additional attribute called `goals_saved`. The `Striker` class should also inherit from the `Player` class and have an additional attribute called `goals_scored`.\n",
        "\n",
        "The `GoalKeeper` class should have a method called `keeper_info` that returns a string containing the name, country, and number of goals saved by the goalkeeper. The `Striker` class should have a method called `striker_info` that returns a string containing the name, country, and number of goals scored by the striker.\n",
        "\n",
        "In the program, create object of the `Striker` class which returns output like this:  \n",
        "`Halland from Norway has scored 26 goals.`  \n",
        "\n",
        "In the program, create object of the `GoalKeeper` class which returns output like this:  \n",
        "`Ramsdale from England has saved 31 goals.`"
      ]
    },
    {
      "cell_type": "code",
      "execution_count": null,
      "id": "da198117",
      "metadata": {
        "id": "da198117"
      },
      "outputs": [],
      "source": [
        "class Player():\n",
        "    def __init__(self, name, country):\n",
        "        self.name = name\n",
        "        self.country = country\n",
        "\n",
        "class GoalKeeper(Player):\n",
        "    def __init__(self, name, country, goals_saved):\n",
        "        super().__init__(name, country)\n",
        "        self.goals_saved = goals_saved\n",
        "\n",
        "    def keeper_info(self):\n",
        "        return f\"{self.name} from {self.country} has saved {self.goals_saved} goals.\"\n",
        "\n",
        "class Striker(Player):\n",
        "    def __init__(self, name, country, goals_scored):\n",
        "        super().__init__(name, country)\n",
        "        self.goals_scored = goals_scored\n",
        "\n",
        "    def striker_info(self):\n",
        "        return f\"{self.name} from {self.country} has scored {self.goals_scored} goals.\"\n",
        "\n",
        "a = Striker('Halland','Norway',26) # object of class Striker\n",
        "print(a.striker_info())\n",
        "b = GoalKeeper('Ramsdale', 'England', 25) # object of class Goalkeeper\n",
        "print(b.keeper_info())"
      ]
    },
    {
      "cell_type": "code",
      "execution_count": null,
      "id": "fa276f3e",
      "metadata": {
        "id": "fa276f3e"
      },
      "outputs": [],
      "source": []
    }
  ],
  "metadata": {
    "kernelspec": {
      "display_name": "Python 3 (ipykernel)",
      "language": "python",
      "name": "python3"
    },
    "language_info": {
      "codemirror_mode": {
        "name": "ipython",
        "version": 3
      },
      "file_extension": ".py",
      "mimetype": "text/x-python",
      "name": "python",
      "nbconvert_exporter": "python",
      "pygments_lexer": "ipython3",
      "version": "3.10.11"
    },
    "colab": {
      "provenance": []
    }
  },
  "nbformat": 4,
  "nbformat_minor": 5
}