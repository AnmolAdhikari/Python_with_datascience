{
  "cells": [
    {
      "cell_type": "markdown",
      "id": "6260c42c",
      "metadata": {
        "id": "6260c42c"
      },
      "source": [
        "### Functions"
      ]
    },
    {
      "cell_type": "code",
      "execution_count": 1,
      "id": "5b1f9123",
      "metadata": {
        "id": "5b1f9123"
      },
      "outputs": [],
      "source": [
        "# function definition\n",
        "'''\n",
        "def function_name(function parameter):\n",
        "    function body\n",
        "    return statement\n",
        "'''\n",
        "\n",
        "def addition(a,b):\n",
        "    return a+b"
      ]
    },
    {
      "cell_type": "code",
      "execution_count": 2,
      "id": "a5aa753f",
      "metadata": {
        "colab": {
          "base_uri": "https://localhost:8080/"
        },
        "id": "a5aa753f",
        "outputId": "a22ab36b-705e-4764-fd23-c5d7fee12fdf"
      },
      "outputs": [
        {
          "output_type": "execute_result",
          "data": {
            "text/plain": [
              "30"
            ]
          },
          "metadata": {},
          "execution_count": 2
        }
      ],
      "source": [
        "addition(10,20) # call"
      ]
    },
    {
      "cell_type": "markdown",
      "id": "c9d5595f",
      "metadata": {
        "id": "c9d5595f"
      },
      "source": [
        "**1) Write a function called \"greeting\" that takes the name of the user and greets `\"Hello {name} nice to meet you\"`**\n",
        "```python\n",
        ">>> greeting('Anmol')\n",
        "\n",
        "\"Hello Anmol nice to meet you\"\n",
        "```"
      ]
    },
    {
      "cell_type": "code",
      "execution_count": 3,
      "id": "55d0c5b0",
      "metadata": {
        "colab": {
          "base_uri": "https://localhost:8080/",
          "height": 35
        },
        "id": "55d0c5b0",
        "outputId": "a7c0decc-62ce-41ba-a764-f9bb5e353e34"
      },
      "outputs": [
        {
          "output_type": "execute_result",
          "data": {
            "text/plain": [
              "'Hello Anmol nice to meet you!'"
            ],
            "application/vnd.google.colaboratory.intrinsic+json": {
              "type": "string"
            }
          },
          "metadata": {},
          "execution_count": 3
        }
      ],
      "source": [
        "def greeting(name):\n",
        "    return f\"Hello {name} nice to meet you!\"\n",
        "\n",
        "greeting('Anmol')"
      ]
    },
    {
      "cell_type": "code",
      "execution_count": 5,
      "id": "9655c78b",
      "metadata": {
        "colab": {
          "base_uri": "https://localhost:8080/",
          "height": 35
        },
        "id": "9655c78b",
        "outputId": "c77bafce-ed31-4e7c-e0b6-c5940ce67134"
      },
      "outputs": [
        {
          "output_type": "execute_result",
          "data": {
            "text/plain": [
              "'Hello Anmol nice to meet you!'"
            ],
            "application/vnd.google.colaboratory.intrinsic+json": {
              "type": "string"
            }
          },
          "metadata": {},
          "execution_count": 5
        }
      ],
      "source": [
        "greeting(\"Anmol\")"
      ]
    },
    {
      "cell_type": "markdown",
      "id": "c3002a82",
      "metadata": {
        "id": "c3002a82"
      },
      "source": [
        "**2) Create a function `sumnum` that takes a number as a parameter and outputs the sum of natural numbers upto that number**\n",
        "\n",
        "```python\n",
        ">>> sumnum(100)\n",
        "5050\n",
        "```"
      ]
    },
    {
      "cell_type": "code",
      "execution_count": null,
      "id": "4ae90d32",
      "metadata": {
        "id": "4ae90d32"
      },
      "outputs": [],
      "source": [
        "a = 100\n",
        "s = 0\n",
        "for i in range(1, a+1):\n",
        "    s = s + i\n",
        "print(s)"
      ]
    },
    {
      "cell_type": "code",
      "execution_count": null,
      "id": "16f7e3bf",
      "metadata": {
        "id": "16f7e3bf"
      },
      "outputs": [],
      "source": [
        "def sumnum(a):\n",
        "    s = 0\n",
        "    for i in range(1,a+1):\n",
        "        s = s+i\n",
        "    return s"
      ]
    },
    {
      "cell_type": "code",
      "execution_count": null,
      "id": "4763b7fb",
      "metadata": {
        "id": "4763b7fb",
        "outputId": "6be86600-2fab-490b-b6bc-b316e6d5b297"
      },
      "outputs": [
        {
          "data": {
            "text/plain": [
              "5050"
            ]
          },
          "execution_count": 3,
          "metadata": {},
          "output_type": "execute_result"
        }
      ],
      "source": [
        "sumnum(100) # call"
      ]
    },
    {
      "cell_type": "markdown",
      "id": "ddad007b",
      "metadata": {
        "id": "ddad007b"
      },
      "source": [
        "### Here are a few exercise questions related to Python functions:\n",
        "1) Write a function called `greeting` that takes the `firstname` and `lastname` of the user and greets, for eg: `\"Hello {firstname} {lastname} nice to meet you\"`\n",
        "```python\n",
        ">>> greeting('Bikash','Subedi')\n",
        "\n",
        "'Hello Bikash Subedi nice to meet you'\n",
        "```\n",
        "2) Create a function `sumnum` that takes a number as a parameter and outputs the sum of even numbers upto that number."
      ]
    },
    {
      "cell_type": "code",
      "execution_count": null,
      "id": "02427349",
      "metadata": {
        "id": "02427349"
      },
      "outputs": [],
      "source": [
        "def greeting(firstname, lastname):\n",
        "    return f\"Hello {firstname} {lastname} nice to meet you\"\n",
        "\n",
        "greeting('Anmol','Adhikari')"
      ]
    },
    {
      "cell_type": "markdown",
      "id": "13490e6d",
      "metadata": {
        "id": "13490e6d"
      },
      "source": [
        "**Also, lets try**\n",
        "- odd even => function name `oddeven()`, eg: `oddeven(5)` => `odd`\n",
        "- positive negative zero => function name `posnegzero()`, eg: `posnegzero(0)` => `zero`\n",
        "- count character => function name `countchar()`, eg: `countchar('environment','e')` => `2`\n",
        "- grading problem => `see_grade()`, eg: `see_grade(92)` => `A+`\n",
        "- bmi problem => `bmi()` , eg: `bmi(22.3)` => `Normal weight`\n",
        "|   Weight   |       Status        |\n",
        "|------------|--------------------|\n",
        "| Below 18.5 |     Underweight     |\n",
        "| 18.5 to 24.9 |   Normal weight   |\n",
        "| 25 to 29.9 |     Overweight      |\n",
        "| 30 to 34.9 |       Obese         |\n",
        "| 35 to 39.9 |     Very obese      |\n",
        "| Above 40   |   Extremely obese   |\n",
        "\n",
        "\n",
        "- Using an f-string print the following with `table(13)` function\n",
        "```The value of 13 * 1 is 13\n",
        "The value of 13 * 2 is 26\n",
        "The value of 13 * 3 is 39\n",
        "...\n",
        "The value of 13 * 10 is 130\n",
        "```"
      ]
    },
    {
      "cell_type": "markdown",
      "id": "655ada66",
      "metadata": {
        "id": "655ada66"
      },
      "source": [
        "- sum of all the elements of list using function  \n",
        "`sumlist([1,2,3])` => `6`  \n",
        "\n",
        "- max from list using function  \n",
        "`maxlist([1,5,2,3])` => `5`  \n",
        "\n",
        "- min from list using function  \n",
        "`minlist([1,5,2,3])` => `1`  "
      ]
    },
    {
      "cell_type": "markdown",
      "id": "0ae40cf9",
      "metadata": {
        "scrolled": true,
        "id": "0ae40cf9"
      },
      "source": [
        "Question 1: Write a function called `count_occurrences` that takes a list of words and a target word as input. The function should return the number of times the target word appears in the list.\n",
        "\n",
        "Question 2: Write a function called `remove_duplicates` that takes a list as input and returns a new list with duplicates removed. The order of the elements should be preserved.\n",
        "\n",
        "Question 3: Write a function called `print_even_numbers` that takes a list of numbers as input. The function should print only the even numbers in the list.\n",
        "\n",
        "Question 4: Write a function called `multiply_list` that takes a list of numbers as input and returns a new list where each element is multiplied by 2.\n",
        "\n",
        "Question 5: Write a function called `print_square_numbers` that takes a number as input. The function should print the square of each number from 1 to the input number using a loop.\n"
      ]
    },
    {
      "cell_type": "markdown",
      "id": "d5324982",
      "metadata": {
        "id": "d5324982"
      },
      "source": [
        "**[EXTRA CONTENT] Anonymous functions or `lambda`**  \n",
        "A lambda function can take any number of arguments, but can only have one expression."
      ]
    },
    {
      "cell_type": "code",
      "execution_count": null,
      "id": "7e4b5fcc",
      "metadata": {
        "id": "7e4b5fcc"
      },
      "outputs": [],
      "source": [
        "x = lambda a : a + 10"
      ]
    },
    {
      "cell_type": "code",
      "execution_count": null,
      "id": "9e0496a3",
      "metadata": {
        "id": "9e0496a3",
        "outputId": "0e888d93-43f9-49be-ef9a-13e1d7914898"
      },
      "outputs": [
        {
          "data": {
            "text/plain": [
              "function"
            ]
          },
          "execution_count": 4,
          "metadata": {},
          "output_type": "execute_result"
        }
      ],
      "source": [
        "type(x)"
      ]
    },
    {
      "cell_type": "code",
      "execution_count": null,
      "id": "13666a4d",
      "metadata": {
        "id": "13666a4d",
        "outputId": "0322a5d5-04b1-46ab-87db-2d300d4c4ec4"
      },
      "outputs": [
        {
          "data": {
            "text/plain": [
              "15"
            ]
          },
          "execution_count": 5,
          "metadata": {},
          "output_type": "execute_result"
        }
      ],
      "source": [
        "x(5)"
      ]
    },
    {
      "cell_type": "code",
      "execution_count": null,
      "id": "8c781f9e",
      "metadata": {
        "id": "8c781f9e"
      },
      "outputs": [],
      "source": [
        "x = lambda a, b: a**b"
      ]
    },
    {
      "cell_type": "code",
      "execution_count": null,
      "id": "2dddaf62",
      "metadata": {
        "id": "2dddaf62",
        "outputId": "e2ddffff-f583-4611-c19c-487ed61324b7"
      },
      "outputs": [
        {
          "data": {
            "text/plain": [
              "10000000000"
            ]
          },
          "execution_count": 7,
          "metadata": {},
          "output_type": "execute_result"
        }
      ],
      "source": [
        "x(10,10)"
      ]
    },
    {
      "cell_type": "markdown",
      "id": "29895f0f",
      "metadata": {
        "id": "29895f0f"
      },
      "source": [
        "The power of lambda is seen when you use them as an anonymous function inside another function."
      ]
    },
    {
      "cell_type": "code",
      "execution_count": null,
      "id": "ae96d792",
      "metadata": {
        "id": "ae96d792"
      },
      "outputs": [],
      "source": [
        "def myfunc(n):\n",
        "    return lambda a : a * n"
      ]
    },
    {
      "cell_type": "code",
      "execution_count": null,
      "id": "cef71437",
      "metadata": {
        "id": "cef71437"
      },
      "outputs": [],
      "source": [
        "doubleit = myfunc(2) # return lambda a : a * 2"
      ]
    },
    {
      "cell_type": "code",
      "execution_count": null,
      "id": "eef7e5a0",
      "metadata": {
        "id": "eef7e5a0"
      },
      "outputs": [],
      "source": [
        "doubleit(100)"
      ]
    },
    {
      "cell_type": "code",
      "execution_count": null,
      "id": "34e48bd9",
      "metadata": {
        "id": "34e48bd9"
      },
      "outputs": [],
      "source": [
        "tripleit = myfunc(3) # return lambda a : a * 3"
      ]
    },
    {
      "cell_type": "code",
      "execution_count": null,
      "id": "55b41845",
      "metadata": {
        "id": "55b41845"
      },
      "outputs": [],
      "source": [
        "tripleit(100)"
      ]
    },
    {
      "cell_type": "markdown",
      "id": "d18c527a",
      "metadata": {
        "id": "d18c527a"
      },
      "source": [
        "https://cs.stanford.edu/people/nick/py/python-map-lambda.html"
      ]
    }
  ],
  "metadata": {
    "kernelspec": {
      "display_name": "Python 3 (ipykernel)",
      "language": "python",
      "name": "python3"
    },
    "language_info": {
      "codemirror_mode": {
        "name": "ipython",
        "version": 3
      },
      "file_extension": ".py",
      "mimetype": "text/x-python",
      "name": "python",
      "nbconvert_exporter": "python",
      "pygments_lexer": "ipython3",
      "version": "3.10.11"
    },
    "colab": {
      "provenance": []
    }
  },
  "nbformat": 4,
  "nbformat_minor": 5
}