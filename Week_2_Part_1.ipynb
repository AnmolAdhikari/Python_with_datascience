{
 "cells": [
  {
   "cell_type": "markdown",
   "id": "7884a71a",
   "metadata": {},
   "source": [
    "## Contents for this session\n",
    "\n",
    "- [**Python List**](#section-1)\n",
    "    - append\n",
    "    - insert\n",
    "    - clear\n",
    "    - copy\n",
    "    - count\n",
    "    - extend\n",
    "    - index\n",
    "    - pop\n",
    "    - remove\n",
    "    - reverse\n",
    "    - sort\n",
    "- [**Dictionary**](#section-2)\n",
    "- [**Tuple**](#section-3)\n",
    "- [**Set**](#section-4)"
   ]
  },
  {
   "cell_type": "markdown",
   "id": "8248f799",
   "metadata": {},
   "source": [
    "### Python data structure\n",
    "Python offers several built-in data structures that allow you to organize and store data efficiently. Here are some commonly used data structures in Python.\n"
   ]
  },
  {
   "cell_type": "markdown",
   "id": "3ec9af20",
   "metadata": {},
   "source": [
    "<a id=\"section-1\"></a>\n",
    "### Python List\n",
    "\n",
    "Lists are ordered collections of items enclosed in square brackets (`[]`). They can store different types of elements and can be modified (mutable). You can access elements using their indices, and lists support various operations like adding, removing, and modifying elements."
   ]
  },
  {
   "cell_type": "code",
   "execution_count": null,
   "id": "9998d6ea",
   "metadata": {},
   "outputs": [],
   "source": [
    "a = [1,4,3.5,3,\"apple\",\"ball\"]"
   ]
  },
  {
   "cell_type": "code",
   "execution_count": null,
   "id": "f92e3cf3",
   "metadata": {},
   "outputs": [],
   "source": [
    "type(a)"
   ]
  },
  {
   "cell_type": "code",
   "execution_count": null,
   "id": "5e03b7c1",
   "metadata": {},
   "outputs": [],
   "source": [
    "a[4]"
   ]
  },
  {
   "cell_type": "code",
   "execution_count": null,
   "id": "45ed891a",
   "metadata": {},
   "outputs": [],
   "source": [
    "a[2:5]"
   ]
  },
  {
   "cell_type": "markdown",
   "id": "4604efc2",
   "metadata": {},
   "source": [
    "**[Exercise]**  \n",
    "How do you access `apple`?"
   ]
  },
  {
   "cell_type": "code",
   "execution_count": null,
   "id": "11652209",
   "metadata": {},
   "outputs": [],
   "source": [
    "a = [1,2,3,[4,'apple']]"
   ]
  },
  {
   "cell_type": "code",
   "execution_count": null,
   "id": "65d3c885",
   "metadata": {},
   "outputs": [],
   "source": [
    "a[3][1]"
   ]
  },
  {
   "cell_type": "markdown",
   "id": "fe9c6eed",
   "metadata": {},
   "source": [
    "How do you access `bat`?"
   ]
  },
  {
   "cell_type": "code",
   "execution_count": null,
   "id": "01e7495a",
   "metadata": {},
   "outputs": [],
   "source": [
    "a = [1,3,[4,\"apple\", ['cat','bat']]]"
   ]
  },
  {
   "cell_type": "code",
   "execution_count": null,
   "id": "4861af09",
   "metadata": {},
   "outputs": [],
   "source": [
    "a[2][2][1]"
   ]
  },
  {
   "cell_type": "markdown",
   "id": "fa3a6025",
   "metadata": {},
   "source": [
    "**append():**  \n",
    "The append() function adds an element to the end of the list."
   ]
  },
  {
   "cell_type": "code",
   "execution_count": null,
   "id": "01c3f10d",
   "metadata": {},
   "outputs": [],
   "source": [
    "my_list = [1, 2, 3]\n",
    "my_list.append(4)\n",
    "print(my_list)"
   ]
  },
  {
   "cell_type": "code",
   "execution_count": null,
   "id": "b20f6c8f",
   "metadata": {},
   "outputs": [],
   "source": [
    "shopping_list = ['book','clothes']\n",
    "shopping_list.append('shoes')"
   ]
  },
  {
   "cell_type": "code",
   "execution_count": null,
   "id": "6dae548f",
   "metadata": {},
   "outputs": [],
   "source": [
    "shopping_list"
   ]
  },
  {
   "cell_type": "code",
   "execution_count": null,
   "id": "b8a262e7",
   "metadata": {},
   "outputs": [],
   "source": [
    "shopping_list.append(4)\n",
    "shopping_list"
   ]
  },
  {
   "cell_type": "code",
   "execution_count": null,
   "id": "9631efc7",
   "metadata": {},
   "outputs": [],
   "source": [
    "shopping_list.append([1,2,3])\n",
    "shopping_list"
   ]
  },
  {
   "cell_type": "markdown",
   "id": "14643f5d",
   "metadata": {},
   "source": [
    "**insert():**  \n",
    "The insert() function inserts an element at a specific index in the list."
   ]
  },
  {
   "cell_type": "code",
   "execution_count": null,
   "id": "450721c3",
   "metadata": {},
   "outputs": [],
   "source": [
    "li = ['apple', 'ball', 'cat']"
   ]
  },
  {
   "cell_type": "code",
   "execution_count": null,
   "id": "973df8bf",
   "metadata": {},
   "outputs": [],
   "source": [
    "li"
   ]
  },
  {
   "cell_type": "code",
   "execution_count": null,
   "id": "98468709",
   "metadata": {},
   "outputs": [],
   "source": [
    "li.insert(2, 'dog')"
   ]
  },
  {
   "cell_type": "code",
   "execution_count": null,
   "id": "fdfd4347",
   "metadata": {},
   "outputs": [],
   "source": [
    "li"
   ]
  },
  {
   "cell_type": "markdown",
   "id": "6f79491f",
   "metadata": {},
   "source": [
    "**clear():**  \n",
    "The clear() function removes all the elements from the list."
   ]
  },
  {
   "cell_type": "code",
   "execution_count": null,
   "id": "50e76720",
   "metadata": {},
   "outputs": [],
   "source": [
    "my_list = [1, 2, 3, 4]\n",
    "my_list.clear()\n",
    "print(my_list)"
   ]
  },
  {
   "cell_type": "markdown",
   "id": "5fd4eeda",
   "metadata": {},
   "source": [
    "**copy():**  \n",
    "The copy() function creates a new copy of the list."
   ]
  },
  {
   "cell_type": "code",
   "execution_count": null,
   "id": "ac5b03dc",
   "metadata": {},
   "outputs": [],
   "source": [
    "my_list = [1, 2, 3]\n",
    "new_list = my_list.copy()\n",
    "print(new_list)"
   ]
  },
  {
   "cell_type": "markdown",
   "id": "753b2a65",
   "metadata": {},
   "source": [
    "**count():**  \n",
    "The count() function returns the number of occurrences of a specific element in the list."
   ]
  },
  {
   "cell_type": "code",
   "execution_count": null,
   "id": "99cf90cc",
   "metadata": {},
   "outputs": [],
   "source": [
    "my_list = [1, 2, 3, 2, 2, 4, 2]\n",
    "count = my_list.count(2)\n",
    "print(count)"
   ]
  },
  {
   "cell_type": "markdown",
   "id": "34ecd9aa",
   "metadata": {},
   "source": [
    "**Do the same operation using `for` loop**  \n",
    "Count how many `2` are there in the `my_list`"
   ]
  },
  {
   "cell_type": "code",
   "execution_count": null,
   "id": "c729729a",
   "metadata": {},
   "outputs": [],
   "source": []
  },
  {
   "cell_type": "markdown",
   "id": "abbf933f",
   "metadata": {},
   "source": [
    "**extend():**  \n",
    "The extend() function appends the elements of another list to the end of the current list."
   ]
  },
  {
   "cell_type": "code",
   "execution_count": null,
   "id": "5253e5ca",
   "metadata": {},
   "outputs": [],
   "source": [
    "my_list = [1, 2, 3]\n",
    "other_list = [4, 5, 6]\n",
    "my_list.extend(other_list)\n",
    "print(my_list)"
   ]
  },
  {
   "cell_type": "markdown",
   "id": "a01b6975",
   "metadata": {},
   "source": [
    "**index():**\n",
    "The index() function returns the index of the first occurrence of a specific element in the list."
   ]
  },
  {
   "cell_type": "code",
   "execution_count": null,
   "id": "6514351b",
   "metadata": {},
   "outputs": [],
   "source": [
    "my_list = [1, 3, 3, 'cat', 5]\n",
    "index = my_list.index(3)\n",
    "print(index)"
   ]
  },
  {
   "cell_type": "markdown",
   "id": "60eb42a9",
   "metadata": {},
   "source": [
    "**pop():**  \n",
    "The pop() function removes and returns an element from a specific index (or the last element if no index is specified)."
   ]
  },
  {
   "cell_type": "code",
   "execution_count": null,
   "id": "241aba5c",
   "metadata": {},
   "outputs": [],
   "source": [
    "my_list = [1, 2, 'cat', 4]\n",
    "removed_element = my_list.pop(2) # pops the index 2\n",
    "print(removed_element)\n",
    "print(my_list)"
   ]
  },
  {
   "cell_type": "markdown",
   "id": "58eb5811",
   "metadata": {},
   "source": [
    "**remove():**  \n",
    "The remove() function removes the first occurrence of a specific element from the list."
   ]
  },
  {
   "cell_type": "code",
   "execution_count": null,
   "id": "18eb5fa0",
   "metadata": {},
   "outputs": [],
   "source": [
    "my_list = [1, 2, 3, 2, 4]\n",
    "my_list.remove(2)\n",
    "print(my_list)"
   ]
  },
  {
   "cell_type": "markdown",
   "id": "78376fa4",
   "metadata": {},
   "source": [
    "**reverse():**  \n",
    "The reverse() function reverses the order of elements in the list."
   ]
  },
  {
   "cell_type": "code",
   "execution_count": null,
   "id": "01a06fae",
   "metadata": {},
   "outputs": [],
   "source": [
    "my_list = [1, 2, 3, 4]\n",
    "my_list.reverse()\n",
    "print(my_list)"
   ]
  },
  {
   "cell_type": "code",
   "execution_count": null,
   "id": "a406f6b2",
   "metadata": {},
   "outputs": [],
   "source": [
    "a = ['cat', 'bat', 'mat']\n",
    "a[::-1]"
   ]
  },
  {
   "cell_type": "markdown",
   "id": "e2abe26d",
   "metadata": {},
   "source": [
    "**sort():**  \n",
    "The sort() function sorts the elements of the list in ascending order."
   ]
  },
  {
   "cell_type": "code",
   "execution_count": null,
   "id": "0f46f2a4",
   "metadata": {},
   "outputs": [],
   "source": [
    "my_list = [4, 2, 1, 3]\n",
    "my_list.sort()\n",
    "print(my_list)"
   ]
  },
  {
   "cell_type": "markdown",
   "id": "318bc5b3",
   "metadata": {},
   "source": [
    "**[Exercise]**  \n",
    "\n",
    "- Create an `old_list` ranging from values `1` to `10`.  \n",
    "- Create a blank `new_list = []`.  \n",
    "- Loop through the `old_list` and append only the even numbers to the `new_list`.  \n",
    "- Print the `new_list`.  "
   ]
  },
  {
   "cell_type": "code",
   "execution_count": 2,
   "id": "972b1980",
   "metadata": {},
   "outputs": [
    {
     "data": {
      "text/plain": [
       "[2, 4, 6, 8, 10]"
      ]
     },
     "execution_count": 2,
     "metadata": {},
     "output_type": "execute_result"
    }
   ],
   "source": [
    "old_list = list(range(1,11))\n",
    "new_list = []\n",
    "for i in old_list:\n",
    "    if i%2==0:\n",
    "        new_list.append(i)\n",
    "new_list"
   ]
  },
  {
   "cell_type": "markdown",
   "id": "2a349a80",
   "metadata": {},
   "source": [
    "<a id=\"section-2\"></a>\n",
    "### Dictionary\n",
    "It is a data structure that stores key-value pairs. It is also known as an associative array or hash map."
   ]
  },
  {
   "cell_type": "code",
   "execution_count": 3,
   "id": "bca1b7e5",
   "metadata": {},
   "outputs": [
    {
     "data": {
      "text/plain": [
       "10"
      ]
     },
     "execution_count": 3,
     "metadata": {},
     "output_type": "execute_result"
    }
   ],
   "source": [
    "a = ['Akash', 'Biratagar', 10]\n",
    "# list is identified by its index\n",
    "a[2]"
   ]
  },
  {
   "cell_type": "code",
   "execution_count": 4,
   "id": "11bb36da",
   "metadata": {},
   "outputs": [],
   "source": [
    "a = {\n",
    "    'name': 'Akash',\n",
    "    'address': 'Biratnagar',\n",
    "    'age': 16\n",
    "}"
   ]
  },
  {
   "cell_type": "code",
   "execution_count": 11,
   "id": "b67ccc50",
   "metadata": {},
   "outputs": [
    {
     "data": {
      "text/plain": [
       "dict"
      ]
     },
     "execution_count": 11,
     "metadata": {},
     "output_type": "execute_result"
    }
   ],
   "source": [
    "type(a)"
   ]
  },
  {
   "cell_type": "code",
   "execution_count": 12,
   "id": "a6e767c3",
   "metadata": {},
   "outputs": [
    {
     "data": {
      "text/plain": [
       "'Akash'"
      ]
     },
     "execution_count": 12,
     "metadata": {},
     "output_type": "execute_result"
    }
   ],
   "source": [
    "a['name']"
   ]
  },
  {
   "cell_type": "code",
   "execution_count": 13,
   "id": "25670b5e",
   "metadata": {},
   "outputs": [
    {
     "data": {
      "text/plain": [
       "'Akash'"
      ]
     },
     "execution_count": 13,
     "metadata": {},
     "output_type": "execute_result"
    }
   ],
   "source": [
    "a.get('name')"
   ]
  },
  {
   "cell_type": "code",
   "execution_count": 14,
   "id": "7788b23e",
   "metadata": {},
   "outputs": [
    {
     "data": {
      "text/plain": [
       "'Biratnagar'"
      ]
     },
     "execution_count": 14,
     "metadata": {},
     "output_type": "execute_result"
    }
   ],
   "source": [
    "a['address']"
   ]
  },
  {
   "cell_type": "code",
   "execution_count": 15,
   "id": "2d009035",
   "metadata": {},
   "outputs": [
    {
     "data": {
      "text/plain": [
       "'Biratnagar'"
      ]
     },
     "execution_count": 15,
     "metadata": {},
     "output_type": "execute_result"
    }
   ],
   "source": [
    "a.get('address')"
   ]
  },
  {
   "cell_type": "code",
   "execution_count": 17,
   "id": "8ed47a38",
   "metadata": {},
   "outputs": [],
   "source": [
    "a = {\n",
    "    'name': 'Akash',\n",
    "    'address': 'Biratnagar',\n",
    "    'interests': ['programming', 'football', 'society and politics']\n",
    "}"
   ]
  },
  {
   "cell_type": "markdown",
   "id": "e1a6fddd",
   "metadata": {},
   "source": [
    "**How to access `society and politics`?**"
   ]
  },
  {
   "cell_type": "code",
   "execution_count": 19,
   "id": "007e46db",
   "metadata": {},
   "outputs": [
    {
     "data": {
      "text/plain": [
       "'society and politics'"
      ]
     },
     "execution_count": 19,
     "metadata": {},
     "output_type": "execute_result"
    }
   ],
   "source": [
    "a['interests'][2]"
   ]
  },
  {
   "cell_type": "code",
   "execution_count": 20,
   "id": "696cc055",
   "metadata": {},
   "outputs": [
    {
     "data": {
      "text/plain": [
       "'society and politics'"
      ]
     },
     "execution_count": 20,
     "metadata": {},
     "output_type": "execute_result"
    }
   ],
   "source": [
    "a.get('interests')[2]"
   ]
  },
  {
   "cell_type": "code",
   "execution_count": 22,
   "id": "413f2dd2",
   "metadata": {},
   "outputs": [
    {
     "data": {
      "text/plain": [
       "list"
      ]
     },
     "execution_count": 22,
     "metadata": {},
     "output_type": "execute_result"
    }
   ],
   "source": [
    "type(a.get('interests'))"
   ]
  },
  {
   "cell_type": "markdown",
   "id": "e4fa6d37",
   "metadata": {},
   "source": [
    "Can we add data to the dictionary?"
   ]
  },
  {
   "cell_type": "code",
   "execution_count": 24,
   "id": "deb367b8",
   "metadata": {},
   "outputs": [
    {
     "name": "stdout",
     "output_type": "stream",
     "text": [
      "{'university': 'KU', 'address': 'Dhulikhel'}\n"
     ]
    }
   ],
   "source": [
    "info = {\n",
    "    'university': 'KU',\n",
    "    'address': 'Dhulikhel'\n",
    "}\n",
    "print(info)"
   ]
  },
  {
   "cell_type": "code",
   "execution_count": 25,
   "id": "9f025de6",
   "metadata": {},
   "outputs": [
    {
     "name": "stdout",
     "output_type": "stream",
     "text": [
      "{'university': 'KU', 'address': 'Dhulikhel', 'name': 'Akash'}\n"
     ]
    }
   ],
   "source": [
    "info['name'] = 'Akash'\n",
    "print(info)"
   ]
  },
  {
   "cell_type": "markdown",
   "id": "c46bb188",
   "metadata": {},
   "source": [
    "**Delete a dictionary key value**"
   ]
  },
  {
   "cell_type": "code",
   "execution_count": 26,
   "id": "721a25be",
   "metadata": {},
   "outputs": [],
   "source": [
    "del info['name']"
   ]
  },
  {
   "cell_type": "code",
   "execution_count": 27,
   "id": "fa31cf3f",
   "metadata": {},
   "outputs": [
    {
     "data": {
      "text/plain": [
       "{'university': 'KU', 'address': 'Dhulikhel'}"
      ]
     },
     "execution_count": 27,
     "metadata": {},
     "output_type": "execute_result"
    }
   ],
   "source": [
    "info"
   ]
  },
  {
   "cell_type": "markdown",
   "id": "b9838de8",
   "metadata": {},
   "source": [
    "**Looping through a dictionary**"
   ]
  },
  {
   "cell_type": "code",
   "execution_count": 29,
   "id": "55993dcd",
   "metadata": {},
   "outputs": [
    {
     "name": "stdout",
     "output_type": "stream",
     "text": [
      "university\n",
      "address\n"
     ]
    }
   ],
   "source": [
    "for i in info:\n",
    "    print(i)"
   ]
  },
  {
   "cell_type": "code",
   "execution_count": 36,
   "id": "fbdbaeda",
   "metadata": {},
   "outputs": [
    {
     "name": "stdout",
     "output_type": "stream",
     "text": [
      "university KU\n",
      "address Dhulikhel\n"
     ]
    }
   ],
   "source": [
    "for k,v in info.items():\n",
    "    print(k,v)"
   ]
  },
  {
   "cell_type": "code",
   "execution_count": 34,
   "id": "ff6a0cf7",
   "metadata": {},
   "outputs": [
    {
     "data": {
      "text/plain": [
       "dict_items([('university', 'KU'), ('address', 'Dhulikhel')])"
      ]
     },
     "execution_count": 34,
     "metadata": {},
     "output_type": "execute_result"
    }
   ],
   "source": [
    "info.items()"
   ]
  },
  {
   "cell_type": "markdown",
   "id": "372ef493",
   "metadata": {},
   "source": [
    "**[Exercise]**  \n",
    "\n",
    "- Create a dictionary named `info` with initial data as `institute`:`TechAxis` and `location`:`Kumaripati` and print the dictionary.\n",
    "-----------\n",
    "- Add a new key named `description`:`Techaxis is a training institute` and print the dictionary.\n",
    "-----------\n",
    "- Add a new key named `courses` that contains the value in the form of list `['Python with Data Science','Python with Django','MERN stack development']` and print the dictionary.\n",
    "-----------\n",
    "- Delete the key `description` and print the dictionary.\n",
    "-----------\n",
    "- Edit/Change the course `MERN stack development` to `MERN Fullstack development` and print the dictionary."
   ]
  },
  {
   "cell_type": "code",
   "execution_count": 37,
   "id": "9225e285",
   "metadata": {},
   "outputs": [
    {
     "data": {
      "text/plain": [
       "{'company': 'Techaxis', 'location': 'Kumaripati'}"
      ]
     },
     "execution_count": 37,
     "metadata": {},
     "output_type": "execute_result"
    }
   ],
   "source": [
    "info = {\n",
    "    'company': 'Techaxis',\n",
    "    'location': 'Kumaripati'\n",
    "}\n",
    "info"
   ]
  },
  {
   "cell_type": "code",
   "execution_count": 38,
   "id": "f495e2d6",
   "metadata": {},
   "outputs": [
    {
     "data": {
      "text/plain": [
       "{'company': 'Techaxis',\n",
       " 'location': 'Kumaripati',\n",
       " 'description': 'Techaxis is a training institute'}"
      ]
     },
     "execution_count": 38,
     "metadata": {},
     "output_type": "execute_result"
    }
   ],
   "source": [
    "info['description'] = 'Techaxis is a training institute'\n",
    "info"
   ]
  },
  {
   "cell_type": "code",
   "execution_count": 39,
   "id": "37b79c76",
   "metadata": {},
   "outputs": [
    {
     "data": {
      "text/plain": [
       "{'company': 'Techaxis',\n",
       " 'location': 'Kumaripati',\n",
       " 'description': 'Techaxis is a training institute',\n",
       " 'courses': ['Python with Data Science',\n",
       "  'Python with Django',\n",
       "  'MERN stack development']}"
      ]
     },
     "execution_count": 39,
     "metadata": {},
     "output_type": "execute_result"
    }
   ],
   "source": [
    "info['courses'] = ['Python with Data Science','Python with Django','MERN stack development']\n",
    "info"
   ]
  },
  {
   "cell_type": "code",
   "execution_count": 40,
   "id": "42d63f2a",
   "metadata": {},
   "outputs": [],
   "source": [
    "del info['description']"
   ]
  },
  {
   "cell_type": "code",
   "execution_count": 41,
   "id": "d290241b",
   "metadata": {},
   "outputs": [
    {
     "data": {
      "text/plain": [
       "{'company': 'Techaxis',\n",
       " 'location': 'Kumaripati',\n",
       " 'courses': ['Python with Data Science',\n",
       "  'Python with Django',\n",
       "  'MERN stack development']}"
      ]
     },
     "execution_count": 41,
     "metadata": {},
     "output_type": "execute_result"
    }
   ],
   "source": [
    "info"
   ]
  },
  {
   "cell_type": "code",
   "execution_count": 42,
   "id": "16937c99",
   "metadata": {},
   "outputs": [
    {
     "data": {
      "text/plain": [
       "{'company': 'Techaxis',\n",
       " 'location': 'Kumaripati',\n",
       " 'courses': ['Python with Data Science',\n",
       "  'Python with Django',\n",
       "  'MERN full stack development']}"
      ]
     },
     "execution_count": 42,
     "metadata": {},
     "output_type": "execute_result"
    }
   ],
   "source": [
    "info['courses'][2] = 'MERN full stack development'\n",
    "info"
   ]
  },
  {
   "cell_type": "markdown",
   "id": "8ca7531e",
   "metadata": {},
   "source": [
    "<a id=\"section-3\"></a>\n",
    "### Tuple\n",
    "A tuple is a collection which is ordered and unchangeable.\n",
    "Therefore, unlike lists, they are immutable"
   ]
  },
  {
   "cell_type": "code",
   "execution_count": 3,
   "id": "cb876753",
   "metadata": {},
   "outputs": [],
   "source": [
    "a = (1,2,3,4,5)"
   ]
  },
  {
   "cell_type": "code",
   "execution_count": 2,
   "id": "8a63f587",
   "metadata": {},
   "outputs": [
    {
     "data": {
      "text/plain": [
       "tuple"
      ]
     },
     "execution_count": 2,
     "metadata": {},
     "output_type": "execute_result"
    }
   ],
   "source": [
    "type(a)"
   ]
  },
  {
   "cell_type": "code",
   "execution_count": 45,
   "id": "afe3c95a",
   "metadata": {},
   "outputs": [
    {
     "data": {
      "text/plain": [
       "['__add__',\n",
       " '__class__',\n",
       " '__class_getitem__',\n",
       " '__contains__',\n",
       " '__delattr__',\n",
       " '__dir__',\n",
       " '__doc__',\n",
       " '__eq__',\n",
       " '__format__',\n",
       " '__ge__',\n",
       " '__getattribute__',\n",
       " '__getitem__',\n",
       " '__getnewargs__',\n",
       " '__gt__',\n",
       " '__hash__',\n",
       " '__init__',\n",
       " '__init_subclass__',\n",
       " '__iter__',\n",
       " '__le__',\n",
       " '__len__',\n",
       " '__lt__',\n",
       " '__mul__',\n",
       " '__ne__',\n",
       " '__new__',\n",
       " '__reduce__',\n",
       " '__reduce_ex__',\n",
       " '__repr__',\n",
       " '__rmul__',\n",
       " '__setattr__',\n",
       " '__sizeof__',\n",
       " '__str__',\n",
       " '__subclasshook__',\n",
       " 'count',\n",
       " 'index']"
      ]
     },
     "execution_count": 45,
     "metadata": {},
     "output_type": "execute_result"
    }
   ],
   "source": [
    "dir(a)"
   ]
  },
  {
   "cell_type": "code",
   "execution_count": 53,
   "id": "621b9e03",
   "metadata": {},
   "outputs": [
    {
     "data": {
      "text/plain": [
       "(1, 2, 'apple', 'cat', 5)"
      ]
     },
     "execution_count": 53,
     "metadata": {},
     "output_type": "execute_result"
    }
   ],
   "source": [
    "a = (1,2,'apple','cat',5)\n",
    "a"
   ]
  },
  {
   "cell_type": "code",
   "execution_count": 49,
   "id": "f8635a6f",
   "metadata": {},
   "outputs": [
    {
     "data": {
      "text/plain": [
       "5"
      ]
     },
     "execution_count": 49,
     "metadata": {},
     "output_type": "execute_result"
    }
   ],
   "source": [
    "len(a)"
   ]
  },
  {
   "cell_type": "code",
   "execution_count": 50,
   "id": "0385315a",
   "metadata": {},
   "outputs": [
    {
     "data": {
      "text/plain": [
       "'apple'"
      ]
     },
     "execution_count": 50,
     "metadata": {},
     "output_type": "execute_result"
    }
   ],
   "source": [
    "a[2]"
   ]
  },
  {
   "cell_type": "markdown",
   "id": "827533ca",
   "metadata": {},
   "source": [
    "Can we delete?"
   ]
  },
  {
   "cell_type": "code",
   "execution_count": 51,
   "id": "2f341165",
   "metadata": {},
   "outputs": [
    {
     "ename": "TypeError",
     "evalue": "'tuple' object doesn't support item deletion",
     "output_type": "error",
     "traceback": [
      "\u001b[0;31m---------------------------------------------------------------------------\u001b[0m",
      "\u001b[0;31mTypeError\u001b[0m                                 Traceback (most recent call last)",
      "Cell \u001b[0;32mIn[51], line 1\u001b[0m\n\u001b[0;32m----> 1\u001b[0m \u001b[38;5;28;01mdel\u001b[39;00m a[\u001b[38;5;241m0\u001b[39m]\n",
      "\u001b[0;31mTypeError\u001b[0m: 'tuple' object doesn't support item deletion"
     ]
    }
   ],
   "source": [
    "del a[0]"
   ]
  },
  {
   "cell_type": "code",
   "execution_count": 54,
   "id": "4ea3e9db",
   "metadata": {},
   "outputs": [
    {
     "data": {
      "text/plain": [
       "(1, 2, 'apple', 'cat', 5)"
      ]
     },
     "execution_count": 54,
     "metadata": {},
     "output_type": "execute_result"
    }
   ],
   "source": [
    "a"
   ]
  },
  {
   "cell_type": "markdown",
   "id": "5db98c3c",
   "metadata": {},
   "source": [
    "Can we update?"
   ]
  },
  {
   "cell_type": "code",
   "execution_count": 4,
   "id": "42320a9a",
   "metadata": {},
   "outputs": [
    {
     "ename": "TypeError",
     "evalue": "'tuple' object does not support item assignment",
     "output_type": "error",
     "traceback": [
      "\u001b[0;31m---------------------------------------------------------------------------\u001b[0m",
      "\u001b[0;31mTypeError\u001b[0m                                 Traceback (most recent call last)",
      "Cell \u001b[0;32mIn[4], line 1\u001b[0m\n\u001b[0;32m----> 1\u001b[0m \u001b[43ma\u001b[49m\u001b[43m[\u001b[49m\u001b[38;5;241;43m2\u001b[39;49m\u001b[43m]\u001b[49m \u001b[38;5;241m=\u001b[39m \u001b[38;5;124m'\u001b[39m\u001b[38;5;124mball\u001b[39m\u001b[38;5;124m'\u001b[39m\n",
      "\u001b[0;31mTypeError\u001b[0m: 'tuple' object does not support item assignment"
     ]
    }
   ],
   "source": [
    "a[2] = 'ball'"
   ]
  },
  {
   "cell_type": "markdown",
   "id": "bb5e29bc",
   "metadata": {},
   "source": [
    "Objects can be repeated"
   ]
  },
  {
   "cell_type": "code",
   "execution_count": 5,
   "id": "9ff6ab0c",
   "metadata": {},
   "outputs": [
    {
     "data": {
      "text/plain": [
       "(1, 2, 'apple', 'cat', 5, 1, 2, 3)"
      ]
     },
     "execution_count": 5,
     "metadata": {},
     "output_type": "execute_result"
    }
   ],
   "source": [
    "a = (1,2,'apple','cat',5,1,2,3)\n",
    "a"
   ]
  },
  {
   "cell_type": "markdown",
   "id": "32d0a657",
   "metadata": {},
   "source": [
    "<a id=\"section-4\"></a>\n",
    "### Set\n",
    "Set is a built-in data structure that represents an ordered collection of unique elements."
   ]
  },
  {
   "cell_type": "code",
   "execution_count": 6,
   "id": "eab80727",
   "metadata": {},
   "outputs": [],
   "source": [
    "a = {1,2,3,4,5}"
   ]
  },
  {
   "cell_type": "code",
   "execution_count": 7,
   "id": "115f15b9",
   "metadata": {},
   "outputs": [
    {
     "data": {
      "text/plain": [
       "set"
      ]
     },
     "execution_count": 7,
     "metadata": {},
     "output_type": "execute_result"
    }
   ],
   "source": [
    "type(a)"
   ]
  },
  {
   "cell_type": "code",
   "execution_count": 8,
   "id": "86e3610d",
   "metadata": {},
   "outputs": [],
   "source": [
    "a = {1,2,3,3,4,5,5,6,6,6,6,8}"
   ]
  },
  {
   "cell_type": "code",
   "execution_count": 9,
   "id": "adff70d2",
   "metadata": {},
   "outputs": [
    {
     "data": {
      "text/plain": [
       "{1, 2, 3, 4, 5, 6, 8}"
      ]
     },
     "execution_count": 9,
     "metadata": {},
     "output_type": "execute_result"
    }
   ],
   "source": [
    "a"
   ]
  },
  {
   "cell_type": "code",
   "execution_count": 14,
   "id": "b47abff7",
   "metadata": {},
   "outputs": [
    {
     "data": {
      "text/plain": [
       "{11, 12, 13, 'cat'}"
      ]
     },
     "execution_count": 14,
     "metadata": {},
     "output_type": "execute_result"
    }
   ],
   "source": [
    "a = {11, 13, 'cat', 12}\n",
    "a"
   ]
  },
  {
   "cell_type": "code",
   "execution_count": 11,
   "id": "2d0676fa",
   "metadata": {},
   "outputs": [
    {
     "data": {
      "text/plain": [
       "['__and__',\n",
       " '__class__',\n",
       " '__class_getitem__',\n",
       " '__contains__',\n",
       " '__delattr__',\n",
       " '__dir__',\n",
       " '__doc__',\n",
       " '__eq__',\n",
       " '__format__',\n",
       " '__ge__',\n",
       " '__getattribute__',\n",
       " '__gt__',\n",
       " '__hash__',\n",
       " '__iand__',\n",
       " '__init__',\n",
       " '__init_subclass__',\n",
       " '__ior__',\n",
       " '__isub__',\n",
       " '__iter__',\n",
       " '__ixor__',\n",
       " '__le__',\n",
       " '__len__',\n",
       " '__lt__',\n",
       " '__ne__',\n",
       " '__new__',\n",
       " '__or__',\n",
       " '__rand__',\n",
       " '__reduce__',\n",
       " '__reduce_ex__',\n",
       " '__repr__',\n",
       " '__ror__',\n",
       " '__rsub__',\n",
       " '__rxor__',\n",
       " '__setattr__',\n",
       " '__sizeof__',\n",
       " '__str__',\n",
       " '__sub__',\n",
       " '__subclasshook__',\n",
       " '__xor__',\n",
       " 'add',\n",
       " 'clear',\n",
       " 'copy',\n",
       " 'difference',\n",
       " 'difference_update',\n",
       " 'discard',\n",
       " 'intersection',\n",
       " 'intersection_update',\n",
       " 'isdisjoint',\n",
       " 'issubset',\n",
       " 'issuperset',\n",
       " 'pop',\n",
       " 'remove',\n",
       " 'symmetric_difference',\n",
       " 'symmetric_difference_update',\n",
       " 'union',\n",
       " 'update']"
      ]
     },
     "execution_count": 11,
     "metadata": {},
     "output_type": "execute_result"
    }
   ],
   "source": [
    "dir(a)"
   ]
  },
  {
   "cell_type": "code",
   "execution_count": 12,
   "id": "62c35955",
   "metadata": {},
   "outputs": [],
   "source": [
    "a.remove(13)"
   ]
  },
  {
   "cell_type": "code",
   "execution_count": 13,
   "id": "0b7ef9c8",
   "metadata": {},
   "outputs": [
    {
     "data": {
      "text/plain": [
       "{11, 12, 'cat'}"
      ]
     },
     "execution_count": 13,
     "metadata": {},
     "output_type": "execute_result"
    }
   ],
   "source": [
    "a"
   ]
  },
  {
   "cell_type": "markdown",
   "id": "e50cbed4",
   "metadata": {},
   "source": [
    "Can we `update` the data in set?  \n",
    "Short answer NO!"
   ]
  },
  {
   "cell_type": "code",
   "execution_count": 17,
   "id": "39192730",
   "metadata": {},
   "outputs": [],
   "source": [
    "a = {1,5,8,3,'apple'}"
   ]
  },
  {
   "cell_type": "code",
   "execution_count": 18,
   "id": "b039448c",
   "metadata": {},
   "outputs": [
    {
     "data": {
      "text/plain": [
       "{1, 3, 5, 8, 'apple'}"
      ]
     },
     "execution_count": 18,
     "metadata": {},
     "output_type": "execute_result"
    }
   ],
   "source": [
    "a"
   ]
  },
  {
   "cell_type": "markdown",
   "id": "f2adb933",
   "metadata": {},
   "source": [
    "However, there is an `update` function in set."
   ]
  },
  {
   "cell_type": "code",
   "execution_count": 19,
   "id": "aa2a359f",
   "metadata": {},
   "outputs": [
    {
     "data": {
      "text/plain": [
       "{1, 3, 5, 6, 8, 9, 'apple'}"
      ]
     },
     "execution_count": 19,
     "metadata": {},
     "output_type": "execute_result"
    }
   ],
   "source": [
    "a.update([9,1,6]) # works like append in list\n",
    "a"
   ]
  },
  {
   "cell_type": "code",
   "execution_count": null,
   "id": "b267c676",
   "metadata": {},
   "outputs": [],
   "source": []
  },
  {
   "cell_type": "markdown",
   "id": "bf93c994",
   "metadata": {},
   "source": [
    "Performing set operations"
   ]
  },
  {
   "cell_type": "code",
   "execution_count": 29,
   "id": "0f4cd5ed",
   "metadata": {},
   "outputs": [],
   "source": [
    "set1 = {1, 2, 3}\n",
    "set2 = {3, 4, 5}"
   ]
  },
  {
   "cell_type": "markdown",
   "id": "8d8e59db",
   "metadata": {},
   "source": [
    "Union of two sets"
   ]
  },
  {
   "cell_type": "code",
   "execution_count": 30,
   "id": "9d985d3e",
   "metadata": {},
   "outputs": [
    {
     "data": {
      "text/plain": [
       "{1, 2, 3, 4, 5}"
      ]
     },
     "execution_count": 30,
     "metadata": {},
     "output_type": "execute_result"
    }
   ],
   "source": [
    "set1.union(set2)"
   ]
  },
  {
   "cell_type": "markdown",
   "id": "82c834df",
   "metadata": {},
   "source": [
    "Intersection of two sets"
   ]
  },
  {
   "cell_type": "code",
   "execution_count": 31,
   "id": "37e255c0",
   "metadata": {},
   "outputs": [
    {
     "data": {
      "text/plain": [
       "{3}"
      ]
     },
     "execution_count": 31,
     "metadata": {},
     "output_type": "execute_result"
    }
   ],
   "source": [
    "set1.intersection(set2)"
   ]
  },
  {
   "cell_type": "markdown",
   "id": "c9ec3080",
   "metadata": {},
   "source": [
    "Difference between two sets"
   ]
  },
  {
   "cell_type": "code",
   "execution_count": 32,
   "id": "9ebc14aa",
   "metadata": {},
   "outputs": [
    {
     "data": {
      "text/plain": [
       "{1, 2}"
      ]
     },
     "execution_count": 32,
     "metadata": {},
     "output_type": "execute_result"
    }
   ],
   "source": [
    "set1.difference(set2)"
   ]
  },
  {
   "cell_type": "markdown",
   "id": "847e39a0",
   "metadata": {},
   "source": [
    "### Exercises\n",
    "\n",
    "1. List Exercises:\n",
    "- a) Create a list of numbers from 1 to 10.\n",
    "- b) Add the number 11 to the end of the list.\n",
    "- c) Remove the number 5 from the list.\n",
    "- d) Sort the list in ascending order.\n",
    "- e) Multiply each element in the list by 2.\n",
    "\n",
    "2. Dictionary Exercises:\n",
    "- a) Create a dictionary that represents a person with keys \"name\", \"age\", and \"country\".\n",
    "- b) Add a new key-value pair to the dictionary for the person's occupation.\n",
    "- c) Print all the keys in the dictionary.\n",
    "- d) Update the person's age to 30.\n",
    "- e) Remove the country key from the dictionary.\n",
    "\n",
    "3. Tuple Exercises:\n",
    "- a) Create a tuple with three elements: \"apple\", \"banana\", \"cherry\".\n",
    "- b) Access the second element of the tuple.\n",
    "- c) Convert the tuple to a list.\n",
    "- d) Check if \"banana\" is present in the tuple.\n",
    "- e) Concatenate the tuple with another tuple containing \"date\" and \"elderberry\".\n",
    "\n",
    "4. Set Exercises:\n",
    "- a) Create a set with the elements 1, 2, 3.\n",
    "- b) Add the element 4 to the set.\n",
    "- c) Remove the element 2 from the set.\n",
    "- d) Check if the set is empty.\n",
    "- e) Create another set with the elements 3, 4, 5 and find the intersection with the first set.\n"
   ]
  },
  {
   "cell_type": "markdown",
   "id": "f203d694",
   "metadata": {},
   "source": [
    "**[Hint]** Set empty check"
   ]
  },
  {
   "cell_type": "code",
   "execution_count": 35,
   "id": "4b7957cf",
   "metadata": {},
   "outputs": [
    {
     "data": {
      "text/plain": [
       "False"
      ]
     },
     "execution_count": 35,
     "metadata": {},
     "output_type": "execute_result"
    }
   ],
   "source": [
    "my_set = {'Alice'}\n",
    "my_set==set() # check if empty"
   ]
  },
  {
   "cell_type": "code",
   "execution_count": 36,
   "id": "708bb7fc",
   "metadata": {},
   "outputs": [
    {
     "data": {
      "text/plain": [
       "{'Alice'}"
      ]
     },
     "execution_count": 36,
     "metadata": {},
     "output_type": "execute_result"
    }
   ],
   "source": [
    "my_set"
   ]
  },
  {
   "cell_type": "code",
   "execution_count": 37,
   "id": "214f4237",
   "metadata": {},
   "outputs": [
    {
     "data": {
      "text/plain": [
       "'Alice'"
      ]
     },
     "execution_count": 37,
     "metadata": {},
     "output_type": "execute_result"
    }
   ],
   "source": [
    "my_set.pop()"
   ]
  },
  {
   "cell_type": "code",
   "execution_count": 38,
   "id": "9bd7324e",
   "metadata": {},
   "outputs": [
    {
     "data": {
      "text/plain": [
       "set()"
      ]
     },
     "execution_count": 38,
     "metadata": {},
     "output_type": "execute_result"
    }
   ],
   "source": [
    "my_set"
   ]
  },
  {
   "cell_type": "code",
   "execution_count": 39,
   "id": "2025811d",
   "metadata": {},
   "outputs": [
    {
     "data": {
      "text/plain": [
       "True"
      ]
     },
     "execution_count": 39,
     "metadata": {},
     "output_type": "execute_result"
    }
   ],
   "source": [
    "my_set==set()"
   ]
  },
  {
   "cell_type": "code",
   "execution_count": null,
   "id": "43cfc44c",
   "metadata": {},
   "outputs": [],
   "source": []
  }
 ],
 "metadata": {
  "kernelspec": {
   "display_name": "Python 3 (ipykernel)",
   "language": "python",
   "name": "python3"
  },
  "language_info": {
   "codemirror_mode": {
    "name": "ipython",
    "version": 3
   },
   "file_extension": ".py",
   "mimetype": "text/x-python",
   "name": "python",
   "nbconvert_exporter": "python",
   "pygments_lexer": "ipython3",
   "version": "3.10.11"
  }
 },
 "nbformat": 4,
 "nbformat_minor": 5
}
