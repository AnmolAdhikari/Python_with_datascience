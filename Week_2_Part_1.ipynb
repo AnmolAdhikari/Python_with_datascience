{
  "cells": [
    {
      "cell_type": "markdown",
      "id": "7884a71a",
      "metadata": {
        "id": "7884a71a"
      },
      "source": [
        "## Contents for this session\n",
        "\n",
        "- [**Python List**](#section-1)\n",
        "    - append\n",
        "    - insert\n",
        "    - clear\n",
        "    - copy\n",
        "    - count\n",
        "    - extend\n",
        "    - index\n",
        "    - pop\n",
        "    - remove\n",
        "    - reverse\n",
        "    - sort\n",
        "- [**Dictionary**](#section-2)\n",
        "- [**Tuple**](#section-3)\n",
        "- [**Set**](#section-4)"
      ]
    },
    {
      "cell_type": "markdown",
      "id": "8248f799",
      "metadata": {
        "id": "8248f799"
      },
      "source": [
        "### Python data structure\n",
        "Python offers several built-in data structures that allow you to organize and store data efficiently. Here are some commonly used data structures in Python.\n"
      ]
    },
    {
      "cell_type": "markdown",
      "id": "3ec9af20",
      "metadata": {
        "id": "3ec9af20"
      },
      "source": [
        "<a id=\"section-1\"></a>\n",
        "### Python List\n",
        "\n",
        "Lists are ordered collections of items enclosed in square brackets (`[]`). They can store different types of elements and can be modified (mutable). You can access elements using their indices, and lists support various operations like adding, removing, and modifying elements."
      ]
    },
    {
      "cell_type": "code",
      "execution_count": null,
      "id": "9998d6ea",
      "metadata": {
        "id": "9998d6ea"
      },
      "outputs": [],
      "source": [
        "a = [1,4,3.5,3,\"apple\",\"ball\"]"
      ]
    },
    {
      "cell_type": "code",
      "execution_count": null,
      "id": "f92e3cf3",
      "metadata": {
        "colab": {
          "base_uri": "https://localhost:8080/"
        },
        "id": "f92e3cf3",
        "outputId": "9eda917e-00d3-466a-9891-352f829d6d8a"
      },
      "outputs": [
        {
          "output_type": "execute_result",
          "data": {
            "text/plain": [
              "list"
            ]
          },
          "metadata": {},
          "execution_count": 2
        }
      ],
      "source": [
        "type(a)"
      ]
    },
    {
      "cell_type": "code",
      "execution_count": null,
      "id": "5e03b7c1",
      "metadata": {
        "colab": {
          "base_uri": "https://localhost:8080/",
          "height": 35
        },
        "id": "5e03b7c1",
        "outputId": "56008ee4-376b-4523-f554-09f84d46aad6"
      },
      "outputs": [
        {
          "output_type": "execute_result",
          "data": {
            "text/plain": [
              "'apple'"
            ],
            "application/vnd.google.colaboratory.intrinsic+json": {
              "type": "string"
            }
          },
          "metadata": {},
          "execution_count": 3
        }
      ],
      "source": [
        "a[4]"
      ]
    },
    {
      "cell_type": "code",
      "execution_count": null,
      "id": "45ed891a",
      "metadata": {
        "colab": {
          "base_uri": "https://localhost:8080/"
        },
        "id": "45ed891a",
        "outputId": "ef4735f7-c336-4135-d574-6e41c3d30a48"
      },
      "outputs": [
        {
          "output_type": "execute_result",
          "data": {
            "text/plain": [
              "[3.5, 3, 'apple']"
            ]
          },
          "metadata": {},
          "execution_count": 4
        }
      ],
      "source": [
        "a[2:5]"
      ]
    },
    {
      "cell_type": "markdown",
      "id": "4604efc2",
      "metadata": {
        "id": "4604efc2"
      },
      "source": [
        "**[Exercise]**  \n",
        "How do you access `apple`?"
      ]
    },
    {
      "cell_type": "code",
      "execution_count": null,
      "id": "11652209",
      "metadata": {
        "id": "11652209"
      },
      "outputs": [],
      "source": [
        "a = [1,2,3,[4,'apple']]"
      ]
    },
    {
      "cell_type": "code",
      "execution_count": null,
      "id": "65d3c885",
      "metadata": {
        "colab": {
          "base_uri": "https://localhost:8080/",
          "height": 35
        },
        "id": "65d3c885",
        "outputId": "e5bbeb20-b2f7-472c-841c-ee24a22fdb3b"
      },
      "outputs": [
        {
          "output_type": "execute_result",
          "data": {
            "text/plain": [
              "'apple'"
            ],
            "application/vnd.google.colaboratory.intrinsic+json": {
              "type": "string"
            }
          },
          "metadata": {},
          "execution_count": 8
        }
      ],
      "source": [
        "a[3][1]"
      ]
    },
    {
      "cell_type": "markdown",
      "id": "fe9c6eed",
      "metadata": {
        "id": "fe9c6eed"
      },
      "source": [
        "How do you access `bat`?"
      ]
    },
    {
      "cell_type": "code",
      "execution_count": null,
      "id": "01e7495a",
      "metadata": {
        "id": "01e7495a"
      },
      "outputs": [],
      "source": [
        "a = [1,3,[4,\"apple\", ['cat','bat']]]"
      ]
    },
    {
      "cell_type": "code",
      "execution_count": null,
      "id": "4861af09",
      "metadata": {
        "id": "4861af09"
      },
      "outputs": [],
      "source": [
        "a[2][2][1]"
      ]
    },
    {
      "cell_type": "markdown",
      "id": "fa3a6025",
      "metadata": {
        "id": "fa3a6025"
      },
      "source": [
        "**append():**  \n",
        "The append() function adds an element to the end of the list."
      ]
    },
    {
      "cell_type": "code",
      "execution_count": null,
      "id": "01c3f10d",
      "metadata": {
        "colab": {
          "base_uri": "https://localhost:8080/"
        },
        "id": "01c3f10d",
        "outputId": "927433df-62ec-4c3b-c719-81eeead484a7"
      },
      "outputs": [
        {
          "output_type": "stream",
          "name": "stdout",
          "text": [
            "[1, 2, 3, 4]\n"
          ]
        }
      ],
      "source": [
        "my_list = [1, 2, 3]\n",
        "my_list.append(4)\n",
        "print(my_list)"
      ]
    },
    {
      "cell_type": "code",
      "execution_count": null,
      "id": "b20f6c8f",
      "metadata": {
        "id": "b20f6c8f"
      },
      "outputs": [],
      "source": [
        "shopping_list = ['book','clothes']\n",
        "shopping_list.append('shoes')"
      ]
    },
    {
      "cell_type": "code",
      "execution_count": null,
      "id": "6dae548f",
      "metadata": {
        "colab": {
          "base_uri": "https://localhost:8080/"
        },
        "id": "6dae548f",
        "outputId": "7001836f-b77c-42f6-8b75-2581d5abc824"
      },
      "outputs": [
        {
          "output_type": "execute_result",
          "data": {
            "text/plain": [
              "['book', 'clothes', 'shoes']"
            ]
          },
          "metadata": {},
          "execution_count": 10
        }
      ],
      "source": [
        "shopping_list"
      ]
    },
    {
      "cell_type": "code",
      "execution_count": null,
      "id": "b8a262e7",
      "metadata": {
        "colab": {
          "base_uri": "https://localhost:8080/"
        },
        "id": "b8a262e7",
        "outputId": "68ec5421-6b63-4c2f-af5c-57c76575d6bf"
      },
      "outputs": [
        {
          "output_type": "execute_result",
          "data": {
            "text/plain": [
              "['book', 'clothes', 'shoes', 4]"
            ]
          },
          "metadata": {},
          "execution_count": 11
        }
      ],
      "source": [
        "shopping_list.append(4)\n",
        "shopping_list"
      ]
    },
    {
      "cell_type": "code",
      "execution_count": null,
      "id": "9631efc7",
      "metadata": {
        "colab": {
          "base_uri": "https://localhost:8080/"
        },
        "id": "9631efc7",
        "outputId": "4532d6bf-e337-48ee-89dd-5aac02d19e7a"
      },
      "outputs": [
        {
          "output_type": "execute_result",
          "data": {
            "text/plain": [
              "['book', 'clothes', 'shoes', 4, [1, 2, 3]]"
            ]
          },
          "metadata": {},
          "execution_count": 12
        }
      ],
      "source": [
        "shopping_list.append([1,2,3])\n",
        "shopping_list"
      ]
    },
    {
      "cell_type": "markdown",
      "id": "14643f5d",
      "metadata": {
        "id": "14643f5d"
      },
      "source": [
        "**insert():**  \n",
        "The insert() function inserts an element at a specific index in the list."
      ]
    },
    {
      "cell_type": "code",
      "execution_count": null,
      "id": "450721c3",
      "metadata": {
        "id": "450721c3"
      },
      "outputs": [],
      "source": [
        "li = ['apple', 'ball', 'cat']"
      ]
    },
    {
      "cell_type": "code",
      "execution_count": null,
      "id": "973df8bf",
      "metadata": {
        "colab": {
          "base_uri": "https://localhost:8080/"
        },
        "id": "973df8bf",
        "outputId": "f4a7ae1f-2c7f-4857-ebf7-358d3104382b"
      },
      "outputs": [
        {
          "output_type": "execute_result",
          "data": {
            "text/plain": [
              "['apple', 'ball', 'cat']"
            ]
          },
          "metadata": {},
          "execution_count": 14
        }
      ],
      "source": [
        "li"
      ]
    },
    {
      "cell_type": "code",
      "execution_count": null,
      "id": "98468709",
      "metadata": {
        "id": "98468709"
      },
      "outputs": [],
      "source": [
        "li.insert(2, 'dog')"
      ]
    },
    {
      "cell_type": "code",
      "execution_count": null,
      "id": "fdfd4347",
      "metadata": {
        "colab": {
          "base_uri": "https://localhost:8080/"
        },
        "id": "fdfd4347",
        "outputId": "2c733fb4-3416-4f88-b353-9997495ffe97"
      },
      "outputs": [
        {
          "output_type": "execute_result",
          "data": {
            "text/plain": [
              "['apple', 'ball', 'dog', 'cat']"
            ]
          },
          "metadata": {},
          "execution_count": 16
        }
      ],
      "source": [
        "li"
      ]
    },
    {
      "cell_type": "markdown",
      "id": "6f79491f",
      "metadata": {
        "id": "6f79491f"
      },
      "source": [
        "**clear():**  \n",
        "The clear() function removes all the elements from the list."
      ]
    },
    {
      "cell_type": "code",
      "execution_count": 1,
      "id": "50e76720",
      "metadata": {
        "id": "50e76720",
        "colab": {
          "base_uri": "https://localhost:8080/"
        },
        "outputId": "69a88996-38ac-437c-faea-69a90b6783c1"
      },
      "outputs": [
        {
          "output_type": "stream",
          "name": "stdout",
          "text": [
            "[]\n"
          ]
        }
      ],
      "source": [
        "my_list = [1, 2, 3, 4]\n",
        "my_list.clear()\n",
        "print(my_list)"
      ]
    },
    {
      "cell_type": "markdown",
      "id": "5fd4eeda",
      "metadata": {
        "id": "5fd4eeda"
      },
      "source": [
        "**copy():**  \n",
        "The copy() function creates a new copy of the list."
      ]
    },
    {
      "cell_type": "code",
      "execution_count": 2,
      "id": "ac5b03dc",
      "metadata": {
        "id": "ac5b03dc",
        "colab": {
          "base_uri": "https://localhost:8080/"
        },
        "outputId": "24aca72e-f15f-467d-e355-c2bccf107808"
      },
      "outputs": [
        {
          "output_type": "stream",
          "name": "stdout",
          "text": [
            "[1, 2, 3]\n"
          ]
        }
      ],
      "source": [
        "my_list = [1, 2, 3]\n",
        "new_list = my_list.copy()\n",
        "print(new_list)"
      ]
    },
    {
      "cell_type": "markdown",
      "id": "753b2a65",
      "metadata": {
        "id": "753b2a65"
      },
      "source": [
        "**count():**  \n",
        "The count() function returns the number of occurrences of a specific element in the list."
      ]
    },
    {
      "cell_type": "code",
      "execution_count": 5,
      "id": "99cf90cc",
      "metadata": {
        "id": "99cf90cc",
        "colab": {
          "base_uri": "https://localhost:8080/"
        },
        "outputId": "c937f449-da12-479a-ac94-87c30be1df80"
      },
      "outputs": [
        {
          "output_type": "stream",
          "name": "stdout",
          "text": [
            "4\n"
          ]
        }
      ],
      "source": [
        "my_list = [1, 2, 3, 2, 2, 4, 2]\n",
        "count = my_list.count(2)\n",
        "print(count)"
      ]
    },
    {
      "cell_type": "markdown",
      "id": "34ecd9aa",
      "metadata": {
        "id": "34ecd9aa"
      },
      "source": [
        "**Do the same operation using `for` loop**  \n",
        "Count how many `2` are there in the `my_list`"
      ]
    },
    {
      "cell_type": "code",
      "execution_count": 4,
      "id": "c729729a",
      "metadata": {
        "id": "c729729a",
        "colab": {
          "base_uri": "https://localhost:8080/"
        },
        "outputId": "3f5a979c-0943-4da7-89fb-50581a41ac4f"
      },
      "outputs": [
        {
          "output_type": "stream",
          "name": "stdout",
          "text": [
            "4\n"
          ]
        }
      ],
      "source": [
        "my_list=[1,2,3,2,2,4,2]\n",
        "count = 0\n",
        "for num in my_list:\n",
        "    if num == 2:\n",
        "        count += 1\n",
        "\n",
        "print( count)"
      ]
    },
    {
      "cell_type": "markdown",
      "id": "abbf933f",
      "metadata": {
        "id": "abbf933f"
      },
      "source": [
        "**extend():**  \n",
        "The extend() function appends the elements of another list to the end of the current list."
      ]
    },
    {
      "cell_type": "code",
      "execution_count": 3,
      "id": "5253e5ca",
      "metadata": {
        "id": "5253e5ca",
        "colab": {
          "base_uri": "https://localhost:8080/"
        },
        "outputId": "4d419b03-b4bc-40c3-82a1-be5180125d20"
      },
      "outputs": [
        {
          "output_type": "stream",
          "name": "stdout",
          "text": [
            "[1, 2, 3, 4, 5, 6]\n"
          ]
        }
      ],
      "source": [
        "my_list = [1, 2, 3]\n",
        "other_list = [4, 5, 6]\n",
        "my_list.extend(other_list)\n",
        "print(my_list)"
      ]
    },
    {
      "cell_type": "markdown",
      "id": "a01b6975",
      "metadata": {
        "id": "a01b6975"
      },
      "source": [
        "**index():**\n",
        "The index() function returns the index of the first occurrence of a specific element in the list."
      ]
    },
    {
      "cell_type": "code",
      "execution_count": 6,
      "id": "6514351b",
      "metadata": {
        "id": "6514351b",
        "colab": {
          "base_uri": "https://localhost:8080/"
        },
        "outputId": "c3809d30-6905-4981-f1a1-4ea2067e3efb"
      },
      "outputs": [
        {
          "output_type": "stream",
          "name": "stdout",
          "text": [
            "1\n"
          ]
        }
      ],
      "source": [
        "my_list = [1, 3, 3, 'cat', 5]\n",
        "index = my_list.index(3)\n",
        "print(index)"
      ]
    },
    {
      "cell_type": "markdown",
      "id": "60eb42a9",
      "metadata": {
        "id": "60eb42a9"
      },
      "source": [
        "**pop():**  \n",
        "The pop() function removes and returns an element from a specific index (or the last element if no index is specified)."
      ]
    },
    {
      "cell_type": "code",
      "execution_count": 7,
      "id": "241aba5c",
      "metadata": {
        "id": "241aba5c",
        "colab": {
          "base_uri": "https://localhost:8080/"
        },
        "outputId": "2df5ba17-c8d1-4110-938a-1c1aec4664f9"
      },
      "outputs": [
        {
          "output_type": "stream",
          "name": "stdout",
          "text": [
            "cat\n",
            "[1, 2, 4]\n"
          ]
        }
      ],
      "source": [
        "my_list = [1, 2, 'cat', 4]\n",
        "removed_element = my_list.pop(2) # pops the index 2\n",
        "print(removed_element)\n",
        "print(my_list)"
      ]
    },
    {
      "cell_type": "markdown",
      "id": "58eb5811",
      "metadata": {
        "id": "58eb5811"
      },
      "source": [
        "**remove():**  \n",
        "The remove() function removes the first occurrence of a specific element from the list."
      ]
    },
    {
      "cell_type": "code",
      "execution_count": 8,
      "id": "18eb5fa0",
      "metadata": {
        "id": "18eb5fa0",
        "colab": {
          "base_uri": "https://localhost:8080/"
        },
        "outputId": "58e9d9b7-8c45-4cd2-b830-d2a627008368"
      },
      "outputs": [
        {
          "output_type": "stream",
          "name": "stdout",
          "text": [
            "[1, 3, 2, 4]\n"
          ]
        }
      ],
      "source": [
        "my_list = [1, 2, 3, 2, 4]\n",
        "my_list.remove(2)\n",
        "print(my_list)"
      ]
    },
    {
      "cell_type": "markdown",
      "id": "78376fa4",
      "metadata": {
        "id": "78376fa4"
      },
      "source": [
        "**reverse():**  \n",
        "The reverse() function reverses the order of elements in the list."
      ]
    },
    {
      "cell_type": "code",
      "execution_count": 9,
      "id": "01a06fae",
      "metadata": {
        "id": "01a06fae",
        "colab": {
          "base_uri": "https://localhost:8080/"
        },
        "outputId": "887ed20b-beeb-4234-b65d-7369f912b52a"
      },
      "outputs": [
        {
          "output_type": "stream",
          "name": "stdout",
          "text": [
            "[4, 3, 2, 1]\n"
          ]
        }
      ],
      "source": [
        "my_list = [1, 2, 3, 4]\n",
        "my_list.reverse()\n",
        "print(my_list)"
      ]
    },
    {
      "cell_type": "code",
      "execution_count": 10,
      "id": "a406f6b2",
      "metadata": {
        "id": "a406f6b2",
        "colab": {
          "base_uri": "https://localhost:8080/"
        },
        "outputId": "ccf14409-65c1-4f5b-ac81-d8f8bcc061a9"
      },
      "outputs": [
        {
          "output_type": "execute_result",
          "data": {
            "text/plain": [
              "['mat', 'bat', 'cat']"
            ]
          },
          "metadata": {},
          "execution_count": 10
        }
      ],
      "source": [
        "a = ['cat', 'bat', 'mat']\n",
        "a[::-1]"
      ]
    },
    {
      "cell_type": "markdown",
      "id": "e2abe26d",
      "metadata": {
        "id": "e2abe26d"
      },
      "source": [
        "**sort():**  \n",
        "The sort() function sorts the elements of the list in ascending order."
      ]
    },
    {
      "cell_type": "code",
      "execution_count": 11,
      "id": "0f46f2a4",
      "metadata": {
        "id": "0f46f2a4",
        "colab": {
          "base_uri": "https://localhost:8080/"
        },
        "outputId": "481e9861-28f0-4fff-9dae-a2c6d1a7f715"
      },
      "outputs": [
        {
          "output_type": "stream",
          "name": "stdout",
          "text": [
            "[1, 2, 3, 4]\n"
          ]
        }
      ],
      "source": [
        "my_list = [4, 2, 1, 3]\n",
        "my_list.sort()\n",
        "print(my_list)"
      ]
    },
    {
      "cell_type": "markdown",
      "id": "318bc5b3",
      "metadata": {
        "id": "318bc5b3"
      },
      "source": [
        "**[Exercise]**  \n",
        "\n",
        "- Create an `old_list` ranging from values `1` to `10`.  \n",
        "- Create a blank `new_list = []`.  \n",
        "- Loop through the `old_list` and append only the even numbers to the `new_list`.  \n",
        "- Print the `new_list`.  "
      ]
    },
    {
      "cell_type": "code",
      "execution_count": null,
      "id": "972b1980",
      "metadata": {
        "id": "972b1980",
        "outputId": "89534d2e-8f2a-4c49-97b0-3b3669367fb7"
      },
      "outputs": [
        {
          "data": {
            "text/plain": [
              "[2, 4, 6, 8, 10]"
            ]
          },
          "execution_count": 2,
          "metadata": {},
          "output_type": "execute_result"
        }
      ],
      "source": [
        "old_list = list(range(1,11))\n",
        "new_list = []\n",
        "for i in old_list:\n",
        "    if i%2==0:\n",
        "        new_list.append(i)\n",
        "new_list"
      ]
    },
    {
      "cell_type": "markdown",
      "id": "2a349a80",
      "metadata": {
        "id": "2a349a80"
      },
      "source": [
        "<a id=\"section-2\"></a>\n",
        "### Dictionary\n",
        "It is a data structure that stores key-value pairs. It is also known as an associative array or hash map."
      ]
    },
    {
      "cell_type": "code",
      "execution_count": 1,
      "id": "bca1b7e5",
      "metadata": {
        "id": "bca1b7e5",
        "outputId": "e868a969-4983-4bf0-a764-b3959a6be960",
        "colab": {
          "base_uri": "https://localhost:8080/"
        }
      },
      "outputs": [
        {
          "output_type": "execute_result",
          "data": {
            "text/plain": [
              "10"
            ]
          },
          "metadata": {},
          "execution_count": 1
        }
      ],
      "source": [
        "a = ['Anmol', 'Biratagar', 10]\n",
        "# list is identified by its index\n",
        "a[2]"
      ]
    },
    {
      "cell_type": "code",
      "execution_count": 2,
      "id": "11bb36da",
      "metadata": {
        "id": "11bb36da"
      },
      "outputs": [],
      "source": [
        "a = {\n",
        "    'name': 'Anmol',\n",
        "    'address': 'Biratnagar',\n",
        "    'age': 16\n",
        "}"
      ]
    },
    {
      "cell_type": "code",
      "execution_count": 3,
      "id": "b67ccc50",
      "metadata": {
        "id": "b67ccc50",
        "outputId": "2b56963e-3ef2-45b6-fdd9-8e381bfd65d1",
        "colab": {
          "base_uri": "https://localhost:8080/"
        }
      },
      "outputs": [
        {
          "output_type": "execute_result",
          "data": {
            "text/plain": [
              "dict"
            ]
          },
          "metadata": {},
          "execution_count": 3
        }
      ],
      "source": [
        "type(a)"
      ]
    },
    {
      "cell_type": "code",
      "execution_count": 4,
      "id": "a6e767c3",
      "metadata": {
        "id": "a6e767c3",
        "outputId": "2b2f2878-c3dd-403a-cda1-75104b81a0de",
        "colab": {
          "base_uri": "https://localhost:8080/",
          "height": 35
        }
      },
      "outputs": [
        {
          "output_type": "execute_result",
          "data": {
            "text/plain": [
              "'Anmol'"
            ],
            "application/vnd.google.colaboratory.intrinsic+json": {
              "type": "string"
            }
          },
          "metadata": {},
          "execution_count": 4
        }
      ],
      "source": [
        "a['name']"
      ]
    },
    {
      "cell_type": "code",
      "execution_count": 5,
      "id": "25670b5e",
      "metadata": {
        "id": "25670b5e",
        "outputId": "cecb92dc-45ac-4828-9b08-a698ecae0e0e",
        "colab": {
          "base_uri": "https://localhost:8080/",
          "height": 35
        }
      },
      "outputs": [
        {
          "output_type": "execute_result",
          "data": {
            "text/plain": [
              "'Anmol'"
            ],
            "application/vnd.google.colaboratory.intrinsic+json": {
              "type": "string"
            }
          },
          "metadata": {},
          "execution_count": 5
        }
      ],
      "source": [
        "a.get('name')"
      ]
    },
    {
      "cell_type": "code",
      "execution_count": 6,
      "id": "7788b23e",
      "metadata": {
        "id": "7788b23e",
        "outputId": "a751f685-909b-40a7-c68c-1bf30106b955",
        "colab": {
          "base_uri": "https://localhost:8080/",
          "height": 35
        }
      },
      "outputs": [
        {
          "output_type": "execute_result",
          "data": {
            "text/plain": [
              "'Biratnagar'"
            ],
            "application/vnd.google.colaboratory.intrinsic+json": {
              "type": "string"
            }
          },
          "metadata": {},
          "execution_count": 6
        }
      ],
      "source": [
        "a['address']"
      ]
    },
    {
      "cell_type": "code",
      "execution_count": 7,
      "id": "2d009035",
      "metadata": {
        "id": "2d009035",
        "outputId": "a20b5ea8-5c8a-48f0-f89c-2b58c34748e6",
        "colab": {
          "base_uri": "https://localhost:8080/",
          "height": 35
        }
      },
      "outputs": [
        {
          "output_type": "execute_result",
          "data": {
            "text/plain": [
              "'Biratnagar'"
            ],
            "application/vnd.google.colaboratory.intrinsic+json": {
              "type": "string"
            }
          },
          "metadata": {},
          "execution_count": 7
        }
      ],
      "source": [
        "a.get('address')"
      ]
    },
    {
      "cell_type": "code",
      "execution_count": 8,
      "id": "8ed47a38",
      "metadata": {
        "id": "8ed47a38"
      },
      "outputs": [],
      "source": [
        "a = {\n",
        "    'name': 'Anmol',\n",
        "    'address': 'Biratnagar',\n",
        "    'interests': ['programming', 'football', 'society and politics']\n",
        "}"
      ]
    },
    {
      "cell_type": "markdown",
      "id": "e1a6fddd",
      "metadata": {
        "id": "e1a6fddd"
      },
      "source": [
        "**How to access `society and politics`?**"
      ]
    },
    {
      "cell_type": "code",
      "execution_count": 9,
      "id": "007e46db",
      "metadata": {
        "id": "007e46db",
        "outputId": "77107cee-e3cf-449c-c55e-7fcb30a7467f",
        "colab": {
          "base_uri": "https://localhost:8080/",
          "height": 35
        }
      },
      "outputs": [
        {
          "output_type": "execute_result",
          "data": {
            "text/plain": [
              "'society and politics'"
            ],
            "application/vnd.google.colaboratory.intrinsic+json": {
              "type": "string"
            }
          },
          "metadata": {},
          "execution_count": 9
        }
      ],
      "source": [
        "a['interests'][2]"
      ]
    },
    {
      "cell_type": "code",
      "execution_count": 10,
      "id": "696cc055",
      "metadata": {
        "id": "696cc055",
        "outputId": "149fdc56-a3b3-4e25-b815-ab32412c27c4",
        "colab": {
          "base_uri": "https://localhost:8080/",
          "height": 35
        }
      },
      "outputs": [
        {
          "output_type": "execute_result",
          "data": {
            "text/plain": [
              "'society and politics'"
            ],
            "application/vnd.google.colaboratory.intrinsic+json": {
              "type": "string"
            }
          },
          "metadata": {},
          "execution_count": 10
        }
      ],
      "source": [
        "a.get('interests')[2]"
      ]
    },
    {
      "cell_type": "code",
      "execution_count": null,
      "id": "413f2dd2",
      "metadata": {
        "id": "413f2dd2",
        "outputId": "996fa307-9d1f-4a84-c204-fb8124985612"
      },
      "outputs": [
        {
          "data": {
            "text/plain": [
              "list"
            ]
          },
          "execution_count": 22,
          "metadata": {},
          "output_type": "execute_result"
        }
      ],
      "source": [
        "type(a.get('interests'))"
      ]
    },
    {
      "cell_type": "markdown",
      "id": "e4fa6d37",
      "metadata": {
        "id": "e4fa6d37"
      },
      "source": [
        "Can we add data to the dictionary?"
      ]
    },
    {
      "cell_type": "code",
      "execution_count": 11,
      "id": "deb367b8",
      "metadata": {
        "id": "deb367b8",
        "outputId": "12e397c5-cb76-4030-8f97-1c6b78a3eeaf",
        "colab": {
          "base_uri": "https://localhost:8080/"
        }
      },
      "outputs": [
        {
          "output_type": "stream",
          "name": "stdout",
          "text": [
            "{'university': 'London Met', 'address': 'Kathmandu'}\n"
          ]
        }
      ],
      "source": [
        "info = {\n",
        "    'university': 'London Met',\n",
        "    'address': 'Kathmandu'\n",
        "}\n",
        "print(info)"
      ]
    },
    {
      "cell_type": "code",
      "execution_count": 12,
      "id": "9f025de6",
      "metadata": {
        "id": "9f025de6",
        "outputId": "de023bba-9f69-450b-cd91-4166f2e21796",
        "colab": {
          "base_uri": "https://localhost:8080/"
        }
      },
      "outputs": [
        {
          "output_type": "stream",
          "name": "stdout",
          "text": [
            "{'university': 'London Met', 'address': 'Kathmandu', 'name': 'Anmol'}\n"
          ]
        }
      ],
      "source": [
        "info['name'] = 'Anmol'\n",
        "print(info)"
      ]
    },
    {
      "cell_type": "markdown",
      "id": "c46bb188",
      "metadata": {
        "id": "c46bb188"
      },
      "source": [
        "**Delete a dictionary key value**"
      ]
    },
    {
      "cell_type": "code",
      "execution_count": 14,
      "id": "721a25be",
      "metadata": {
        "id": "721a25be"
      },
      "outputs": [],
      "source": [
        "del info['name']"
      ]
    },
    {
      "cell_type": "code",
      "execution_count": 15,
      "id": "fa31cf3f",
      "metadata": {
        "id": "fa31cf3f",
        "outputId": "a5b5086e-deeb-4c42-8116-c9f1bec37c17",
        "colab": {
          "base_uri": "https://localhost:8080/"
        }
      },
      "outputs": [
        {
          "output_type": "execute_result",
          "data": {
            "text/plain": [
              "{'university': 'London Met', 'address': 'Kathmandu'}"
            ]
          },
          "metadata": {},
          "execution_count": 15
        }
      ],
      "source": [
        "info"
      ]
    },
    {
      "cell_type": "markdown",
      "id": "b9838de8",
      "metadata": {
        "id": "b9838de8"
      },
      "source": [
        "**Looping through a dictionary**"
      ]
    },
    {
      "cell_type": "code",
      "execution_count": 16,
      "id": "55993dcd",
      "metadata": {
        "id": "55993dcd",
        "outputId": "749aebf4-c262-4620-88a6-e2675995e7aa",
        "colab": {
          "base_uri": "https://localhost:8080/"
        }
      },
      "outputs": [
        {
          "output_type": "stream",
          "name": "stdout",
          "text": [
            "university\n",
            "address\n"
          ]
        }
      ],
      "source": [
        "for i in info:\n",
        "    print(i)"
      ]
    },
    {
      "cell_type": "code",
      "execution_count": 17,
      "id": "fbdbaeda",
      "metadata": {
        "id": "fbdbaeda",
        "outputId": "0a6f5c6f-2363-4382-ae6b-eb9b4837dce3",
        "colab": {
          "base_uri": "https://localhost:8080/"
        }
      },
      "outputs": [
        {
          "output_type": "stream",
          "name": "stdout",
          "text": [
            "university London Met\n",
            "address Kathmandu\n"
          ]
        }
      ],
      "source": [
        "for k,v in info.items():\n",
        "    print(k,v)"
      ]
    },
    {
      "cell_type": "code",
      "execution_count": 18,
      "id": "ff6a0cf7",
      "metadata": {
        "id": "ff6a0cf7",
        "outputId": "3ae1ce22-e269-4e0e-ec96-ce17f26fd9eb",
        "colab": {
          "base_uri": "https://localhost:8080/"
        }
      },
      "outputs": [
        {
          "output_type": "execute_result",
          "data": {
            "text/plain": [
              "dict_items([('university', 'London Met'), ('address', 'Kathmandu')])"
            ]
          },
          "metadata": {},
          "execution_count": 18
        }
      ],
      "source": [
        "info.items()"
      ]
    },
    {
      "cell_type": "markdown",
      "id": "372ef493",
      "metadata": {
        "id": "372ef493"
      },
      "source": [
        "**[Exercise]**  \n",
        "\n",
        "- Create a dictionary named `info` with initial data as `institute`:`TechAxis` and `location`:`Kumaripati` and print the dictionary.\n",
        "-----------\n",
        "- Add a new key named `description`:`Techaxis is a training institute` and print the dictionary.\n",
        "-----------\n",
        "- Add a new key named `courses` that contains the value in the form of list `['Python with Data Science','Python with Django','MERN stack development']` and print the dictionary.\n",
        "-----------\n",
        "- Delete the key `description` and print the dictionary.\n",
        "-----------\n",
        "- Edit/Change the course `MERN stack development` to `MERN Fullstack development` and print the dictionary."
      ]
    },
    {
      "cell_type": "code",
      "execution_count": null,
      "id": "9225e285",
      "metadata": {
        "id": "9225e285",
        "outputId": "de61dc68-be5c-45d6-f6b3-59e92fb7bebf"
      },
      "outputs": [
        {
          "data": {
            "text/plain": [
              "{'company': 'Techaxis', 'location': 'Kumaripati'}"
            ]
          },
          "execution_count": 37,
          "metadata": {},
          "output_type": "execute_result"
        }
      ],
      "source": [
        "info = {\n",
        "    'company': 'Techaxis',\n",
        "    'location': 'Kumaripati'\n",
        "}\n",
        "info"
      ]
    },
    {
      "cell_type": "code",
      "execution_count": null,
      "id": "f495e2d6",
      "metadata": {
        "id": "f495e2d6",
        "outputId": "012ece4b-7433-420e-e597-53cda8599a1e"
      },
      "outputs": [
        {
          "data": {
            "text/plain": [
              "{'company': 'Techaxis',\n",
              " 'location': 'Kumaripati',\n",
              " 'description': 'Techaxis is a training institute'}"
            ]
          },
          "execution_count": 38,
          "metadata": {},
          "output_type": "execute_result"
        }
      ],
      "source": [
        "info['description'] = 'Techaxis is a training institute'\n",
        "info"
      ]
    },
    {
      "cell_type": "code",
      "execution_count": null,
      "id": "37b79c76",
      "metadata": {
        "id": "37b79c76",
        "outputId": "72bb6002-8beb-4fab-9a48-1ee1b77e68af"
      },
      "outputs": [
        {
          "data": {
            "text/plain": [
              "{'company': 'Techaxis',\n",
              " 'location': 'Kumaripati',\n",
              " 'description': 'Techaxis is a training institute',\n",
              " 'courses': ['Python with Data Science',\n",
              "  'Python with Django',\n",
              "  'MERN stack development']}"
            ]
          },
          "execution_count": 39,
          "metadata": {},
          "output_type": "execute_result"
        }
      ],
      "source": [
        "info['courses'] = ['Python with Data Science','Python with Django','MERN stack development']\n",
        "info"
      ]
    },
    {
      "cell_type": "code",
      "execution_count": null,
      "id": "42d63f2a",
      "metadata": {
        "id": "42d63f2a"
      },
      "outputs": [],
      "source": [
        "del info['description']"
      ]
    },
    {
      "cell_type": "code",
      "execution_count": null,
      "id": "d290241b",
      "metadata": {
        "id": "d290241b",
        "outputId": "f982fbc9-e4d5-4c39-c47c-7232e4b6fcea"
      },
      "outputs": [
        {
          "data": {
            "text/plain": [
              "{'company': 'Techaxis',\n",
              " 'location': 'Kumaripati',\n",
              " 'courses': ['Python with Data Science',\n",
              "  'Python with Django',\n",
              "  'MERN stack development']}"
            ]
          },
          "execution_count": 41,
          "metadata": {},
          "output_type": "execute_result"
        }
      ],
      "source": [
        "info"
      ]
    },
    {
      "cell_type": "code",
      "execution_count": null,
      "id": "16937c99",
      "metadata": {
        "id": "16937c99",
        "outputId": "ee4a2221-b61d-4fff-cbca-ac76a6948b89"
      },
      "outputs": [
        {
          "data": {
            "text/plain": [
              "{'company': 'Techaxis',\n",
              " 'location': 'Kumaripati',\n",
              " 'courses': ['Python with Data Science',\n",
              "  'Python with Django',\n",
              "  'MERN full stack development']}"
            ]
          },
          "execution_count": 42,
          "metadata": {},
          "output_type": "execute_result"
        }
      ],
      "source": [
        "info['courses'][2] = 'MERN full stack development'\n",
        "info"
      ]
    },
    {
      "cell_type": "markdown",
      "id": "8ca7531e",
      "metadata": {
        "id": "8ca7531e"
      },
      "source": [
        "<a id=\"section-3\"></a>\n",
        "### Tuple\n",
        "A tuple is a collection which is ordered and unchangeable.\n",
        "Therefore, unlike lists, they are immutable"
      ]
    },
    {
      "cell_type": "code",
      "execution_count": null,
      "id": "cb876753",
      "metadata": {
        "id": "cb876753"
      },
      "outputs": [],
      "source": [
        "a = (1,2,3,4,5)"
      ]
    },
    {
      "cell_type": "code",
      "execution_count": null,
      "id": "8a63f587",
      "metadata": {
        "id": "8a63f587",
        "outputId": "c6559709-7b3b-4868-ef1c-9b52d4d11442"
      },
      "outputs": [
        {
          "data": {
            "text/plain": [
              "tuple"
            ]
          },
          "execution_count": 2,
          "metadata": {},
          "output_type": "execute_result"
        }
      ],
      "source": [
        "type(a)"
      ]
    },
    {
      "cell_type": "code",
      "execution_count": null,
      "id": "afe3c95a",
      "metadata": {
        "id": "afe3c95a",
        "outputId": "13f806d2-3255-4746-c84c-e619c258e5d7"
      },
      "outputs": [
        {
          "data": {
            "text/plain": [
              "['__add__',\n",
              " '__class__',\n",
              " '__class_getitem__',\n",
              " '__contains__',\n",
              " '__delattr__',\n",
              " '__dir__',\n",
              " '__doc__',\n",
              " '__eq__',\n",
              " '__format__',\n",
              " '__ge__',\n",
              " '__getattribute__',\n",
              " '__getitem__',\n",
              " '__getnewargs__',\n",
              " '__gt__',\n",
              " '__hash__',\n",
              " '__init__',\n",
              " '__init_subclass__',\n",
              " '__iter__',\n",
              " '__le__',\n",
              " '__len__',\n",
              " '__lt__',\n",
              " '__mul__',\n",
              " '__ne__',\n",
              " '__new__',\n",
              " '__reduce__',\n",
              " '__reduce_ex__',\n",
              " '__repr__',\n",
              " '__rmul__',\n",
              " '__setattr__',\n",
              " '__sizeof__',\n",
              " '__str__',\n",
              " '__subclasshook__',\n",
              " 'count',\n",
              " 'index']"
            ]
          },
          "execution_count": 45,
          "metadata": {},
          "output_type": "execute_result"
        }
      ],
      "source": [
        "dir(a)"
      ]
    },
    {
      "cell_type": "code",
      "execution_count": null,
      "id": "621b9e03",
      "metadata": {
        "id": "621b9e03",
        "outputId": "4c20d2e4-cb58-4e59-b065-3a8cd560a1e1"
      },
      "outputs": [
        {
          "data": {
            "text/plain": [
              "(1, 2, 'apple', 'cat', 5)"
            ]
          },
          "execution_count": 53,
          "metadata": {},
          "output_type": "execute_result"
        }
      ],
      "source": [
        "a = (1,2,'apple','cat',5)\n",
        "a"
      ]
    },
    {
      "cell_type": "code",
      "execution_count": null,
      "id": "f8635a6f",
      "metadata": {
        "id": "f8635a6f",
        "outputId": "f10fc012-fca3-4827-8ca7-57c981d221ee"
      },
      "outputs": [
        {
          "data": {
            "text/plain": [
              "5"
            ]
          },
          "execution_count": 49,
          "metadata": {},
          "output_type": "execute_result"
        }
      ],
      "source": [
        "len(a)"
      ]
    },
    {
      "cell_type": "code",
      "execution_count": null,
      "id": "0385315a",
      "metadata": {
        "id": "0385315a",
        "outputId": "c0aaaf47-3cf0-4c62-e3bb-37d33cc60176"
      },
      "outputs": [
        {
          "data": {
            "text/plain": [
              "'apple'"
            ]
          },
          "execution_count": 50,
          "metadata": {},
          "output_type": "execute_result"
        }
      ],
      "source": [
        "a[2]"
      ]
    },
    {
      "cell_type": "markdown",
      "id": "827533ca",
      "metadata": {
        "id": "827533ca"
      },
      "source": [
        "Can we delete?"
      ]
    },
    {
      "cell_type": "code",
      "execution_count": null,
      "id": "2f341165",
      "metadata": {
        "id": "2f341165",
        "outputId": "f31c683d-de84-4dda-cdbb-d7fb5c30ebad"
      },
      "outputs": [
        {
          "ename": "TypeError",
          "evalue": "'tuple' object doesn't support item deletion",
          "output_type": "error",
          "traceback": [
            "\u001b[0;31m---------------------------------------------------------------------------\u001b[0m",
            "\u001b[0;31mTypeError\u001b[0m                                 Traceback (most recent call last)",
            "Cell \u001b[0;32mIn[51], line 1\u001b[0m\n\u001b[0;32m----> 1\u001b[0m \u001b[38;5;28;01mdel\u001b[39;00m a[\u001b[38;5;241m0\u001b[39m]\n",
            "\u001b[0;31mTypeError\u001b[0m: 'tuple' object doesn't support item deletion"
          ]
        }
      ],
      "source": [
        "del a[0]"
      ]
    },
    {
      "cell_type": "code",
      "execution_count": null,
      "id": "4ea3e9db",
      "metadata": {
        "id": "4ea3e9db",
        "outputId": "a2ababc5-5241-447a-85d9-607b5d4d3b57"
      },
      "outputs": [
        {
          "data": {
            "text/plain": [
              "(1, 2, 'apple', 'cat', 5)"
            ]
          },
          "execution_count": 54,
          "metadata": {},
          "output_type": "execute_result"
        }
      ],
      "source": [
        "a"
      ]
    },
    {
      "cell_type": "markdown",
      "id": "5db98c3c",
      "metadata": {
        "id": "5db98c3c"
      },
      "source": [
        "Can we update?"
      ]
    },
    {
      "cell_type": "code",
      "execution_count": null,
      "id": "42320a9a",
      "metadata": {
        "id": "42320a9a",
        "outputId": "21953514-de31-4cc1-ecb6-806f13217126"
      },
      "outputs": [
        {
          "ename": "TypeError",
          "evalue": "'tuple' object does not support item assignment",
          "output_type": "error",
          "traceback": [
            "\u001b[0;31m---------------------------------------------------------------------------\u001b[0m",
            "\u001b[0;31mTypeError\u001b[0m                                 Traceback (most recent call last)",
            "Cell \u001b[0;32mIn[4], line 1\u001b[0m\n\u001b[0;32m----> 1\u001b[0m \u001b[43ma\u001b[49m\u001b[43m[\u001b[49m\u001b[38;5;241;43m2\u001b[39;49m\u001b[43m]\u001b[49m \u001b[38;5;241m=\u001b[39m \u001b[38;5;124m'\u001b[39m\u001b[38;5;124mball\u001b[39m\u001b[38;5;124m'\u001b[39m\n",
            "\u001b[0;31mTypeError\u001b[0m: 'tuple' object does not support item assignment"
          ]
        }
      ],
      "source": [
        "a[2] = 'ball'"
      ]
    },
    {
      "cell_type": "markdown",
      "id": "bb5e29bc",
      "metadata": {
        "id": "bb5e29bc"
      },
      "source": [
        "Objects can be repeated"
      ]
    },
    {
      "cell_type": "code",
      "execution_count": null,
      "id": "9ff6ab0c",
      "metadata": {
        "id": "9ff6ab0c",
        "outputId": "253015bb-fa58-4ac3-8842-e4f64f611b28"
      },
      "outputs": [
        {
          "data": {
            "text/plain": [
              "(1, 2, 'apple', 'cat', 5, 1, 2, 3)"
            ]
          },
          "execution_count": 5,
          "metadata": {},
          "output_type": "execute_result"
        }
      ],
      "source": [
        "a = (1,2,'apple','cat',5,1,2,3)\n",
        "a"
      ]
    },
    {
      "cell_type": "markdown",
      "id": "32d0a657",
      "metadata": {
        "id": "32d0a657"
      },
      "source": [
        "<a id=\"section-4\"></a>\n",
        "### Set\n",
        "Set is a built-in data structure that represents an ordered collection of unique elements."
      ]
    },
    {
      "cell_type": "code",
      "execution_count": null,
      "id": "eab80727",
      "metadata": {
        "id": "eab80727"
      },
      "outputs": [],
      "source": [
        "a = {1,2,3,4,5}"
      ]
    },
    {
      "cell_type": "code",
      "execution_count": null,
      "id": "115f15b9",
      "metadata": {
        "id": "115f15b9",
        "outputId": "eb523e84-572e-41fe-d948-822e02c375b9"
      },
      "outputs": [
        {
          "data": {
            "text/plain": [
              "set"
            ]
          },
          "execution_count": 7,
          "metadata": {},
          "output_type": "execute_result"
        }
      ],
      "source": [
        "type(a)"
      ]
    },
    {
      "cell_type": "code",
      "execution_count": 1,
      "id": "86e3610d",
      "metadata": {
        "id": "86e3610d"
      },
      "outputs": [],
      "source": [
        "a = {1,2,3,3,4,5,5,6,6,6,6,8}"
      ]
    },
    {
      "cell_type": "code",
      "execution_count": 2,
      "id": "adff70d2",
      "metadata": {
        "id": "adff70d2",
        "outputId": "0634e713-bc99-4c2a-fb4a-859dda57e118",
        "colab": {
          "base_uri": "https://localhost:8080/"
        }
      },
      "outputs": [
        {
          "output_type": "execute_result",
          "data": {
            "text/plain": [
              "{1, 2, 3, 4, 5, 6, 8}"
            ]
          },
          "metadata": {},
          "execution_count": 2
        }
      ],
      "source": [
        "a"
      ]
    },
    {
      "cell_type": "code",
      "execution_count": 3,
      "id": "b47abff7",
      "metadata": {
        "id": "b47abff7",
        "outputId": "fa86d50d-b3b3-42b9-869d-b5e47cf2876c",
        "colab": {
          "base_uri": "https://localhost:8080/"
        }
      },
      "outputs": [
        {
          "output_type": "execute_result",
          "data": {
            "text/plain": [
              "{11, 12, 13, 'cat'}"
            ]
          },
          "metadata": {},
          "execution_count": 3
        }
      ],
      "source": [
        "a = {11, 13, 'cat', 12}\n",
        "a"
      ]
    },
    {
      "cell_type": "code",
      "execution_count": null,
      "id": "2d0676fa",
      "metadata": {
        "id": "2d0676fa",
        "outputId": "5cd2c1f3-67c0-4d61-ae31-77086d60ec43"
      },
      "outputs": [
        {
          "data": {
            "text/plain": [
              "['__and__',\n",
              " '__class__',\n",
              " '__class_getitem__',\n",
              " '__contains__',\n",
              " '__delattr__',\n",
              " '__dir__',\n",
              " '__doc__',\n",
              " '__eq__',\n",
              " '__format__',\n",
              " '__ge__',\n",
              " '__getattribute__',\n",
              " '__gt__',\n",
              " '__hash__',\n",
              " '__iand__',\n",
              " '__init__',\n",
              " '__init_subclass__',\n",
              " '__ior__',\n",
              " '__isub__',\n",
              " '__iter__',\n",
              " '__ixor__',\n",
              " '__le__',\n",
              " '__len__',\n",
              " '__lt__',\n",
              " '__ne__',\n",
              " '__new__',\n",
              " '__or__',\n",
              " '__rand__',\n",
              " '__reduce__',\n",
              " '__reduce_ex__',\n",
              " '__repr__',\n",
              " '__ror__',\n",
              " '__rsub__',\n",
              " '__rxor__',\n",
              " '__setattr__',\n",
              " '__sizeof__',\n",
              " '__str__',\n",
              " '__sub__',\n",
              " '__subclasshook__',\n",
              " '__xor__',\n",
              " 'add',\n",
              " 'clear',\n",
              " 'copy',\n",
              " 'difference',\n",
              " 'difference_update',\n",
              " 'discard',\n",
              " 'intersection',\n",
              " 'intersection_update',\n",
              " 'isdisjoint',\n",
              " 'issubset',\n",
              " 'issuperset',\n",
              " 'pop',\n",
              " 'remove',\n",
              " 'symmetric_difference',\n",
              " 'symmetric_difference_update',\n",
              " 'union',\n",
              " 'update']"
            ]
          },
          "execution_count": 11,
          "metadata": {},
          "output_type": "execute_result"
        }
      ],
      "source": [
        "dir(a)"
      ]
    },
    {
      "cell_type": "code",
      "execution_count": null,
      "id": "62c35955",
      "metadata": {
        "id": "62c35955"
      },
      "outputs": [],
      "source": [
        "a.remove(13)"
      ]
    },
    {
      "cell_type": "code",
      "execution_count": null,
      "id": "0b7ef9c8",
      "metadata": {
        "id": "0b7ef9c8",
        "outputId": "2e648af4-b648-493e-fb89-f013e997417e"
      },
      "outputs": [
        {
          "data": {
            "text/plain": [
              "{11, 12, 'cat'}"
            ]
          },
          "execution_count": 13,
          "metadata": {},
          "output_type": "execute_result"
        }
      ],
      "source": [
        "a"
      ]
    },
    {
      "cell_type": "markdown",
      "id": "e50cbed4",
      "metadata": {
        "id": "e50cbed4"
      },
      "source": [
        "Can we `update` the data in set?  \n",
        "Short answer NO!"
      ]
    },
    {
      "cell_type": "code",
      "execution_count": null,
      "id": "39192730",
      "metadata": {
        "id": "39192730"
      },
      "outputs": [],
      "source": [
        "a = {1,5,8,3,'apple'}"
      ]
    },
    {
      "cell_type": "code",
      "execution_count": null,
      "id": "b039448c",
      "metadata": {
        "id": "b039448c",
        "outputId": "01b896a2-2117-4655-bab0-5d5341757e4a"
      },
      "outputs": [
        {
          "data": {
            "text/plain": [
              "{1, 3, 5, 8, 'apple'}"
            ]
          },
          "execution_count": 18,
          "metadata": {},
          "output_type": "execute_result"
        }
      ],
      "source": [
        "a"
      ]
    },
    {
      "cell_type": "markdown",
      "id": "f2adb933",
      "metadata": {
        "id": "f2adb933"
      },
      "source": [
        "However, there is an `update` function in set."
      ]
    },
    {
      "cell_type": "code",
      "execution_count": null,
      "id": "aa2a359f",
      "metadata": {
        "id": "aa2a359f",
        "outputId": "cabd6623-c276-410e-d236-9c8a851ea3c4"
      },
      "outputs": [
        {
          "data": {
            "text/plain": [
              "{1, 3, 5, 6, 8, 9, 'apple'}"
            ]
          },
          "execution_count": 19,
          "metadata": {},
          "output_type": "execute_result"
        }
      ],
      "source": [
        "a.update([9,1,6]) # works like append in list\n",
        "a"
      ]
    },
    {
      "cell_type": "code",
      "execution_count": null,
      "id": "b267c676",
      "metadata": {
        "id": "b267c676"
      },
      "outputs": [],
      "source": []
    },
    {
      "cell_type": "markdown",
      "id": "bf93c994",
      "metadata": {
        "id": "bf93c994"
      },
      "source": [
        "Performing set operations"
      ]
    },
    {
      "cell_type": "code",
      "execution_count": null,
      "id": "0f4cd5ed",
      "metadata": {
        "id": "0f4cd5ed"
      },
      "outputs": [],
      "source": [
        "set1 = {1, 2, 3}\n",
        "set2 = {3, 4, 5}"
      ]
    },
    {
      "cell_type": "markdown",
      "id": "8d8e59db",
      "metadata": {
        "id": "8d8e59db"
      },
      "source": [
        "Union of two sets"
      ]
    },
    {
      "cell_type": "code",
      "execution_count": null,
      "id": "9d985d3e",
      "metadata": {
        "id": "9d985d3e",
        "outputId": "b9fa3998-6800-419a-bd52-bf91bea8dc26"
      },
      "outputs": [
        {
          "data": {
            "text/plain": [
              "{1, 2, 3, 4, 5}"
            ]
          },
          "execution_count": 30,
          "metadata": {},
          "output_type": "execute_result"
        }
      ],
      "source": [
        "set1.union(set2)"
      ]
    },
    {
      "cell_type": "markdown",
      "id": "82c834df",
      "metadata": {
        "id": "82c834df"
      },
      "source": [
        "Intersection of two sets"
      ]
    },
    {
      "cell_type": "code",
      "execution_count": null,
      "id": "37e255c0",
      "metadata": {
        "id": "37e255c0",
        "outputId": "80edebe0-be55-4fb5-8831-896de39b0f1b"
      },
      "outputs": [
        {
          "data": {
            "text/plain": [
              "{3}"
            ]
          },
          "execution_count": 31,
          "metadata": {},
          "output_type": "execute_result"
        }
      ],
      "source": [
        "set1.intersection(set2)"
      ]
    },
    {
      "cell_type": "markdown",
      "id": "c9ec3080",
      "metadata": {
        "id": "c9ec3080"
      },
      "source": [
        "Difference between two sets"
      ]
    },
    {
      "cell_type": "code",
      "execution_count": null,
      "id": "9ebc14aa",
      "metadata": {
        "id": "9ebc14aa",
        "outputId": "1a297c67-5f68-49f3-fc71-3e45eb048576"
      },
      "outputs": [
        {
          "data": {
            "text/plain": [
              "{1, 2}"
            ]
          },
          "execution_count": 32,
          "metadata": {},
          "output_type": "execute_result"
        }
      ],
      "source": [
        "set1.difference(set2)"
      ]
    },
    {
      "cell_type": "markdown",
      "id": "847e39a0",
      "metadata": {
        "id": "847e39a0"
      },
      "source": [
        "### Exercises\n",
        "\n",
        "1. List Exercises:\n",
        "- a) Create a list of numbers from 1 to 10.\n",
        "- b) Add the number 11 to the end of the list.\n",
        "- c) Remove the number 5 from the list.\n",
        "- d) Sort the list in ascending order.\n",
        "- e) Multiply each element in the list by 2.\n",
        "\n",
        "2. Dictionary Exercises:\n",
        "- a) Create a dictionary that represents a person with keys \"name\", \"age\", and \"country\".\n",
        "- b) Add a new key-value pair to the dictionary for the person's occupation.\n",
        "- c) Print all the keys in the dictionary.\n",
        "- d) Update the person's age to 30.\n",
        "- e) Remove the country key from the dictionary.\n",
        "\n",
        "3. Tuple Exercises:\n",
        "- a) Create a tuple with three elements: \"apple\", \"banana\", \"cherry\".\n",
        "- b) Access the second element of the tuple.\n",
        "- c) Convert the tuple to a list.\n",
        "- d) Check if \"banana\" is present in the tuple.\n",
        "- e) Concatenate the tuple with another tuple containing \"date\" and \"elderberry\".\n",
        "\n",
        "4. Set Exercises:\n",
        "- a) Create a set with the elements 1, 2, 3.\n",
        "- b) Add the element 4 to the set.\n",
        "- c) Remove the element 2 from the set.\n",
        "- d) Check if the set is empty.\n",
        "- e) Create another set with the elements 3, 4, 5 and find the intersection with the first set.\n"
      ]
    },
    {
      "cell_type": "markdown",
      "id": "f203d694",
      "metadata": {
        "id": "f203d694"
      },
      "source": [
        "**[Hint]** Set empty check"
      ]
    },
    {
      "cell_type": "code",
      "execution_count": null,
      "id": "4b7957cf",
      "metadata": {
        "id": "4b7957cf",
        "outputId": "b030dea1-9984-44a9-a398-9c8511a549b1"
      },
      "outputs": [
        {
          "data": {
            "text/plain": [
              "False"
            ]
          },
          "execution_count": 35,
          "metadata": {},
          "output_type": "execute_result"
        }
      ],
      "source": [
        "my_set = {'Alice'}\n",
        "my_set==set() # check if empty"
      ]
    },
    {
      "cell_type": "code",
      "execution_count": null,
      "id": "708bb7fc",
      "metadata": {
        "id": "708bb7fc",
        "outputId": "0b361912-04a3-459e-98bd-6b92393d1ec5"
      },
      "outputs": [
        {
          "data": {
            "text/plain": [
              "{'Alice'}"
            ]
          },
          "execution_count": 36,
          "metadata": {},
          "output_type": "execute_result"
        }
      ],
      "source": [
        "my_set"
      ]
    },
    {
      "cell_type": "code",
      "execution_count": null,
      "id": "214f4237",
      "metadata": {
        "id": "214f4237",
        "outputId": "d1cbbc47-7a02-4509-b2d6-fa399a948c5a"
      },
      "outputs": [
        {
          "data": {
            "text/plain": [
              "'Alice'"
            ]
          },
          "execution_count": 37,
          "metadata": {},
          "output_type": "execute_result"
        }
      ],
      "source": [
        "my_set.pop()"
      ]
    },
    {
      "cell_type": "code",
      "execution_count": null,
      "id": "9bd7324e",
      "metadata": {
        "id": "9bd7324e",
        "outputId": "5569f419-441f-4cfc-f570-1ffdfb622a6c"
      },
      "outputs": [
        {
          "data": {
            "text/plain": [
              "set()"
            ]
          },
          "execution_count": 38,
          "metadata": {},
          "output_type": "execute_result"
        }
      ],
      "source": [
        "my_set"
      ]
    },
    {
      "cell_type": "code",
      "execution_count": null,
      "id": "2025811d",
      "metadata": {
        "id": "2025811d",
        "outputId": "366eb0eb-a29b-4fc4-ff30-f12b001aedb4"
      },
      "outputs": [
        {
          "data": {
            "text/plain": [
              "True"
            ]
          },
          "execution_count": 39,
          "metadata": {},
          "output_type": "execute_result"
        }
      ],
      "source": [
        "my_set==set()"
      ]
    },
    {
      "cell_type": "code",
      "execution_count": null,
      "id": "43cfc44c",
      "metadata": {
        "id": "43cfc44c"
      },
      "outputs": [],
      "source": []
    }
  ],
  "metadata": {
    "kernelspec": {
      "display_name": "Python 3 (ipykernel)",
      "language": "python",
      "name": "python3"
    },
    "language_info": {
      "codemirror_mode": {
        "name": "ipython",
        "version": 3
      },
      "file_extension": ".py",
      "mimetype": "text/x-python",
      "name": "python",
      "nbconvert_exporter": "python",
      "pygments_lexer": "ipython3",
      "version": "3.10.11"
    },
    "colab": {
      "provenance": []
    }
  },
  "nbformat": 4,
  "nbformat_minor": 5
}